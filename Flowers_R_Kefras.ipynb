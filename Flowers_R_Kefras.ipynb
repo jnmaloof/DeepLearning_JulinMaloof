{
  "nbformat": 4,
  "nbformat_minor": 0,
  "metadata": {
    "colab": {
      "name": "Flowers R Kefras.ipynb",
      "provenance": [],
      "collapsed_sections": [],
      "authorship_tag": "ABX9TyNW71doObtYUzBnvBda+fBw",
      "include_colab_link": true
    },
    "kernelspec": {
      "name": "ir",
      "display_name": "R"
    },
    "language_info": {
      "name": "R"
    },
    "accelerator": "GPU"
  },
  "cells": [
    {
      "cell_type": "markdown",
      "metadata": {
        "id": "view-in-github",
        "colab_type": "text"
      },
      "source": [
        "<a href=\"https://colab.research.google.com/github/jnmaloof/DeepLearning_JulinMaloof/blob/main/Flowers_R_Kefras.ipynb\" target=\"_parent\"><img src=\"https://colab.research.google.com/assets/colab-badge.svg\" alt=\"Open In Colab\"/></a>"
      ]
    },
    {
      "cell_type": "markdown",
      "metadata": {
        "id": "E2_VZb_8K3RM"
      },
      "source": [
        "# Colab notebook for trying to classify flowers\n",
        "\n",
        "This is an R script.  See this [info on how to start an R script in colab](https://towardsdatascience.com/how-to-use-r-in-google-colab-b6e02d736497)\n",
        "\n",
        "\n",
        "Dataset is from kaggle [here](https://www.kaggle.com/rishitchs/final-flowers-course-project-dataset)\n",
        "\n",
        "## Installations and setup"
      ]
    },
    {
      "cell_type": "code",
      "metadata": {
        "colab": {
          "base_uri": "https://localhost:8080/"
        },
        "id": "7NKERgVaLB6e",
        "outputId": "7b2c8d77-701b-4ab1-ab66-e3f59779a83f"
      },
      "source": [
        "install.packages(\"keras\")"
      ],
      "execution_count": 1,
      "outputs": [
        {
          "output_type": "stream",
          "text": [
            "Installing package into ‘/usr/local/lib/R/site-library’\n",
            "(as ‘lib’ is unspecified)\n",
            "\n",
            "also installing the dependencies ‘png’, ‘config’, ‘reticulate’, ‘tensorflow’, ‘tfruns’, ‘zeallot’\n",
            "\n",
            "\n"
          ],
          "name": "stderr"
        }
      ]
    },
    {
      "cell_type": "code",
      "metadata": {
        "colab": {
          "base_uri": "https://localhost:8080/"
        },
        "id": "L2v0gVg8STxI",
        "outputId": "d01dbef5-a0e7-4489-f72f-870db4b1f7b5"
      },
      "source": [
        "library(keras)\n",
        "library(tidyverse)"
      ],
      "execution_count": 2,
      "outputs": [
        {
          "output_type": "stream",
          "text": [
            "Warning message in system(\"timedatectl\", intern = TRUE):\n",
            "“running command 'timedatectl' had status 1”\n",
            "── \u001b[1mAttaching packages\u001b[22m ─────────────────────────────────────── tidyverse 1.3.1 ──\n",
            "\n",
            "\u001b[32m✔\u001b[39m \u001b[34mggplot2\u001b[39m 3.3.3     \u001b[32m✔\u001b[39m \u001b[34mpurrr  \u001b[39m 0.3.4\n",
            "\u001b[32m✔\u001b[39m \u001b[34mtibble \u001b[39m 3.1.1     \u001b[32m✔\u001b[39m \u001b[34mdplyr  \u001b[39m 1.0.5\n",
            "\u001b[32m✔\u001b[39m \u001b[34mtidyr  \u001b[39m 1.1.3     \u001b[32m✔\u001b[39m \u001b[34mstringr\u001b[39m 1.4.0\n",
            "\u001b[32m✔\u001b[39m \u001b[34mreadr  \u001b[39m 1.4.0     \u001b[32m✔\u001b[39m \u001b[34mforcats\u001b[39m 0.5.1\n",
            "\n",
            "── \u001b[1mConflicts\u001b[22m ────────────────────────────────────────── tidyverse_conflicts() ──\n",
            "\u001b[31m✖\u001b[39m \u001b[34mdplyr\u001b[39m::\u001b[32mfilter()\u001b[39m masks \u001b[34mstats\u001b[39m::filter()\n",
            "\u001b[31m✖\u001b[39m \u001b[34mdplyr\u001b[39m::\u001b[32mlag()\u001b[39m    masks \u001b[34mstats\u001b[39m::lag()\n",
            "\n"
          ],
          "name": "stderr"
        }
      ]
    },
    {
      "cell_type": "markdown",
      "metadata": {
        "id": "sU308un81Sy-"
      },
      "source": [
        "## get data from google drive\n",
        "\n",
        "If you upload your zipped file to google drive, then you can download it using the comands here. \n",
        "\n",
        "Your other alternative is to upload it from your laptop, but that is slower.\n",
        "\n",
        "Either way, the data will have to be uploaded/downloaded every time, because we can't mount the google drive to an R runtime.\n",
        "\n"
      ]
    },
    {
      "cell_type": "code",
      "metadata": {
        "colab": {
          "base_uri": "https://localhost:8080/"
        },
        "id": "fLYjNxGN1hHW",
        "outputId": "d4cdb443-5d1e-48cf-c5c8-e153be526831"
      },
      "source": [
        "install.packages(\"googledrive\")\n",
        "library(\"googledrive\")\n",
        "\n",
        "# this next step is required to authenticate google drive.\n",
        "# Check if is running in Colab and redefine is_interactive()\n",
        "if (file.exists(\"/usr/local/lib/python3.7/dist-packages/google/colab/_ipython.py\")) {\n",
        "  install.packages(\"R.utils\")\n",
        "  library(\"R.utils\")\n",
        "  library(\"httr\")\n",
        "  my_check <- function() {return(TRUE)}\n",
        "  reassignInPackage(\"is_interactive\", pkgName = \"httr\", my_check) \n",
        "  options(rlang_interactive=TRUE)\n",
        "}\n",
        "\n",
        "drive_auth(use_oob = TRUE, cache = TRUE)\n"
      ],
      "execution_count": 3,
      "outputs": [
        {
          "output_type": "stream",
          "text": [
            "Installing package into ‘/usr/local/lib/R/site-library’\n",
            "(as ‘lib’ is unspecified)\n",
            "\n",
            "Installing package into ‘/usr/local/lib/R/site-library’\n",
            "(as ‘lib’ is unspecified)\n",
            "\n",
            "also installing the dependencies ‘R.oo’, ‘R.methodsS3’\n",
            "\n",
            "\n",
            "Loading required package: R.oo\n",
            "\n",
            "Loading required package: R.methodsS3\n",
            "\n",
            "R.methodsS3 v1.8.1 (2020-08-26 16:20:06 UTC) successfully loaded. See ?R.methodsS3 for help.\n",
            "\n",
            "R.oo v1.24.0 (2020-08-26 16:11:58 UTC) successfully loaded. See ?R.oo for help.\n",
            "\n",
            "\n",
            "Attaching package: ‘R.oo’\n",
            "\n",
            "\n",
            "The following object is masked from ‘package:R.methodsS3’:\n",
            "\n",
            "    throw\n",
            "\n",
            "\n",
            "The following object is masked from ‘package:keras’:\n",
            "\n",
            "    compile\n",
            "\n",
            "\n",
            "The following objects are masked from ‘package:methods’:\n",
            "\n",
            "    getClasses, getMethods\n",
            "\n",
            "\n",
            "The following objects are masked from ‘package:base’:\n",
            "\n",
            "    attach, detach, load, save\n",
            "\n",
            "\n",
            "R.utils v2.10.1 (2020-08-26 22:50:31 UTC) successfully loaded. See ?R.utils for help.\n",
            "\n",
            "\n",
            "Attaching package: ‘R.utils’\n",
            "\n",
            "\n",
            "The following object is masked from ‘package:tidyr’:\n",
            "\n",
            "    extract\n",
            "\n",
            "\n",
            "The following object is masked from ‘package:keras’:\n",
            "\n",
            "    evaluate\n",
            "\n",
            "\n",
            "The following object is masked from ‘package:utils’:\n",
            "\n",
            "    timestamp\n",
            "\n",
            "\n",
            "The following objects are masked from ‘package:base’:\n",
            "\n",
            "    cat, commandArgs, getOption, inherits, isOpen, nullfile, parse,\n",
            "    warnings\n",
            "\n",
            "\n",
            "Please point your browser to the following url: \n",
            "\n",
            "https://accounts.google.com/o/oauth2/auth?client_id=603366585132-dpeg5tt0et3go5of2374d83ifevk5086.apps.googleusercontent.com&scope=https%3A%2F%2Fwww.googleapis.com%2Fauth%2Fdrive%20https%3A%2F%2Fwww.googleapis.com%2Fauth%2Fuserinfo.email&redirect_uri=urn%3Aietf%3Awg%3Aoauth%3A2.0%3Aoob&response_type=code\n",
            "\n"
          ],
          "name": "stderr"
        },
        {
          "output_type": "stream",
          "text": [
            "Enter authorization code: 4/1AY0e-g5rrOGPsa-5Jo_mg9GbxaXjyTCTFUyTkTFbJQbWDfgO__fu0zu_bpY\n"
          ],
          "name": "stdout"
        }
      ]
    },
    {
      "cell_type": "code",
      "metadata": {
        "colab": {
          "base_uri": "https://localhost:8080/",
          "height": 128
        },
        "id": "ZIvb8Wsg4jPc",
        "outputId": "ec6836fc-65c3-4e3c-a2d2-dd1c9f93cbfc"
      },
      "source": [
        "flowersInfo <- drive_find(\"newFlowers\\\\.zip\", n_max = 1)\n",
        "flowersInfo[,1:2]\n",
        "flowersID <- flowersInfo$id"
      ],
      "execution_count": 4,
      "outputs": [
        {
          "output_type": "display_data",
          "data": {
            "text/plain": [
              "  name           id                               \n",
              "1 newFlowers.zip 1BD_NgV6hytm-D4xtO4JPzwExPcGyh5MI"
            ],
            "text/latex": "A tibble: 1 × 2\n\\begin{tabular}{ll}\n name & id\\\\\n <chr> & <chr>\\\\\n\\hline\n\t newFlowers.zip & 1BD\\_NgV6hytm-D4xtO4JPzwExPcGyh5MI\\\\\n\\end{tabular}\n",
            "text/markdown": "\nA tibble: 1 × 2\n\n| name &lt;chr&gt; | id &lt;chr&gt; |\n|---|---|\n| newFlowers.zip | 1BD_NgV6hytm-D4xtO4JPzwExPcGyh5MI |\n\n",
            "text/html": [
              "<table class=\"dataframe\">\n",
              "<caption>A tibble: 1 × 2</caption>\n",
              "<thead>\n",
              "\t<tr><th scope=col>name</th><th scope=col>id</th></tr>\n",
              "\t<tr><th scope=col>&lt;chr&gt;</th><th scope=col>&lt;chr&gt;</th></tr>\n",
              "</thead>\n",
              "<tbody>\n",
              "\t<tr><td>newFlowers.zip</td><td>1BD_NgV6hytm-D4xtO4JPzwExPcGyh5MI</td></tr>\n",
              "</tbody>\n",
              "</table>\n"
            ]
          },
          "metadata": {
            "tags": []
          }
        }
      ]
    },
    {
      "cell_type": "code",
      "metadata": {
        "colab": {
          "base_uri": "https://localhost:8080/",
          "height": 119
        },
        "id": "gqpsbo6C5G1B",
        "outputId": "81ecd0ec-943c-4680-b512-a2ddf5781608"
      },
      "source": [
        "drive_download(file=as_id(flowersID))\n",
        "dir()"
      ],
      "execution_count": 5,
      "outputs": [
        {
          "output_type": "stream",
          "text": [
            "File downloaded:\n",
            "  * newFlowers.zip\n",
            "Saved locally as:\n",
            "  * newFlowers.zip\n",
            "\n"
          ],
          "name": "stderr"
        },
        {
          "output_type": "display_data",
          "data": {
            "text/plain": [
              "[1] \"newFlowers.zip\" \"sample_data\"   "
            ],
            "text/latex": "\\begin{enumerate*}\n\\item 'newFlowers.zip'\n\\item 'sample\\_data'\n\\end{enumerate*}\n",
            "text/markdown": "1. 'newFlowers.zip'\n2. 'sample_data'\n\n\n",
            "text/html": [
              "<style>\n",
              ".list-inline {list-style: none; margin:0; padding: 0}\n",
              ".list-inline>li {display: inline-block}\n",
              ".list-inline>li:not(:last-child)::after {content: \"\\00b7\"; padding: 0 .5ex}\n",
              "</style>\n",
              "<ol class=list-inline><li>'newFlowers.zip'</li><li>'sample_data'</li></ol>\n"
            ]
          },
          "metadata": {
            "tags": []
          }
        }
      ]
    },
    {
      "cell_type": "code",
      "metadata": {
        "id": "FGrJbh4cbj-c"
      },
      "source": [
        "detach(\"package:R.utils\")\n",
        "detach(\"package:R.oo\")"
      ],
      "execution_count": 6,
      "outputs": []
    },
    {
      "cell_type": "markdown",
      "metadata": {
        "id": "gNADMsEXnimW"
      },
      "source": [
        "## set up data and directories"
      ]
    },
    {
      "cell_type": "code",
      "metadata": {
        "id": "rFYsX3OITuFV",
        "colab": {
          "base_uri": "https://localhost:8080/",
          "height": 34
        },
        "outputId": "c96b16f9-fd97-4ee1-9864-792ffdb8065f"
      },
      "source": [
        "utils::unzip(\"newFlowers.zip\")\n",
        "flowers <- dir(path = \"newFlowers\")\n",
        "flowers"
      ],
      "execution_count": 7,
      "outputs": [
        {
          "output_type": "display_data",
          "data": {
            "text/plain": [
              "[1] \"daisy\"     \"dandelion\" \"rose\"      \"sunflower\" \"tulip\"    "
            ],
            "text/latex": "\\begin{enumerate*}\n\\item 'daisy'\n\\item 'dandelion'\n\\item 'rose'\n\\item 'sunflower'\n\\item 'tulip'\n\\end{enumerate*}\n",
            "text/markdown": "1. 'daisy'\n2. 'dandelion'\n3. 'rose'\n4. 'sunflower'\n5. 'tulip'\n\n\n",
            "text/html": [
              "<style>\n",
              ".list-inline {list-style: none; margin:0; padding: 0}\n",
              ".list-inline>li {display: inline-block}\n",
              ".list-inline>li:not(:last-child)::after {content: \"\\00b7\"; padding: 0 .5ex}\n",
              "</style>\n",
              "<ol class=list-inline><li>'daisy'</li><li>'dandelion'</li><li>'rose'</li><li>'sunflower'</li><li>'tulip'</li></ol>\n"
            ]
          },
          "metadata": {
            "tags": []
          }
        }
      ]
    },
    {
      "cell_type": "code",
      "metadata": {
        "id": "GuLtCI_pYQtD"
      },
      "source": [
        "#tmp as a holder for the T/F that come out of these\n",
        "\n",
        "tmp <- if(dir.exists(\"train\")) file.remove(dir(path = \"train/\", full.names = TRUE, recursive = TRUE))\n",
        "tmp <- if(dir.exists(\"test\")) file.remove(dir(path = \"test/\", full.names = TRUE, recursive = TRUE))\n",
        "tmp <- if(dir.exists(\"validation\")) file.remove(dir(path = \"validation/\", full.names = TRUE, recursive = TRUE))\n",
        "\n",
        "tmp <- if(!dir.exists(\"train\")) dir.create(\"train/\")\n",
        "tmp <- if(!dir.exists(\"test\")) dir.create(\"test/\")\n",
        "tmp <- if(!dir.exists(\"validation\")) dir.create(\"validation/\")\n",
        "\n",
        "tmp <- map(flowers, ~ if(!dir.exists(file.path(\"train\", .x)))\n",
        "                  dir.create(file.path(\"train\", .x ))\n",
        "                  )\n",
        "    \n",
        "tmp <- map(flowers, ~ if(!dir.exists(file.path(\"test\", .x)))\n",
        "                  dir.create(file.path(\"test\", .x ))\n",
        "                  )\n",
        "    \n",
        "tmp <- map(flowers, ~ if(!dir.exists(file.path(\"validation\", .x)))\n",
        "                  dir.create(file.path(\"validation\", .x ))\n",
        "                  )\n",
        "\n"
      ],
      "execution_count": 8,
      "outputs": []
    },
    {
      "cell_type": "code",
      "metadata": {
        "id": "Mp0VAVHNZLPb"
      },
      "source": [
        "# populate directories\n",
        "set.seed(2023)\n",
        "sourcedir <- \"newFlowers\"\n",
        "for(flower in flowers) {\n",
        "  files <- sample(dir(file.path(sourcedir, flower))) #randomizes\n",
        "    for(i in 1:length(files)) {\n",
        "      if (i/length(files) <= 0.2 ) destination <- \"validation\"\n",
        "      if (i/length(files) > 0.2 & i/length(files) <= 0.4) destination <- \"test\"\n",
        "      if (i/length(files) > 0.4 ) destination <- \"train\"\n",
        "      file.copy(from = file.path(sourcedir, flower, files[i]), \n",
        "                to = file.path( destination, flower, files[i]))\n",
        "    } # i loop              \n",
        "} # flower loop"
      ],
      "execution_count": 9,
      "outputs": []
    },
    {
      "cell_type": "code",
      "metadata": {
        "colab": {
          "base_uri": "https://localhost:8080/",
          "height": 170
        },
        "id": "sToBrTViYhij",
        "outputId": "d6891f70-17c6-4db0-c535-c7590bf4cda2"
      },
      "source": [
        "head(dir(\"train/rose\"))\n",
        "head(dir(\"test/rose\"))\n",
        "head(dir(\"validation/rose\"))\n",
        "\n",
        "length(dir(\"test/rose\"))\n",
        "length(dir(\"train/rose\"))\n",
        "length(dir(\"validation/rose\"))\n"
      ],
      "execution_count": 10,
      "outputs": [
        {
          "output_type": "display_data",
          "data": {
            "text/plain": [
              "[1] \"10090824183_d02c613f10_m.jpg\" \"110472418_87b6a3aa98_m.jpg\"  \n",
              "[3] \"11102341464_508d558dfc_n.jpg\" \"11233672494_d8bf0a3dbf_n.jpg\"\n",
              "[5] \"118974357_0faa23cce9_n.jpg\"   \"11944957684_2cc806276e.jpg\"  "
            ],
            "text/latex": "\\begin{enumerate*}\n\\item '10090824183\\_d02c613f10\\_m.jpg'\n\\item '110472418\\_87b6a3aa98\\_m.jpg'\n\\item '11102341464\\_508d558dfc\\_n.jpg'\n\\item '11233672494\\_d8bf0a3dbf\\_n.jpg'\n\\item '118974357\\_0faa23cce9\\_n.jpg'\n\\item '11944957684\\_2cc806276e.jpg'\n\\end{enumerate*}\n",
            "text/markdown": "1. '10090824183_d02c613f10_m.jpg'\n2. '110472418_87b6a3aa98_m.jpg'\n3. '11102341464_508d558dfc_n.jpg'\n4. '11233672494_d8bf0a3dbf_n.jpg'\n5. '118974357_0faa23cce9_n.jpg'\n6. '11944957684_2cc806276e.jpg'\n\n\n",
            "text/html": [
              "<style>\n",
              ".list-inline {list-style: none; margin:0; padding: 0}\n",
              ".list-inline>li {display: inline-block}\n",
              ".list-inline>li:not(:last-child)::after {content: \"\\00b7\"; padding: 0 .5ex}\n",
              "</style>\n",
              "<ol class=list-inline><li>'10090824183_d02c613f10_m.jpg'</li><li>'110472418_87b6a3aa98_m.jpg'</li><li>'11102341464_508d558dfc_n.jpg'</li><li>'11233672494_d8bf0a3dbf_n.jpg'</li><li>'118974357_0faa23cce9_n.jpg'</li><li>'11944957684_2cc806276e.jpg'</li></ol>\n"
            ]
          },
          "metadata": {
            "tags": []
          }
        },
        {
          "output_type": "display_data",
          "data": {
            "text/plain": [
              "[1] \"10894627425_ec76bbc757_n.jpg\" \"12238827553_cf427bfd51_n.jpg\"\n",
              "[3] \"12395698413_c0388278f7.jpg\"   \"13264214185_d6aa79b3bd.jpg\"  \n",
              "[5] \"13929462317_96342a9a44.jpg\"   \"14019883858_e5d2a0ec10_n.jpg\""
            ],
            "text/latex": "\\begin{enumerate*}\n\\item '10894627425\\_ec76bbc757\\_n.jpg'\n\\item '12238827553\\_cf427bfd51\\_n.jpg'\n\\item '12395698413\\_c0388278f7.jpg'\n\\item '13264214185\\_d6aa79b3bd.jpg'\n\\item '13929462317\\_96342a9a44.jpg'\n\\item '14019883858\\_e5d2a0ec10\\_n.jpg'\n\\end{enumerate*}\n",
            "text/markdown": "1. '10894627425_ec76bbc757_n.jpg'\n2. '12238827553_cf427bfd51_n.jpg'\n3. '12395698413_c0388278f7.jpg'\n4. '13264214185_d6aa79b3bd.jpg'\n5. '13929462317_96342a9a44.jpg'\n6. '14019883858_e5d2a0ec10_n.jpg'\n\n\n",
            "text/html": [
              "<style>\n",
              ".list-inline {list-style: none; margin:0; padding: 0}\n",
              ".list-inline>li {display: inline-block}\n",
              ".list-inline>li:not(:last-child)::after {content: \"\\00b7\"; padding: 0 .5ex}\n",
              "</style>\n",
              "<ol class=list-inline><li>'10894627425_ec76bbc757_n.jpg'</li><li>'12238827553_cf427bfd51_n.jpg'</li><li>'12395698413_c0388278f7.jpg'</li><li>'13264214185_d6aa79b3bd.jpg'</li><li>'13929462317_96342a9a44.jpg'</li><li>'14019883858_e5d2a0ec10_n.jpg'</li></ol>\n"
            ]
          },
          "metadata": {
            "tags": []
          }
        },
        {
          "output_type": "display_data",
          "data": {
            "text/plain": [
              "[1] \"102501987_3cdb8e5394_n.jpg\"   \"10503217854_e66a804309.jpg\"  \n",
              "[3] \"12240303_80d87f77a3_n.jpg\"    \"12243068283_ee4c2683e2_n.jpg\"\n",
              "[5] \"12243069253_e512464095_n.jpg\" \"123128873_546b8b7355_n.jpg\"  "
            ],
            "text/latex": "\\begin{enumerate*}\n\\item '102501987\\_3cdb8e5394\\_n.jpg'\n\\item '10503217854\\_e66a804309.jpg'\n\\item '12240303\\_80d87f77a3\\_n.jpg'\n\\item '12243068283\\_ee4c2683e2\\_n.jpg'\n\\item '12243069253\\_e512464095\\_n.jpg'\n\\item '123128873\\_546b8b7355\\_n.jpg'\n\\end{enumerate*}\n",
            "text/markdown": "1. '102501987_3cdb8e5394_n.jpg'\n2. '10503217854_e66a804309.jpg'\n3. '12240303_80d87f77a3_n.jpg'\n4. '12243068283_ee4c2683e2_n.jpg'\n5. '12243069253_e512464095_n.jpg'\n6. '123128873_546b8b7355_n.jpg'\n\n\n",
            "text/html": [
              "<style>\n",
              ".list-inline {list-style: none; margin:0; padding: 0}\n",
              ".list-inline>li {display: inline-block}\n",
              ".list-inline>li:not(:last-child)::after {content: \"\\00b7\"; padding: 0 .5ex}\n",
              "</style>\n",
              "<ol class=list-inline><li>'102501987_3cdb8e5394_n.jpg'</li><li>'10503217854_e66a804309.jpg'</li><li>'12240303_80d87f77a3_n.jpg'</li><li>'12243068283_ee4c2683e2_n.jpg'</li><li>'12243069253_e512464095_n.jpg'</li><li>'123128873_546b8b7355_n.jpg'</li></ol>\n"
            ]
          },
          "metadata": {
            "tags": []
          }
        },
        {
          "output_type": "display_data",
          "data": {
            "text/plain": [
              "[1] 146"
            ],
            "text/latex": "146",
            "text/markdown": "146",
            "text/html": [
              "146"
            ]
          },
          "metadata": {
            "tags": []
          }
        },
        {
          "output_type": "display_data",
          "data": {
            "text/plain": [
              "[1] 437"
            ],
            "text/latex": "437",
            "text/markdown": "437",
            "text/html": [
              "437"
            ]
          },
          "metadata": {
            "tags": []
          }
        },
        {
          "output_type": "display_data",
          "data": {
            "text/plain": [
              "[1] 145"
            ],
            "text/latex": "145",
            "text/markdown": "145",
            "text/html": [
              "145"
            ]
          },
          "metadata": {
            "tags": []
          }
        }
      ]
    },
    {
      "cell_type": "markdown",
      "metadata": {
        "id": "1lV0poTqeBzn"
      },
      "source": [
        "## Set up image generators 1\n"
      ]
    },
    {
      "cell_type": "code",
      "metadata": {
        "id": "pTcve4NUeGOu"
      },
      "source": [
        "rescale_datagen <- image_data_generator(rescale = 1/255)\n",
        "\n",
        "\n",
        "train_generator <- flow_images_from_directory(\n",
        "    \"train\",\n",
        "    rescale_datagen,\n",
        "    batch_size=16,\n",
        "    target_size=c(150,150)\n",
        ")\n",
        "\n",
        "validation_generator <- flow_images_from_directory(\n",
        "    \"validation\",\n",
        "    rescale_datagen,\n",
        "    batch_size=16,\n",
        "    target_size=c(150,150)\n",
        ")\n",
        "\n",
        "test_generator <- flow_images_from_directory(\n",
        "    \"test\",\n",
        "    rescale_datagen,\n",
        "    batch_size=16,\n",
        "    target_size=c(150,150)\n",
        "\n",
        ")"
      ],
      "execution_count": 12,
      "outputs": []
    },
    {
      "cell_type": "markdown",
      "metadata": {
        "id": "wspRbAr4eUTj"
      },
      "source": [
        "## Set up Model 1"
      ]
    },
    {
      "cell_type": "code",
      "metadata": {
        "colab": {
          "base_uri": "https://localhost:8080/"
        },
        "id": "02W4tooZeS27",
        "outputId": "dd69a02b-ed98-4602-e907-ad6965995f4a"
      },
      "source": [
        "model1 <- keras_model_sequential() %>%\n",
        "    layer_conv_2d(filters = 32, kernel_size = c(3,3), activation = \"relu\", input_shape = c(150,150,3)) %>%\n",
        "    layer_max_pooling_2d(pool_size=c(2,2)) %>%\n",
        "    layer_conv_2d(filters = 64, kernel_size = c(3,3), activation = \"relu\") %>%\n",
        "    layer_max_pooling_2d(pool_size=c(2,2)) %>%\n",
        "    layer_conv_2d(filters = 128, kernel_size = c(3,3), activation = \"relu\") %>%\n",
        "    layer_max_pooling_2d(pool_size=c(2,2)) %>%\n",
        "    layer_conv_2d(filters = 128, kernel_size = c(3,3), activation = \"relu\") %>%\n",
        "    layer_max_pooling_2d(pool_size=c(2,2)) %>%\n",
        "    layer_flatten() %>%\n",
        "    layer_dense(units = 512, activation = \"relu\") %>%\n",
        "    layer_dense(units = length(flowers), activation = \"softmax\")\n",
        "\n",
        "# compile it\n",
        "model1 %>% compile(\n",
        "    loss = \"categorical_crossentropy\",\n",
        "    optimizer = \"rmsprop\",\n",
        "    metrics = \"acc\"\n",
        "    )\n",
        "\n",
        "summary(model1)"
      ],
      "execution_count": 13,
      "outputs": [
        {
          "output_type": "stream",
          "text": [
            "Model: \"sequential\"\n",
            "________________________________________________________________________________\n",
            "Layer (type)                        Output Shape                    Param #     \n",
            "================================================================================\n",
            "conv2d_3 (Conv2D)                   (None, 148, 148, 32)            896         \n",
            "________________________________________________________________________________\n",
            "max_pooling2d_3 (MaxPooling2D)      (None, 74, 74, 32)              0           \n",
            "________________________________________________________________________________\n",
            "conv2d_2 (Conv2D)                   (None, 72, 72, 64)              18496       \n",
            "________________________________________________________________________________\n",
            "max_pooling2d_2 (MaxPooling2D)      (None, 36, 36, 64)              0           \n",
            "________________________________________________________________________________\n",
            "conv2d_1 (Conv2D)                   (None, 34, 34, 128)             73856       \n",
            "________________________________________________________________________________\n",
            "max_pooling2d_1 (MaxPooling2D)      (None, 17, 17, 128)             0           \n",
            "________________________________________________________________________________\n",
            "conv2d (Conv2D)                     (None, 15, 15, 128)             147584      \n",
            "________________________________________________________________________________\n",
            "max_pooling2d (MaxPooling2D)        (None, 7, 7, 128)               0           \n",
            "________________________________________________________________________________\n",
            "flatten (Flatten)                   (None, 6272)                    0           \n",
            "________________________________________________________________________________\n",
            "dense_1 (Dense)                     (None, 512)                     3211776     \n",
            "________________________________________________________________________________\n",
            "dense (Dense)                       (None, 5)                       2565        \n",
            "================================================================================\n",
            "Total params: 3,455,173\n",
            "Trainable params: 3,455,173\n",
            "Non-trainable params: 0\n",
            "________________________________________________________________________________\n"
          ],
          "name": "stdout"
        }
      ]
    },
    {
      "cell_type": "code",
      "metadata": {
        "colab": {
          "base_uri": "https://localhost:8080/",
          "height": 85
        },
        "id": "oaUJtpEQeeHI",
        "outputId": "4be59ac1-148b-4a05-c83e-b4611101f77f"
      },
      "source": [
        "# first: how many images do we have?\n",
        "length(dir(\"train\", recursive = TRUE))\n",
        "\n",
        "# 2482, and we are using a batch size of 32, so we should use\n",
        "2482/16 #155 steps per epoch\n",
        "\n",
        "# how many validation images?\n",
        "length(dir(\"validation\", recursive = TRUE)) #825\n",
        "825/16 #51 validation steps"
      ],
      "execution_count": 14,
      "outputs": [
        {
          "output_type": "display_data",
          "data": {
            "text/plain": [
              "[1] 2482"
            ],
            "text/latex": "2482",
            "text/markdown": "2482",
            "text/html": [
              "2482"
            ]
          },
          "metadata": {
            "tags": []
          }
        },
        {
          "output_type": "display_data",
          "data": {
            "text/plain": [
              "[1] 155.125"
            ],
            "text/latex": "155.125",
            "text/markdown": "155.125",
            "text/html": [
              "155.125"
            ]
          },
          "metadata": {
            "tags": []
          }
        },
        {
          "output_type": "display_data",
          "data": {
            "text/plain": [
              "[1] 825"
            ],
            "text/latex": "825",
            "text/markdown": "825",
            "text/html": [
              "825"
            ]
          },
          "metadata": {
            "tags": []
          }
        },
        {
          "output_type": "display_data",
          "data": {
            "text/plain": [
              "[1] 51.5625"
            ],
            "text/latex": "51.5625",
            "text/markdown": "51.5625",
            "text/html": [
              "51.5625"
            ]
          },
          "metadata": {
            "tags": []
          }
        }
      ]
    },
    {
      "cell_type": "code",
      "metadata": {
        "colab": {
          "base_uri": "https://localhost:8080/",
          "height": 187
        },
        "id": "DUQSOED9e6_t",
        "outputId": "bbd47239-b765-4e7b-fbd8-e29c989e6183"
      },
      "source": [
        "system.time(history <- model1 %>% fit(\n",
        "        train_generator,\n",
        "        steps_per_epoch = 155,\n",
        "        epochs = 30,\n",
        "        validation_data = validation_generator,\n",
        "        validation_steps = 51))\n",
        "\n",
        "save_model_hdf5(model1, \"flowers_model1_ep30.hdf5\")\n",
        "drive_put(\"flowers_model1_ep30.hdf5\", \"DeepLearning/Flowers/flowers_model1_ep30.hdf5\")\n",
        "file.remove(\"flowers_model1_ep30.hdf5\")\n",
        "\n",
        "history"
      ],
      "execution_count": 15,
      "outputs": [
        {
          "output_type": "stream",
          "text": [
            "Warning message in fit_generator(., train_generator, steps_per_epoch = 155, epochs = 30, :\n",
            "“`fit_generator` is deprecated. Use `fit` instead, it now accept generators.”\n"
          ],
          "name": "stderr"
        },
        {
          "output_type": "display_data",
          "data": {
            "text/plain": [
              "   user  system elapsed \n",
              "393.554  50.074 346.866 "
            ]
          },
          "metadata": {
            "tags": []
          }
        },
        {
          "output_type": "display_data",
          "data": {
            "text/plain": [
              "\n",
              "Final epoch (plot to see history):\n",
              "    loss: 0.08353\n",
              "     acc: 0.985\n",
              "val_loss: 5.117\n",
              " val_acc: 0.6569 "
            ]
          },
          "metadata": {
            "tags": []
          }
        }
      ]
    },
    {
      "cell_type": "code",
      "metadata": {
        "colab": {
          "base_uri": "https://localhost:8080/",
          "height": 471
        },
        "id": "gwtggdoRfgFS",
        "outputId": "8fa37e85-50f5-4d70-92fc-bbeb89592c6f"
      },
      "source": [
        "plot(history)"
      ],
      "execution_count": 17,
      "outputs": [
        {
          "output_type": "stream",
          "text": [
            "`geom_smooth()` using formula 'y ~ x'\n",
            "\n"
          ],
          "name": "stderr"
        },
        {
          "output_type": "display_data",
          "data": {
            "image/png": "[encoded data removed]",
            "text/plain": [
              "plot without title"
            ]
          },
          "metadata": {
            "tags": [],
            "image/png": {
              "width": 420,
              "height": 420
            }
          }
        }
      ]
    },
    {
      "cell_type": "markdown",
      "metadata": {
        "id": "HhRT0Uo1hw6h"
      },
      "source": [
        "OK maybe 7 epochs is about where validation maxes out.  So refit for 7 epochs and check test.\n"
      ]
    },
    {
      "cell_type": "code",
      "metadata": {
        "colab": {
          "base_uri": "https://localhost:8080/",
          "height": 187
        },
        "id": "8HWLiFj0hvLg",
        "outputId": "6e5835c6-2131-4e6d-c214-7969b8005791"
      },
      "source": [
        "model1 <- keras_model_sequential() %>%\n",
        "    layer_conv_2d(filters = 32, kernel_size = c(3,3), activation = \"relu\", input_shape = c(150,150,3)) %>%\n",
        "    layer_max_pooling_2d(pool_size=c(2,2)) %>%\n",
        "    layer_conv_2d(filters = 64, kernel_size = c(3,3), activation = \"relu\") %>%\n",
        "    layer_max_pooling_2d(pool_size=c(2,2)) %>%\n",
        "    layer_conv_2d(filters = 128, kernel_size = c(3,3), activation = \"relu\") %>%\n",
        "    layer_max_pooling_2d(pool_size=c(2,2)) %>%\n",
        "    layer_conv_2d(filters = 128, kernel_size = c(3,3), activation = \"relu\") %>%\n",
        "    layer_max_pooling_2d(pool_size=c(2,2)) %>%\n",
        "    layer_flatten() %>%\n",
        "    layer_dense(units = 512, activation = \"relu\") %>%\n",
        "    layer_dense(units = length(flowers), activation = \"softmax\")\n",
        "\n",
        "# compile it\n",
        "model1 %>% compile(\n",
        "    loss = \"categorical_crossentropy\",\n",
        "    optimizer = \"rmsprop\",\n",
        "    metrics = \"acc\"\n",
        "    )\n",
        "\n",
        "system.time(history <- model1 %>% fit_generator(\n",
        "        train_generator,\n",
        "        steps_per_epoch = 155,\n",
        "        epochs = 7,\n",
        "        validation_data = validation_generator,\n",
        "        validation_steps = 51))\n",
        "\n",
        "save_model_hdf5(model1, \"flowers_model1_ep7.hdf5\")\n",
        "drive_put(\"flowers_model1_ep7.hdf5\", \"DeepLearning/Flowers/flowers_model1_ep7.hdf5\")\n",
        "file.remove(\"flowers_model1_ep7.hdf5\")\n",
        "\n",
        "history"
      ],
      "execution_count": 30,
      "outputs": [
        {
          "output_type": "stream",
          "text": [
            "Warning message in fit_generator(., train_generator, steps_per_epoch = 155, epochs = 7, :\n",
            "“`fit_generator` is deprecated. Use `fit` instead, it now accept generators.”\n"
          ],
          "name": "stderr"
        },
        {
          "output_type": "display_data",
          "data": {
            "text/plain": [
              "   user  system elapsed \n",
              " 74.133   7.003  62.047 "
            ]
          },
          "metadata": {
            "tags": []
          }
        },
        {
          "output_type": "display_data",
          "data": {
            "text/plain": [
              "\n",
              "Final epoch (plot to see history):\n",
              "    loss: 0.4267\n",
              "     acc: 0.8483\n",
              "val_loss: 1.077\n",
              " val_acc: 0.6961 "
            ]
          },
          "metadata": {
            "tags": []
          }
        }
      ]
    },
    {
      "cell_type": "code",
      "metadata": {
        "colab": {
          "base_uri": "https://localhost:8080/",
          "height": 34
        },
        "id": "sh8C4pirihdO",
        "outputId": "64fce50f-760d-4ae8-f347-25bd38e9623d"
      },
      "source": [
        "results1 <- model1 %>% evaluate(test_generator)\n",
        "results1 %>% round(3)"
      ],
      "execution_count": 32,
      "outputs": [
        {
          "output_type": "display_data",
          "data": {
            "text/plain": [
              " loss   acc \n",
              "1.003 0.680 "
            ],
            "text/latex": "\\begin{description*}\n\\item[loss] 1.003\n\\item[acc] 0.68\n\\end{description*}\n",
            "text/markdown": "loss\n:   1.003acc\n:   0.68\n\n",
            "text/html": [
              "<style>\n",
              ".dl-inline {width: auto; margin:0; padding: 0}\n",
              ".dl-inline>dt, .dl-inline>dd {float: none; width: auto; display: inline-block}\n",
              ".dl-inline>dt::after {content: \":\\0020\"; padding-right: .5ex}\n",
              ".dl-inline>dt:not(:first-of-type) {padding-left: .5ex}\n",
              "</style><dl class=dl-inline><dt>loss</dt><dd>1.003</dd><dt>acc</dt><dd>0.68</dd></dl>\n"
            ]
          },
          "metadata": {
            "tags": []
          }
        }
      ]
    },
    {
      "cell_type": "markdown",
      "metadata": {
        "id": "RwQ8PZ5ikPYb"
      },
      "source": [
        "## Set up image generators 2\n",
        "\n",
        "Here use larger images, larger batch size, and an additional model layer\n"
      ]
    },
    {
      "cell_type": "code",
      "metadata": {
        "id": "emeHJHuCkPYt"
      },
      "source": [
        "rescale_datagen <- image_data_generator(rescale = 1/255)\n",
        "\n",
        "\n",
        "train_generator2 <- flow_images_from_directory(\n",
        "    \"train\",\n",
        "    rescale_datagen,\n",
        "    batch_size=32,\n",
        "    target_size=c(256,256)\n",
        ")\n",
        "\n",
        "validation_generator2 <- flow_images_from_directory(\n",
        "    \"validation\",\n",
        "    rescale_datagen,\n",
        "    batch_size=32,\n",
        "    target_size=c(256,256)\n",
        ")\n",
        "\n",
        "test_generator2 <- flow_images_from_directory(\n",
        "    \"test\",\n",
        "    rescale_datagen,\n",
        "    batch_size=32,\n",
        "    target_size=c(256,256)\n",
        "\n",
        ")"
      ],
      "execution_count": 19,
      "outputs": []
    },
    {
      "cell_type": "markdown",
      "metadata": {
        "id": "grVLvvFXkPYu"
      },
      "source": [
        "## Set up Model 2"
      ]
    },
    {
      "cell_type": "code",
      "metadata": {
        "colab": {
          "base_uri": "https://localhost:8080/"
        },
        "id": "4ZXt8QmgkPYu",
        "outputId": "8d9c053b-06ec-4050-d404-d723ec99f401"
      },
      "source": [
        "model2 <- keras_model_sequential() %>%\n",
        "    layer_conv_2d(filters = 32, kernel_size = c(3,3), activation = \"relu\", input_shape = c(256,256,3)) %>%\n",
        "    layer_max_pooling_2d(pool_size=c(2,2)) %>%\n",
        "    layer_conv_2d(filters = 64, kernel_size = c(3,3), activation = \"relu\") %>%\n",
        "    layer_max_pooling_2d(pool_size=c(2,2)) %>%\n",
        "    layer_conv_2d(filters = 128, kernel_size = c(3,3), activation = \"relu\") %>%\n",
        "    layer_max_pooling_2d(pool_size=c(2,2)) %>%\n",
        "    layer_conv_2d(filters = 128, kernel_size = c(3,3), activation = \"relu\") %>%\n",
        "    layer_max_pooling_2d(pool_size=c(2,2)) %>%\n",
        "    layer_conv_2d(filters = 128, kernel_size = c(3,3), activation = \"relu\") %>%\n",
        "    layer_max_pooling_2d(pool_size=c(2,2)) %>%\n",
        "    layer_flatten() %>%\n",
        "    layer_dense(units = 512, activation = \"relu\") %>%\n",
        "    layer_dense(units = length(flowers), activation = \"softmax\")\n",
        "\n",
        "# compile it\n",
        "model2 %>% compile(\n",
        "    loss = \"categorical_crossentropy\",\n",
        "    optimizer = \"rmsprop\",\n",
        "    metrics = \"acc\"\n",
        "    )\n",
        "\n",
        "summary(model2)"
      ],
      "execution_count": 20,
      "outputs": [
        {
          "output_type": "stream",
          "text": [
            "Model: \"sequential_5\"\n",
            "________________________________________________________________________________\n",
            "Layer (type)                        Output Shape                    Param #     \n",
            "================================================================================\n",
            "conv2d_24 (Conv2D)                  (None, 254, 254, 32)            896         \n",
            "________________________________________________________________________________\n",
            "max_pooling2d_24 (MaxPooling2D)     (None, 127, 127, 32)            0           \n",
            "________________________________________________________________________________\n",
            "conv2d_23 (Conv2D)                  (None, 125, 125, 64)            18496       \n",
            "________________________________________________________________________________\n",
            "max_pooling2d_23 (MaxPooling2D)     (None, 62, 62, 64)              0           \n",
            "________________________________________________________________________________\n",
            "conv2d_22 (Conv2D)                  (None, 60, 60, 128)             73856       \n",
            "________________________________________________________________________________\n",
            "max_pooling2d_22 (MaxPooling2D)     (None, 30, 30, 128)             0           \n",
            "________________________________________________________________________________\n",
            "conv2d_21 (Conv2D)                  (None, 28, 28, 128)             147584      \n",
            "________________________________________________________________________________\n",
            "max_pooling2d_21 (MaxPooling2D)     (None, 14, 14, 128)             0           \n",
            "________________________________________________________________________________\n",
            "conv2d_20 (Conv2D)                  (None, 12, 12, 128)             147584      \n",
            "________________________________________________________________________________\n",
            "max_pooling2d_20 (MaxPooling2D)     (None, 6, 6, 128)               0           \n",
            "________________________________________________________________________________\n",
            "flatten_5 (Flatten)                 (None, 4608)                    0           \n",
            "________________________________________________________________________________\n",
            "dense_11 (Dense)                    (None, 512)                     2359808     \n",
            "________________________________________________________________________________\n",
            "dense_10 (Dense)                    (None, 5)                       2565        \n",
            "================================================================================\n",
            "Total params: 2,750,789\n",
            "Trainable params: 2,750,789\n",
            "Non-trainable params: 0\n",
            "________________________________________________________________________________\n"
          ],
          "name": "stdout"
        }
      ]
    },
    {
      "cell_type": "code",
      "metadata": {
        "colab": {
          "base_uri": "https://localhost:8080/",
          "height": 85
        },
        "id": "HR5BVh54kPYv",
        "outputId": "026476e5-4453-45c0-f750-a4214d3fd429"
      },
      "source": [
        "# first: how many images do we have?\n",
        "length(dir(\"train\", recursive = TRUE))\n",
        "\n",
        "# 2482, and we are using a batch size of 32, so we should use\n",
        "2482/32 #78 steps per epoch\n",
        "\n",
        "# how many validation images?\n",
        "length(dir(\"validation\", recursive = TRUE)) #825\n",
        "825/32 #26 validation steps"
      ],
      "execution_count": 21,
      "outputs": [
        {
          "output_type": "display_data",
          "data": {
            "text/plain": [
              "[1] 2482"
            ],
            "text/latex": "2482",
            "text/markdown": "2482",
            "text/html": [
              "2482"
            ]
          },
          "metadata": {
            "tags": []
          }
        },
        {
          "output_type": "display_data",
          "data": {
            "text/plain": [
              "[1] 77.5625"
            ],
            "text/latex": "77.5625",
            "text/markdown": "77.5625",
            "text/html": [
              "77.5625"
            ]
          },
          "metadata": {
            "tags": []
          }
        },
        {
          "output_type": "display_data",
          "data": {
            "text/plain": [
              "[1] 825"
            ],
            "text/latex": "825",
            "text/markdown": "825",
            "text/html": [
              "825"
            ]
          },
          "metadata": {
            "tags": []
          }
        },
        {
          "output_type": "display_data",
          "data": {
            "text/plain": [
              "[1] 25.78125"
            ],
            "text/latex": "25.78125",
            "text/markdown": "25.78125",
            "text/html": [
              "25.78125"
            ]
          },
          "metadata": {
            "tags": []
          }
        }
      ]
    },
    {
      "cell_type": "code",
      "metadata": {
        "colab": {
          "base_uri": "https://localhost:8080/",
          "height": 153
        },
        "id": "OcN4qKFtkPYx",
        "outputId": "6879f895-5957-455e-9d2c-d81830e912e3"
      },
      "source": [
        "system.time(history2 <- model2 %>% fit(\n",
        "        train_generator2,\n",
        "        steps_per_epoch = 78,\n",
        "        epochs = 30,\n",
        "        validation_data = validation_generator2,\n",
        "        validation_steps = 26))\n",
        "\n",
        "history2"
      ],
      "execution_count": 22,
      "outputs": [
        {
          "output_type": "display_data",
          "data": {
            "text/plain": [
              "   user  system elapsed \n",
              "396.006  45.980 336.075 "
            ]
          },
          "metadata": {
            "tags": []
          }
        },
        {
          "output_type": "display_data",
          "data": {
            "text/plain": [
              "\n",
              "Final epoch (plot to see history):\n",
              "    loss: 0.05112\n",
              "     acc: 0.9855\n",
              "val_loss: 5.232\n",
              " val_acc: 0.6473 "
            ]
          },
          "metadata": {
            "tags": []
          }
        }
      ]
    },
    {
      "cell_type": "code",
      "metadata": {
        "colab": {
          "base_uri": "https://localhost:8080/",
          "height": 471
        },
        "id": "7sgwY5adkPYy",
        "outputId": "27d69bef-5c77-49f8-8a0f-8832be89de8a"
      },
      "source": [
        "plot(history2)"
      ],
      "execution_count": 23,
      "outputs": [
        {
          "output_type": "stream",
          "text": [
            "`geom_smooth()` using formula 'y ~ x'\n",
            "\n"
          ],
          "name": "stderr"
        },
        {
          "output_type": "display_data",
          "data": {
            "image/png": "[encoded data removed]",
            "text/plain": [
              "plot without title"
            ]
          },
          "metadata": {
            "tags": [],
            "image/png": {
              "width": 420,
              "height": 420
            }
          }
        }
      ]
    },
    {
      "cell_type": "markdown",
      "metadata": {
        "id": "vQgugQbbndGG"
      },
      "source": [
        "Refit at 5 epochs"
      ]
    },
    {
      "cell_type": "code",
      "metadata": {
        "colab": {
          "base_uri": "https://localhost:8080/",
          "height": 153
        },
        "id": "CuPV4nrNnfMJ",
        "outputId": "72c98732-6b80-47a9-fef2-c6c76cb52b69"
      },
      "source": [
        "model2 <- keras_model_sequential() %>%\n",
        "    layer_conv_2d(filters = 32, kernel_size = c(3,3), activation = \"relu\", input_shape = c(256,256,3)) %>%\n",
        "    layer_max_pooling_2d(pool_size=c(2,2)) %>%\n",
        "    layer_conv_2d(filters = 64, kernel_size = c(3,3), activation = \"relu\") %>%\n",
        "    layer_max_pooling_2d(pool_size=c(2,2)) %>%\n",
        "    layer_conv_2d(filters = 128, kernel_size = c(3,3), activation = \"relu\") %>%\n",
        "    layer_max_pooling_2d(pool_size=c(2,2)) %>%\n",
        "    layer_conv_2d(filters = 128, kernel_size = c(3,3), activation = \"relu\") %>%\n",
        "    layer_max_pooling_2d(pool_size=c(2,2)) %>%\n",
        "    layer_conv_2d(filters = 128, kernel_size = c(3,3), activation = \"relu\") %>%\n",
        "    layer_max_pooling_2d(pool_size=c(2,2)) %>%\n",
        "    layer_flatten() %>%\n",
        "    layer_dense(units = 512, activation = \"relu\") %>%\n",
        "    layer_dense(units = length(flowers), activation = \"softmax\")\n",
        "\n",
        "# compile it\n",
        "model2 %>% compile(\n",
        "    loss = \"categorical_crossentropy\",\n",
        "    optimizer = \"rmsprop\",\n",
        "    metrics = \"acc\"\n",
        "    )\n",
        "\n",
        "system.time(history2 <- model2 %>% fit(\n",
        "        train_generator2,\n",
        "        steps_per_epoch = 78,\n",
        "        epochs = 5,\n",
        "        validation_data = validation_generator2,\n",
        "        validation_steps = 26))\n",
        "\n",
        "save_model_hdf5(model2, \"flowers_model2_ep5.hdf5\")\n",
        "drive_put(\"flowers_model2_ep5.hdf5\", \"DeepLearning/Flowers/flowers_model2_ep5.hdf5\")\n",
        "file.remove(\"flowers_model2_ep5.hdf5\")\n",
        "\n",
        "history2\n"
      ],
      "execution_count": 33,
      "outputs": [
        {
          "output_type": "display_data",
          "data": {
            "text/plain": [
              "   user  system elapsed \n",
              " 66.272   7.353  55.806 "
            ]
          },
          "metadata": {
            "tags": []
          }
        },
        {
          "output_type": "display_data",
          "data": {
            "text/plain": [
              "\n",
              "Final epoch (plot to see history):\n",
              "    loss: 0.7979\n",
              "     acc: 0.6906\n",
              "val_loss: 0.8985\n",
              " val_acc: 0.6691 "
            ]
          },
          "metadata": {
            "tags": []
          }
        }
      ]
    },
    {
      "cell_type": "code",
      "metadata": {
        "colab": {
          "base_uri": "https://localhost:8080/",
          "height": 34
        },
        "id": "hTlViW1gnpsc",
        "outputId": "cd549f06-620b-4bab-afe9-4c60bfb5c122"
      },
      "source": [
        "results2 <- model2 %>% evaluate(test_generator2)\n",
        "results2 %>% round(3)"
      ],
      "execution_count": 34,
      "outputs": [
        {
          "output_type": "display_data",
          "data": {
            "text/plain": [
              " loss   acc \n",
              "0.867 0.665 "
            ],
            "text/latex": "\\begin{description*}\n\\item[loss] 0.867\n\\item[acc] 0.665\n\\end{description*}\n",
            "text/markdown": "loss\n:   0.867acc\n:   0.665\n\n",
            "text/html": [
              "<style>\n",
              ".dl-inline {width: auto; margin:0; padding: 0}\n",
              ".dl-inline>dt, .dl-inline>dd {float: none; width: auto; display: inline-block}\n",
              ".dl-inline>dt::after {content: \":\\0020\"; padding-right: .5ex}\n",
              ".dl-inline>dt:not(:first-of-type) {padding-left: .5ex}\n",
              "</style><dl class=dl-inline><dt>loss</dt><dd>0.867</dd><dt>acc</dt><dd>0.665</dd></dl>\n"
            ]
          },
          "metadata": {
            "tags": []
          }
        }
      ]
    },
    {
      "cell_type": "code",
      "metadata": {
        "id": "s8X3RSCZkPYz"
      },
      "source": [
        ""
      ],
      "execution_count": 24,
      "outputs": []
    },
    {
      "cell_type": "markdown",
      "metadata": {
        "id": "yPbeUSfb7q3Y"
      },
      "source": [
        "## Set up image generators 3: augmentation\n",
        "\n",
        "Like model 2, but with augmentation"
      ]
    },
    {
      "cell_type": "code",
      "metadata": {
        "id": "5Fp2KrE87q3k"
      },
      "source": [
        "rescale_datagen <- image_data_generator(rescale = 1/255)\n",
        "\n",
        "augment_datagen <- image_data_generator(rescale = 1/255,\n",
        "  rotation_range=90,\n",
        "  width_shift_range=.2,\n",
        "  height_shift_range=.2,\n",
        "  shear_range=.2,\n",
        "  zoom_range=.2,\n",
        "  horizontal_flip=TRUE)\n",
        "\n",
        "train_generator3 <- flow_images_from_directory(\n",
        "    \"train\",\n",
        "    augment_datagen,\n",
        "    batch_size=32,\n",
        "    target_size=c(256,256)\n",
        ")\n",
        "\n",
        "validation_generator3 <- flow_images_from_directory(\n",
        "    \"validation\",\n",
        "    rescale_datagen,\n",
        "    batch_size=32,\n",
        "    target_size=c(256,256)\n",
        ")\n",
        "\n",
        "test_generator3 <- flow_images_from_directory(\n",
        "    \"test\",\n",
        "    rescale_datagen,\n",
        "    batch_size=32,\n",
        "    target_size=c(256,256)\n",
        "\n",
        ")"
      ],
      "execution_count": 11,
      "outputs": []
    },
    {
      "cell_type": "markdown",
      "metadata": {
        "id": "P3drqbY57q3l"
      },
      "source": [
        "## Set up Model 3"
      ]
    },
    {
      "cell_type": "code",
      "metadata": {
        "colab": {
          "base_uri": "https://localhost:8080/"
        },
        "id": "k5vizl4D7q3l",
        "outputId": "38bcebf0-4d12-42d7-d714-a18cb5b7221c"
      },
      "source": [
        "model3 <- keras_model_sequential() %>%\n",
        "    layer_conv_2d(filters = 32, kernel_size = c(3,3), activation = \"relu\", input_shape = c(256,256,3)) %>%\n",
        "    layer_max_pooling_2d(pool_size=c(2,2)) %>%\n",
        "    layer_conv_2d(filters = 64, kernel_size = c(3,3), activation = \"relu\") %>%\n",
        "    layer_max_pooling_2d(pool_size=c(2,2)) %>%\n",
        "    layer_conv_2d(filters = 128, kernel_size = c(3,3), activation = \"relu\") %>%\n",
        "    layer_max_pooling_2d(pool_size=c(2,2)) %>%\n",
        "    layer_conv_2d(filters = 128, kernel_size = c(3,3), activation = \"relu\") %>%\n",
        "    layer_max_pooling_2d(pool_size=c(2,2)) %>%\n",
        "    layer_conv_2d(filters = 128, kernel_size = c(3,3), activation = \"relu\") %>%\n",
        "    layer_max_pooling_2d(pool_size=c(2,2)) %>%\n",
        "    layer_flatten() %>%\n",
        "    layer_dense(units = 512, activation = \"relu\") %>%\n",
        "    layer_dense(units = length(flowers), activation = \"softmax\")\n",
        "\n",
        "# compile it\n",
        "model3 %>% compile(\n",
        "    loss = \"categorical_crossentropy\",\n",
        "    optimizer = \"rmsprop\",\n",
        "    metrics = \"acc\"\n",
        "    )\n",
        "\n",
        "summary(model3)"
      ],
      "execution_count": 12,
      "outputs": [
        {
          "output_type": "stream",
          "text": [
            "Model: \"sequential\"\n",
            "________________________________________________________________________________\n",
            "Layer (type)                        Output Shape                    Param #     \n",
            "================================================================================\n",
            "conv2d_4 (Conv2D)                   (None, 254, 254, 32)            896         \n",
            "________________________________________________________________________________\n",
            "max_pooling2d_4 (MaxPooling2D)      (None, 127, 127, 32)            0           \n",
            "________________________________________________________________________________\n",
            "conv2d_3 (Conv2D)                   (None, 125, 125, 64)            18496       \n",
            "________________________________________________________________________________\n",
            "max_pooling2d_3 (MaxPooling2D)      (None, 62, 62, 64)              0           \n",
            "________________________________________________________________________________\n",
            "conv2d_2 (Conv2D)                   (None, 60, 60, 128)             73856       \n",
            "________________________________________________________________________________\n",
            "max_pooling2d_2 (MaxPooling2D)      (None, 30, 30, 128)             0           \n",
            "________________________________________________________________________________\n",
            "conv2d_1 (Conv2D)                   (None, 28, 28, 128)             147584      \n",
            "________________________________________________________________________________\n",
            "max_pooling2d_1 (MaxPooling2D)      (None, 14, 14, 128)             0           \n",
            "________________________________________________________________________________\n",
            "conv2d (Conv2D)                     (None, 12, 12, 128)             147584      \n",
            "________________________________________________________________________________\n",
            "max_pooling2d (MaxPooling2D)        (None, 6, 6, 128)               0           \n",
            "________________________________________________________________________________\n",
            "flatten (Flatten)                   (None, 4608)                    0           \n",
            "________________________________________________________________________________\n",
            "dense_1 (Dense)                     (None, 512)                     2359808     \n",
            "________________________________________________________________________________\n",
            "dense (Dense)                       (None, 5)                       2565        \n",
            "================================================================================\n",
            "Total params: 2,750,789\n",
            "Trainable params: 2,750,789\n",
            "Non-trainable params: 0\n",
            "________________________________________________________________________________\n"
          ],
          "name": "stdout"
        }
      ]
    },
    {
      "cell_type": "markdown",
      "metadata": {
        "id": "XPuSrKVy5e6j"
      },
      "source": [
        "### Train the model.  Here I am going to save it out every 10 epochs.\n",
        "\n",
        "Previous runs showed that it was still improving at epoch 50, so will run 150 and save every 10 so that I don't need to refit."
      ]
    },
    {
      "cell_type": "code",
      "metadata": {
        "colab": {
          "base_uri": "https://localhost:8080/",
          "height": 374
        },
        "id": "IdBpWwov7q3m",
        "outputId": "7d90ed06-9e0f-46ea-cdf1-7416fef15afa"
      },
      "source": [
        "total_epochs <- 150 \n",
        "save_interval <- 10\n",
        "#i <- 1\n",
        "save_seq <- seq(from=save_interval, to=total_epochs, by=save_interval)\n",
        "\n",
        "history3_list <- list()\n",
        "\n",
        "system.time(for(i in save_seq) {\n",
        "  history3_tmp <- model3 %>% fit(\n",
        "        train_generator3,\n",
        "        steps_per_epoch = 78,\n",
        "        epochs = save_interval,\n",
        "        validation_data = validation_generator3,\n",
        "        validation_steps = 26)\n",
        "\n",
        "  history3_list[[i/save_interval]] <- history3_tmp$metrics # all we need is metrics\n",
        "\n",
        "  file_name <- str_c(\"flowers_model3_ep\", i, \".hdf5\")\n",
        "  save_model_hdf5(model3, file_name)\n",
        "  drive_put(file_name, str_c(\"DeepLearning/Flowers/\", file_name), verbose=FALSE)\n",
        "  file.remove(file_name)\n",
        "  save(history3_list, file=\"history3_list.Rdata\")\n",
        "  drive_put(\"history3_list.Rdata\", \"DeepLearning/Flowers/history3_list.Rdata\", verbose=FALSE)\n",
        "  print(str_c(\"completed epoch: \", i))\n",
        "})\n"
      ],
      "execution_count": 13,
      "outputs": [
        {
          "output_type": "stream",
          "text": [
            "[1] \"completed epoch: 10\"\n",
            "[1] \"completed epoch: 20\"\n",
            "[1] \"completed epoch: 30\"\n",
            "[1] \"completed epoch: 40\"\n",
            "[1] \"completed epoch: 50\"\n",
            "[1] \"completed epoch: 60\"\n"
          ],
          "name": "stdout"
        },
        {
          "output_type": "stream",
          "text": [
            "Auto-refreshing stale OAuth token.\n",
            "\n"
          ],
          "name": "stderr"
        },
        {
          "output_type": "stream",
          "text": [
            "[1] \"completed epoch: 70\"\n",
            "[1] \"completed epoch: 80\"\n",
            "[1] \"completed epoch: 90\"\n",
            "[1] \"completed epoch: 100\"\n",
            "[1] \"completed epoch: 110\"\n",
            "[1] \"completed epoch: 120\"\n",
            "[1] \"completed epoch: 130\"\n"
          ],
          "name": "stdout"
        },
        {
          "output_type": "stream",
          "text": [
            "Auto-refreshing stale OAuth token.\n",
            "\n"
          ],
          "name": "stderr"
        },
        {
          "output_type": "stream",
          "text": [
            "[1] \"completed epoch: 140\"\n",
            "[1] \"completed epoch: 150\"\n"
          ],
          "name": "stdout"
        },
        {
          "output_type": "display_data",
          "data": {
            "text/plain": [
              "    user   system  elapsed \n",
              "6691.726  151.911 8192.831 "
            ]
          },
          "metadata": {
            "tags": []
          }
        }
      ]
    },
    {
      "cell_type": "code",
      "metadata": {
        "colab": {
          "base_uri": "https://localhost:8080/"
        },
        "id": "elOpFhDM7cm7",
        "outputId": "a948dba5-15e9-4942-dc63-e3b99cc0c50a"
      },
      "source": [
        "if(!file.exists(\"history3_list.Rdata\")) {\n",
        "  drive_download(\"history3_list.Rdata\")\n",
        "}\n",
        "str(history3_list)"
      ],
      "execution_count": 14,
      "outputs": [
        {
          "output_type": "stream",
          "text": [
            "List of 15\n",
            " $ :List of 4\n",
            "  ..$ loss    : num [1:10] 1.583 1.245 1.099 1.011 0.964 ...\n",
            "  ..$ acc     : num [1:10] 0.323 0.479 0.558 0.604 0.63 ...\n",
            "  ..$ val_loss: num [1:10] 1.251 1.238 0.939 1.046 0.907 ...\n",
            "  ..$ val_acc : num [1:10] 0.49 0.455 0.628 0.605 0.635 ...\n",
            " $ :List of 4\n",
            "  ..$ loss    : num [1:10] 0.805 0.78 0.772 0.731 0.763 ...\n",
            "  ..$ acc     : num [1:10] 0.687 0.702 0.708 0.724 0.707 ...\n",
            "  ..$ val_loss: num [1:10] 0.778 0.807 1 0.737 0.806 ...\n",
            "  ..$ val_acc : num [1:10] 0.714 0.719 0.679 0.737 0.71 ...\n",
            " $ :List of 4\n",
            "  ..$ loss    : num [1:10] 0.67 0.672 0.658 0.668 0.601 ...\n",
            "  ..$ acc     : num [1:10] 0.747 0.752 0.759 0.772 0.768 ...\n",
            "  ..$ val_loss: num [1:10] 0.713 0.647 0.818 0.63 0.754 ...\n",
            "  ..$ val_acc : num [1:10] 0.755 0.773 0.739 0.792 0.756 ...\n",
            " $ :List of 4\n",
            "  ..$ loss    : num [1:10] 0.59 0.659 0.584 0.58 0.587 ...\n",
            "  ..$ acc     : num [1:10] 0.786 0.769 0.788 0.781 0.786 ...\n",
            "  ..$ val_loss: num [1:10] 0.84 0.73 0.75 0.602 1.424 ...\n",
            "  ..$ val_acc : num [1:10] 0.73 0.737 0.765 0.775 0.648 ...\n",
            " $ :List of 4\n",
            "  ..$ loss    : num [1:10] 0.639 0.628 0.641 0.615 0.57 ...\n",
            "  ..$ acc     : num [1:10] 0.793 0.779 0.782 0.784 0.794 ...\n",
            "  ..$ val_loss: num [1:10] 0.596 0.637 0.697 0.687 0.847 ...\n",
            "  ..$ val_acc : num [1:10] 0.799 0.79 0.77 0.752 0.735 ...\n",
            " $ :List of 4\n",
            "  ..$ loss    : num [1:10] 0.596 0.621 0.687 0.611 0.602 ...\n",
            "  ..$ acc     : num [1:10] 0.785 0.785 0.778 0.79 0.777 ...\n",
            "  ..$ val_loss: num [1:10] 0.77 0.66 0.815 1.155 0.703 ...\n",
            "  ..$ val_acc : num [1:10] 0.794 0.789 0.747 0.68 0.804 ...\n",
            " $ :List of 4\n",
            "  ..$ loss    : num [1:10] 0.619 0.631 0.611 0.643 0.633 ...\n",
            "  ..$ acc     : num [1:10] 0.788 0.783 0.782 0.768 0.769 ...\n",
            "  ..$ val_loss: num [1:10] 0.893 0.718 0.674 0.744 0.669 ...\n",
            "  ..$ val_acc : num [1:10] 0.747 0.755 0.812 0.782 0.782 ...\n",
            " $ :List of 4\n",
            "  ..$ loss    : num [1:10] 0.645 0.67 0.63 0.622 0.758 ...\n",
            "  ..$ acc     : num [1:10] 0.779 0.769 0.784 0.787 0.77 ...\n",
            "  ..$ val_loss: num [1:10] 0.965 0.668 0.861 0.727 0.806 ...\n",
            "  ..$ val_acc : num [1:10] 0.744 0.785 0.805 0.736 0.761 ...\n",
            " $ :List of 4\n",
            "  ..$ loss    : num [1:10] 0.635 0.629 0.64 0.601 0.738 ...\n",
            "  ..$ acc     : num [1:10] 0.787 0.782 0.775 0.793 0.767 ...\n",
            "  ..$ val_loss: num [1:10] 0.825 1.281 1.029 0.778 0.721 ...\n",
            "  ..$ val_acc : num [1:10] 0.741 0.781 0.731 0.778 0.756 ...\n",
            " $ :List of 4\n",
            "  ..$ loss    : num [1:10] 0.655 0.645 0.683 0.692 0.641 ...\n",
            "  ..$ acc     : num [1:10] 0.776 0.782 0.776 0.773 0.775 ...\n",
            "  ..$ val_loss: num [1:10] 0.895 0.861 0.751 0.566 0.708 ...\n",
            "  ..$ val_acc : num [1:10] 0.792 0.748 0.783 0.815 0.781 ...\n",
            " $ :List of 4\n",
            "  ..$ loss    : num [1:10] 0.912 0.628 0.666 0.837 0.644 ...\n",
            "  ..$ acc     : num [1:10] 0.757 0.779 0.772 0.768 0.79 ...\n",
            "  ..$ val_loss: num [1:10] 0.88 0.656 0.803 0.776 0.847 ...\n",
            "  ..$ val_acc : num [1:10] 0.719 0.8 0.776 0.802 0.795 ...\n",
            " $ :List of 4\n",
            "  ..$ loss    : num [1:10] 0.756 0.63 0.649 0.657 0.64 ...\n",
            "  ..$ acc     : num [1:10] 0.78 0.781 0.769 0.776 0.777 ...\n",
            "  ..$ val_loss: num [1:10] 0.724 1.05 1.047 0.944 0.862 ...\n",
            "  ..$ val_acc : num [1:10] 0.794 0.76 0.743 0.777 0.733 ...\n",
            " $ :List of 4\n",
            "  ..$ loss    : num [1:10] 0.74 0.651 0.915 0.655 0.659 ...\n",
            "  ..$ acc     : num [1:10] 0.762 0.779 0.759 0.778 0.782 ...\n",
            "  ..$ val_loss: num [1:10] 1.126 0.833 0.867 0.904 1.98 ...\n",
            "  ..$ val_acc : num [1:10] 0.531 0.788 0.778 0.762 0.668 ...\n",
            " $ :List of 4\n",
            "  ..$ loss    : num [1:10] 0.613 0.713 0.627 0.794 0.642 ...\n",
            "  ..$ acc     : num [1:10] 0.786 0.78 0.782 0.764 0.776 ...\n",
            "  ..$ val_loss: num [1:10] 1.129 0.865 4.098 1.446 1.238 ...\n",
            "  ..$ val_acc : num [1:10] 0.762 0.778 0.75 0.801 0.732 ...\n",
            " $ :List of 4\n",
            "  ..$ loss    : num [1:10] 0.791 0.663 0.749 0.781 2.216 ...\n",
            "  ..$ acc     : num [1:10] 0.751 0.774 0.747 0.755 0.724 ...\n",
            "  ..$ val_loss: num [1:10] 2.39 1.13 1.4 1.19 0.75 ...\n",
            "  ..$ val_acc : num [1:10] 0.616 0.605 0.758 0.768 0.765 ...\n"
          ],
          "name": "stdout"
        }
      ]
    },
    {
      "cell_type": "code",
      "metadata": {
        "colab": {
          "base_uri": "https://localhost:8080/",
          "height": 300
        },
        "id": "ATrlLoT67q3n",
        "outputId": "f181736d-e450-4dcb-a097-5803d84774dd"
      },
      "source": [
        "history3 <- bind_rows(history3_list) %>%\n",
        "  mutate(epoch=1:nrow(.))\n",
        "dim(history3)\n",
        "head(history3)"
      ],
      "execution_count": 20,
      "outputs": [
        {
          "output_type": "display_data",
          "data": {
            "text/plain": [
              "[1] 150   5"
            ],
            "text/latex": "\\begin{enumerate*}\n\\item 150\n\\item 5\n\\end{enumerate*}\n",
            "text/markdown": "1. 150\n2. 5\n\n\n",
            "text/html": [
              "<style>\n",
              ".list-inline {list-style: none; margin:0; padding: 0}\n",
              ".list-inline>li {display: inline-block}\n",
              ".list-inline>li:not(:last-child)::after {content: \"\\00b7\"; padding: 0 .5ex}\n",
              "</style>\n",
              "<ol class=list-inline><li>150</li><li>5</li></ol>\n"
            ]
          },
          "metadata": {
            "tags": []
          }
        },
        {
          "output_type": "display_data",
          "data": {
            "text/plain": [
              "  loss      acc       val_loss  val_acc   epoch\n",
              "1 1.5831740 0.3227236 1.2506963 0.4896970 1    \n",
              "2 1.2448081 0.4794520 1.2377491 0.4545455 2    \n",
              "3 1.0988530 0.5584207 0.9389179 0.6278788 3    \n",
              "4 1.0111643 0.6035455 1.0459580 0.6048485 4    \n",
              "5 0.9641103 0.6301370 0.9074947 0.6351515 5    \n",
              "6 0.9292060 0.6345689 0.8676798 0.6484848 6    "
            ],
            "text/latex": "A tibble: 6 × 5\n\\begin{tabular}{lllll}\n loss & acc & val\\_loss & val\\_acc & epoch\\\\\n <dbl> & <dbl> & <dbl> & <dbl> & <int>\\\\\n\\hline\n\t 1.5831740 & 0.3227236 & 1.2506963 & 0.4896970 & 1\\\\\n\t 1.2448081 & 0.4794520 & 1.2377491 & 0.4545455 & 2\\\\\n\t 1.0988530 & 0.5584207 & 0.9389179 & 0.6278788 & 3\\\\\n\t 1.0111643 & 0.6035455 & 1.0459580 & 0.6048485 & 4\\\\\n\t 0.9641103 & 0.6301370 & 0.9074947 & 0.6351515 & 5\\\\\n\t 0.9292060 & 0.6345689 & 0.8676798 & 0.6484848 & 6\\\\\n\\end{tabular}\n",
            "text/markdown": "\nA tibble: 6 × 5\n\n| loss &lt;dbl&gt; | acc &lt;dbl&gt; | val_loss &lt;dbl&gt; | val_acc &lt;dbl&gt; | epoch &lt;int&gt; |\n|---|---|---|---|---|\n| 1.5831740 | 0.3227236 | 1.2506963 | 0.4896970 | 1 |\n| 1.2448081 | 0.4794520 | 1.2377491 | 0.4545455 | 2 |\n| 1.0988530 | 0.5584207 | 0.9389179 | 0.6278788 | 3 |\n| 1.0111643 | 0.6035455 | 1.0459580 | 0.6048485 | 4 |\n| 0.9641103 | 0.6301370 | 0.9074947 | 0.6351515 | 5 |\n| 0.9292060 | 0.6345689 | 0.8676798 | 0.6484848 | 6 |\n\n",
            "text/html": [
              "<table class=\"dataframe\">\n",
              "<caption>A tibble: 6 × 5</caption>\n",
              "<thead>\n",
              "\t<tr><th scope=col>loss</th><th scope=col>acc</th><th scope=col>val_loss</th><th scope=col>val_acc</th><th scope=col>epoch</th></tr>\n",
              "\t<tr><th scope=col>&lt;dbl&gt;</th><th scope=col>&lt;dbl&gt;</th><th scope=col>&lt;dbl&gt;</th><th scope=col>&lt;dbl&gt;</th><th scope=col>&lt;int&gt;</th></tr>\n",
              "</thead>\n",
              "<tbody>\n",
              "\t<tr><td>1.5831740</td><td>0.3227236</td><td>1.2506963</td><td>0.4896970</td><td>1</td></tr>\n",
              "\t<tr><td>1.2448081</td><td>0.4794520</td><td>1.2377491</td><td>0.4545455</td><td>2</td></tr>\n",
              "\t<tr><td>1.0988530</td><td>0.5584207</td><td>0.9389179</td><td>0.6278788</td><td>3</td></tr>\n",
              "\t<tr><td>1.0111643</td><td>0.6035455</td><td>1.0459580</td><td>0.6048485</td><td>4</td></tr>\n",
              "\t<tr><td>0.9641103</td><td>0.6301370</td><td>0.9074947</td><td>0.6351515</td><td>5</td></tr>\n",
              "\t<tr><td>0.9292060</td><td>0.6345689</td><td>0.8676798</td><td>0.6484848</td><td>6</td></tr>\n",
              "</tbody>\n",
              "</table>\n"
            ]
          },
          "metadata": {
            "tags": []
          }
        }
      ]
    },
    {
      "cell_type": "code",
      "metadata": {
        "colab": {
          "base_uri": "https://localhost:8080/",
          "height": 471
        },
        "id": "d0wjp7Uuof8A",
        "outputId": "d0ffb70d-5d89-490f-cb6f-fa637dfcb526"
      },
      "source": [
        "history3 %>%\n",
        "    pivot_longer(cols=-epoch) %>%\n",
        "    mutate(dataset = ifelse(str_detect(name, \"val\"), \"validation\", \"training\"),\n",
        "           type=ifelse(str_detect(name, \"acc\"), \"accuracy\", \"loss\")) %>%\n",
        "    filter(value < 3) %>% # remove a few outliers\n",
        "    ggplot(aes(x=epoch, y=value, color=dataset)) +\n",
        "        geom_smooth(se=FALSE) +\n",
        "        geom_point() +\n",
        "        facet_wrap(~type, scales = \"free_y\", ncol=1) \n",
        "\n",
        "    "
      ],
      "execution_count": 29,
      "outputs": [
        {
          "output_type": "stream",
          "text": [
            "`geom_smooth()` using method = 'loess' and formula 'y ~ x'\n",
            "\n"
          ],
          "name": "stderr"
        },
        {
          "output_type": "display_data",
          "data": {
            "image/png": "[encoded data removed]",
            "text/plain": [
              "plot without title"
            ]
          },
          "metadata": {
            "tags": [],
            "image/png": {
              "width": 420,
              "height": 420
            }
          }
        }
      ]
    },
    {
      "cell_type": "markdown",
      "metadata": {
        "id": "apc4_Tdsx1AC"
      },
      "source": [
        "Looks like we max out accuracy on the validation set at about 50 epochs.  \n",
        "\n",
        "Let's load that model and see how it does"
      ]
    },
    {
      "cell_type": "code",
      "metadata": {
        "colab": {
          "base_uri": "https://localhost:8080/"
        },
        "id": "L2uS7M8BxNsL",
        "outputId": "fe7950b6-e5dd-4aaa-ed06-994f78abf7d1"
      },
      "source": [
        "drive_download(\"DeepLearning/Flowers/flowers_model3_ep50.hdf5\")\n",
        "model3 <- load_model_hdf5(\"flowers_model3_ep50.hdf5\")"
      ],
      "execution_count": 31,
      "outputs": [
        {
          "output_type": "stream",
          "text": [
            "Auto-refreshing stale OAuth token.\n",
            "\n",
            "File downloaded:\n",
            "  * flowers_model3_ep50.hdf5\n",
            "Saved locally as:\n",
            "  * flowers_model3_ep50.hdf5\n",
            "\n"
          ],
          "name": "stderr"
        }
      ]
    },
    {
      "cell_type": "code",
      "metadata": {
        "colab": {
          "base_uri": "https://localhost:8080/",
          "height": 34
        },
        "id": "SEY92nFFxWFV",
        "outputId": "efe29c73-9866-4325-f38e-a3d70fc2935c"
      },
      "source": [
        "results <- model3 %>% evaluate(test_generator3)\n",
        "results %>% round(3)\n"
      ],
      "execution_count": 32,
      "outputs": [
        {
          "output_type": "display_data",
          "data": {
            "text/plain": [
              " loss   acc \n",
              "0.655 0.812 "
            ],
            "text/latex": "\\begin{description*}\n\\item[loss] 0.655\n\\item[acc] 0.812\n\\end{description*}\n",
            "text/markdown": "loss\n:   0.655acc\n:   0.812\n\n",
            "text/html": [
              "<style>\n",
              ".dl-inline {width: auto; margin:0; padding: 0}\n",
              ".dl-inline>dt, .dl-inline>dd {float: none; width: auto; display: inline-block}\n",
              ".dl-inline>dt::after {content: \":\\0020\"; padding-right: .5ex}\n",
              ".dl-inline>dt:not(:first-of-type) {padding-left: .5ex}\n",
              "</style><dl class=dl-inline><dt>loss</dt><dd>0.655</dd><dt>acc</dt><dd>0.812</dd></dl>\n"
            ]
          },
          "metadata": {
            "tags": []
          }
        }
      ]
    },
    {
      "cell_type": "code",
      "metadata": {
        "id": "XbQS8z-oxvis"
      },
      "source": [
        ""
      ],
      "execution_count": null,
      "outputs": []
    },
    {
      "cell_type": "markdown",
      "metadata": {
        "id": "K0RhQYrRotcZ"
      },
      "source": [
        "## Next steps:\n",
        "\n",
        "dropout layers and/or regularization"
      ]
    },
    {
      "cell_type": "code",
      "metadata": {
        "id": "fwBWcJaOotBT"
      },
      "source": [
        ""
      ],
      "execution_count": null,
      "outputs": []
    }
  ]
}