{
  "nbformat": 4,
  "nbformat_minor": 0,
  "metadata": {
    "accelerator": "GPU",
    "colab": {
      "name": "Intox_predictions_V2.ipynb",
      "provenance": [],
      "collapsed_sections": [],
      "authorship_tag": "ABX9TyPj4uHQc2Pmw23iqoqh0Ci7",
      "include_colab_link": true
    },
    "kernelspec": {
      "display_name": "R",
      "name": "ir"
    },
    "language_info": {
      "name": "R"
    }
  },
  "cells": [
    {
      "cell_type": "markdown",
      "metadata": {
        "id": "view-in-github",
        "colab_type": "text"
      },
      "source": [
        "<a href=\"https://colab.research.google.com/github/jnmaloof/DeepLearning_JulinMaloof/blob/main/Intox_predictions_V2.ipynb\" target=\"_parent\"><img src=\"https://colab.research.google.com/assets/colab-badge.svg\" alt=\"Open In Colab\"/></a>"
      ]
    },
    {
      "cell_type": "code",
      "metadata": {
        "id": "oy1FDPv571pO"
      },
      "source": [
        ""
      ],
      "execution_count": 1,
      "outputs": []
    },
    {
      "cell_type": "code",
      "metadata": {
        "colab": {
          "base_uri": "https://localhost:8080/"
        },
        "id": "NwA6UBEb8iid",
        "outputId": "9da46af8-85c0-475e-d04d-dced9ea90d87"
      },
      "source": [
        "install.packages(\"keras\")\n",
        "install.packages(\"R.utils\") "
      ],
      "execution_count": 2,
      "outputs": [
        {
          "output_type": "stream",
          "name": "stderr",
          "text": [
            "Installing package into ‘/usr/local/lib/R/site-library’\n",
            "(as ‘lib’ is unspecified)\n",
            "\n",
            "also installing the dependencies ‘here’, ‘png’, ‘config’, ‘tfautograph’, ‘reticulate’, ‘tensorflow’, ‘tfruns’, ‘zeallot’\n",
            "\n",
            "\n",
            "Installing package into ‘/usr/local/lib/R/site-library’\n",
            "(as ‘lib’ is unspecified)\n",
            "\n",
            "also installing the dependencies ‘R.oo’, ‘R.methodsS3’\n",
            "\n",
            "\n"
          ]
        }
      ]
    },
    {
      "cell_type": "code",
      "metadata": {
        "colab": {
          "base_uri": "https://localhost:8080/",
          "height": 1000
        },
        "id": "ZwnjDG3g8_eB",
        "outputId": "46250567-4649-4254-9728-a05dabefb241"
      },
      "source": [
        "library(R.utils)\n",
        "library(tidyverse)\n",
        "library(keras)\n",
        "library(tensorflow)\n",
        "tf$config$experimental$list_physical_devices()"
      ],
      "execution_count": 3,
      "outputs": [
        {
          "output_type": "stream",
          "name": "stderr",
          "text": [
            "Loading required package: R.oo\n",
            "\n",
            "Loading required package: R.methodsS3\n",
            "\n",
            "R.methodsS3 v1.8.1 (2020-08-26 16:20:06 UTC) successfully loaded. See ?R.methodsS3 for help.\n",
            "\n",
            "R.oo v1.24.0 (2020-08-26 16:11:58 UTC) successfully loaded. See ?R.oo for help.\n",
            "\n",
            "\n",
            "Attaching package: ‘R.oo’\n",
            "\n",
            "\n",
            "The following object is masked from ‘package:R.methodsS3’:\n",
            "\n",
            "    throw\n",
            "\n",
            "\n",
            "The following objects are masked from ‘package:methods’:\n",
            "\n",
            "    getClasses, getMethods\n",
            "\n",
            "\n",
            "The following objects are masked from ‘package:base’:\n",
            "\n",
            "    attach, detach, load, save\n",
            "\n",
            "\n",
            "R.utils v2.11.0 (2021-09-26 08:30:02 UTC) successfully loaded. See ?R.utils for help.\n",
            "\n",
            "\n",
            "Attaching package: ‘R.utils’\n",
            "\n",
            "\n",
            "The following object is masked from ‘package:utils’:\n",
            "\n",
            "    timestamp\n",
            "\n",
            "\n",
            "The following objects are masked from ‘package:base’:\n",
            "\n",
            "    cat, commandArgs, getOption, inherits, isOpen, nullfile, parse,\n",
            "    warnings\n",
            "\n",
            "\n",
            "Warning message in system(\"timedatectl\", intern = TRUE):\n",
            "“running command 'timedatectl' had status 1”\n",
            "── \u001b[1mAttaching packages\u001b[22m ─────────────────────────────────────── tidyverse 1.3.1 ──\n",
            "\n",
            "\u001b[32m✔\u001b[39m \u001b[34mggplot2\u001b[39m 3.3.5     \u001b[32m✔\u001b[39m \u001b[34mpurrr  \u001b[39m 0.3.4\n",
            "\u001b[32m✔\u001b[39m \u001b[34mtibble \u001b[39m 3.1.4     \u001b[32m✔\u001b[39m \u001b[34mdplyr  \u001b[39m 1.0.7\n",
            "\u001b[32m✔\u001b[39m \u001b[34mtidyr  \u001b[39m 1.1.3     \u001b[32m✔\u001b[39m \u001b[34mstringr\u001b[39m 1.4.0\n",
            "\u001b[32m✔\u001b[39m \u001b[34mreadr  \u001b[39m 2.0.1     \u001b[32m✔\u001b[39m \u001b[34mforcats\u001b[39m 0.5.1\n",
            "\n",
            "── \u001b[1mConflicts\u001b[22m ────────────────────────────────────────── tidyverse_conflicts() ──\n",
            "\u001b[31m✖\u001b[39m \u001b[34mtidyr\u001b[39m::\u001b[32mextract()\u001b[39m masks \u001b[34mR.utils\u001b[39m::extract()\n",
            "\u001b[31m✖\u001b[39m \u001b[34mdplyr\u001b[39m::\u001b[32mfilter()\u001b[39m  masks \u001b[34mstats\u001b[39m::filter()\n",
            "\u001b[31m✖\u001b[39m \u001b[34mdplyr\u001b[39m::\u001b[32mlag()\u001b[39m     masks \u001b[34mstats\u001b[39m::lag()\n",
            "\n",
            "\n",
            "Attaching package: ‘keras’\n",
            "\n",
            "\n",
            "The following object is masked from ‘package:R.utils’:\n",
            "\n",
            "    evaluate\n",
            "\n",
            "\n",
            "The following object is masked from ‘package:R.oo’:\n",
            "\n",
            "    compile\n",
            "\n",
            "\n",
            "\n",
            "Attaching package: ‘tensorflow’\n",
            "\n",
            "\n",
            "The following object is masked from ‘package:R.utils’:\n",
            "\n",
            "    evaluate\n",
            "\n",
            "\n"
          ]
        },
        {
          "output_type": "display_data",
          "data": {
            "text/plain": [
              "[[1]]\n",
              "PhysicalDevice(name='/physical_device:CPU:0', device_type='CPU')\n",
              "\n",
              "[[2]]\n",
              "PhysicalDevice(name='/physical_device:GPU:0', device_type='GPU')\n"
            ]
          },
          "metadata": {}
        }
      ]
    },
    {
      "cell_type": "code",
      "metadata": {
        "id": "_LyUDCnk9Nr0"
      },
      "source": [
        "if(!file.exists(\"data.zip\")) {\n",
        "  download.file(url=\"http://archive.ics.uci.edu/ml/machine-learning-databases/00515/data.zip\",\n",
        "  destfile=\"data.zip\")\n",
        "  unzip(\"data.zip\")\n",
        "} "
      ],
      "execution_count": 4,
      "outputs": []
    },
    {
      "cell_type": "markdown",
      "metadata": {
        "id": "IsqzCki3-7jS"
      },
      "source": [
        "## Load Data"
      ]
    },
    {
      "cell_type": "code",
      "metadata": {
        "colab": {
          "base_uri": "https://localhost:8080/",
          "height": 1000
        },
        "id": "aHm2W5BJ-Xal",
        "outputId": "f21a69fc-658b-4623-db65-a60a27e9ac6f"
      },
      "source": [
        "tac_dir <- \"clean_tac/\"\n",
        "tac <- tibble(file=dir(path=tac_dir, pattern=\"csv$\"))\n",
        "tac <- tac %>% mutate(data=map(file, ~ read_csv(file.path(tac_dir, .x)))) %>% \n",
        "  unnest(data) %>%\n",
        "  mutate(pid=str_remove(file, \"_.*\"), # get units to match accelerometer data\n",
        "         time_30m=as.integer(timestamp/60/30)) %>% # for combining.  as.integer required for matching.\n",
        "  select(time_30m, timestamp, pid, TAC_Reading) %>%\n",
        "  arrange(pid, timestamp)\n",
        "tac\n",
        "\n"
      ],
      "execution_count": 5,
      "outputs": [
        {
          "output_type": "stream",
          "name": "stderr",
          "text": [
            "\u001b[1m\u001b[1mRows: \u001b[1m\u001b[22m\u001b[34m\u001b[34m57\u001b[34m\u001b[39m \u001b[1m\u001b[1mColumns: \u001b[1m\u001b[22m\u001b[34m\u001b[34m2\u001b[34m\u001b[39m\n",
            "\n",
            "\u001b[36m──\u001b[39m \u001b[1m\u001b[1mColumn specification\u001b[1m\u001b[22m \u001b[36m────────────────────────────────────────────────────────\u001b[39m\n",
            "\u001b[1mDelimiter:\u001b[22m \",\"\n",
            "\u001b[32mdbl\u001b[39m (2): timestamp, TAC_Reading\n",
            "\n",
            "\n",
            "\u001b[36mℹ\u001b[39m Use \u001b[30m\u001b[47m\u001b[30m\u001b[47m`spec()`\u001b[47m\u001b[30m\u001b[49m\u001b[39m to retrieve the full column specification for this data.\n",
            "\u001b[36mℹ\u001b[39m Specify the column types or set \u001b[30m\u001b[47m\u001b[30m\u001b[47m`show_col_types = FALSE`\u001b[47m\u001b[30m\u001b[49m\u001b[39m to quiet this message.\n",
            "\n",
            "\u001b[1m\u001b[1mRows: \u001b[1m\u001b[22m\u001b[34m\u001b[34m57\u001b[34m\u001b[39m \u001b[1m\u001b[1mColumns: \u001b[1m\u001b[22m\u001b[34m\u001b[34m2\u001b[34m\u001b[39m\n",
            "\n",
            "\u001b[36m──\u001b[39m \u001b[1m\u001b[1mColumn specification\u001b[1m\u001b[22m \u001b[36m────────────────────────────────────────────────────────\u001b[39m\n",
            "\u001b[1mDelimiter:\u001b[22m \",\"\n",
            "\u001b[32mdbl\u001b[39m (2): timestamp, TAC_Reading\n",
            "\n",
            "\n",
            "\u001b[36mℹ\u001b[39m Use \u001b[30m\u001b[47m\u001b[30m\u001b[47m`spec()`\u001b[47m\u001b[30m\u001b[49m\u001b[39m to retrieve the full column specification for this data.\n",
            "\u001b[36mℹ\u001b[39m Specify the column types or set \u001b[30m\u001b[47m\u001b[30m\u001b[47m`show_col_types = FALSE`\u001b[47m\u001b[30m\u001b[49m\u001b[39m to quiet this message.\n",
            "\n",
            "\u001b[1m\u001b[1mRows: \u001b[1m\u001b[22m\u001b[34m\u001b[34m56\u001b[34m\u001b[39m \u001b[1m\u001b[1mColumns: \u001b[1m\u001b[22m\u001b[34m\u001b[34m2\u001b[34m\u001b[39m\n",
            "\n",
            "\u001b[36m──\u001b[39m \u001b[1m\u001b[1mColumn specification\u001b[1m\u001b[22m \u001b[36m────────────────────────────────────────────────────────\u001b[39m\n",
            "\u001b[1mDelimiter:\u001b[22m \",\"\n",
            "\u001b[32mdbl\u001b[39m (2): timestamp, TAC_Reading\n",
            "\n",
            "\n",
            "\u001b[36mℹ\u001b[39m Use \u001b[30m\u001b[47m\u001b[30m\u001b[47m`spec()`\u001b[47m\u001b[30m\u001b[49m\u001b[39m to retrieve the full column specification for this data.\n",
            "\u001b[36mℹ\u001b[39m Specify the column types or set \u001b[30m\u001b[47m\u001b[30m\u001b[47m`show_col_types = FALSE`\u001b[47m\u001b[30m\u001b[49m\u001b[39m to quiet this message.\n",
            "\n",
            "\u001b[1m\u001b[1mRows: \u001b[1m\u001b[22m\u001b[34m\u001b[34m55\u001b[34m\u001b[39m \u001b[1m\u001b[1mColumns: \u001b[1m\u001b[22m\u001b[34m\u001b[34m2\u001b[34m\u001b[39m\n",
            "\n",
            "\u001b[36m──\u001b[39m \u001b[1m\u001b[1mColumn specification\u001b[1m\u001b[22m \u001b[36m────────────────────────────────────────────────────────\u001b[39m\n",
            "\u001b[1mDelimiter:\u001b[22m \",\"\n",
            "\u001b[32mdbl\u001b[39m (2): timestamp, TAC_Reading\n",
            "\n",
            "\n",
            "\u001b[36mℹ\u001b[39m Use \u001b[30m\u001b[47m\u001b[30m\u001b[47m`spec()`\u001b[47m\u001b[30m\u001b[49m\u001b[39m to retrieve the full column specification for this data.\n",
            "\u001b[36mℹ\u001b[39m Specify the column types or set \u001b[30m\u001b[47m\u001b[30m\u001b[47m`show_col_types = FALSE`\u001b[47m\u001b[30m\u001b[49m\u001b[39m to quiet this message.\n",
            "\n",
            "\u001b[1m\u001b[1mRows: \u001b[1m\u001b[22m\u001b[34m\u001b[34m51\u001b[34m\u001b[39m \u001b[1m\u001b[1mColumns: \u001b[1m\u001b[22m\u001b[34m\u001b[34m2\u001b[34m\u001b[39m\n",
            "\n",
            "\u001b[36m──\u001b[39m \u001b[1m\u001b[1mColumn specification\u001b[1m\u001b[22m \u001b[36m────────────────────────────────────────────────────────\u001b[39m\n",
            "\u001b[1mDelimiter:\u001b[22m \",\"\n",
            "\u001b[32mdbl\u001b[39m (2): timestamp, TAC_Reading\n",
            "\n",
            "\n",
            "\u001b[36mℹ\u001b[39m Use \u001b[30m\u001b[47m\u001b[30m\u001b[47m`spec()`\u001b[47m\u001b[30m\u001b[49m\u001b[39m to retrieve the full column specification for this data.\n",
            "\u001b[36mℹ\u001b[39m Specify the column types or set \u001b[30m\u001b[47m\u001b[30m\u001b[47m`show_col_types = FALSE`\u001b[47m\u001b[30m\u001b[49m\u001b[39m to quiet this message.\n",
            "\n",
            "\u001b[1m\u001b[1mRows: \u001b[1m\u001b[22m\u001b[34m\u001b[34m54\u001b[34m\u001b[39m \u001b[1m\u001b[1mColumns: \u001b[1m\u001b[22m\u001b[34m\u001b[34m2\u001b[34m\u001b[39m\n",
            "\n",
            "\u001b[36m──\u001b[39m \u001b[1m\u001b[1mColumn specification\u001b[1m\u001b[22m \u001b[36m────────────────────────────────────────────────────────\u001b[39m\n",
            "\u001b[1mDelimiter:\u001b[22m \",\"\n",
            "\u001b[32mdbl\u001b[39m (2): timestamp, TAC_Reading\n",
            "\n",
            "\n",
            "\u001b[36mℹ\u001b[39m Use \u001b[30m\u001b[47m\u001b[30m\u001b[47m`spec()`\u001b[47m\u001b[30m\u001b[49m\u001b[39m to retrieve the full column specification for this data.\n",
            "\u001b[36mℹ\u001b[39m Specify the column types or set \u001b[30m\u001b[47m\u001b[30m\u001b[47m`show_col_types = FALSE`\u001b[47m\u001b[30m\u001b[49m\u001b[39m to quiet this message.\n",
            "\n",
            "\u001b[1m\u001b[1mRows: \u001b[1m\u001b[22m\u001b[34m\u001b[34m55\u001b[34m\u001b[39m \u001b[1m\u001b[1mColumns: \u001b[1m\u001b[22m\u001b[34m\u001b[34m2\u001b[34m\u001b[39m\n",
            "\n",
            "\u001b[36m──\u001b[39m \u001b[1m\u001b[1mColumn specification\u001b[1m\u001b[22m \u001b[36m────────────────────────────────────────────────────────\u001b[39m\n",
            "\u001b[1mDelimiter:\u001b[22m \",\"\n",
            "\u001b[32mdbl\u001b[39m (2): timestamp, TAC_Reading\n",
            "\n",
            "\n",
            "\u001b[36mℹ\u001b[39m Use \u001b[30m\u001b[47m\u001b[30m\u001b[47m`spec()`\u001b[47m\u001b[30m\u001b[49m\u001b[39m to retrieve the full column specification for this data.\n",
            "\u001b[36mℹ\u001b[39m Specify the column types or set \u001b[30m\u001b[47m\u001b[30m\u001b[47m`show_col_types = FALSE`\u001b[47m\u001b[30m\u001b[49m\u001b[39m to quiet this message.\n",
            "\n",
            "\u001b[1m\u001b[1mRows: \u001b[1m\u001b[22m\u001b[34m\u001b[34m47\u001b[34m\u001b[39m \u001b[1m\u001b[1mColumns: \u001b[1m\u001b[22m\u001b[34m\u001b[34m2\u001b[34m\u001b[39m\n",
            "\n",
            "\u001b[36m──\u001b[39m \u001b[1m\u001b[1mColumn specification\u001b[1m\u001b[22m \u001b[36m────────────────────────────────────────────────────────\u001b[39m\n",
            "\u001b[1mDelimiter:\u001b[22m \",\"\n",
            "\u001b[32mdbl\u001b[39m (2): timestamp, TAC_Reading\n",
            "\n",
            "\n",
            "\u001b[36mℹ\u001b[39m Use \u001b[30m\u001b[47m\u001b[30m\u001b[47m`spec()`\u001b[47m\u001b[30m\u001b[49m\u001b[39m to retrieve the full column specification for this data.\n",
            "\u001b[36mℹ\u001b[39m Specify the column types or set \u001b[30m\u001b[47m\u001b[30m\u001b[47m`show_col_types = FALSE`\u001b[47m\u001b[30m\u001b[49m\u001b[39m to quiet this message.\n",
            "\n",
            "\u001b[1m\u001b[1mRows: \u001b[1m\u001b[22m\u001b[34m\u001b[34m56\u001b[34m\u001b[39m \u001b[1m\u001b[1mColumns: \u001b[1m\u001b[22m\u001b[34m\u001b[34m2\u001b[34m\u001b[39m\n",
            "\n",
            "\u001b[36m──\u001b[39m \u001b[1m\u001b[1mColumn specification\u001b[1m\u001b[22m \u001b[36m────────────────────────────────────────────────────────\u001b[39m\n",
            "\u001b[1mDelimiter:\u001b[22m \",\"\n",
            "\u001b[32mdbl\u001b[39m (2): timestamp, TAC_Reading\n",
            "\n",
            "\n",
            "\u001b[36mℹ\u001b[39m Use \u001b[30m\u001b[47m\u001b[30m\u001b[47m`spec()`\u001b[47m\u001b[30m\u001b[49m\u001b[39m to retrieve the full column specification for this data.\n",
            "\u001b[36mℹ\u001b[39m Specify the column types or set \u001b[30m\u001b[47m\u001b[30m\u001b[47m`show_col_types = FALSE`\u001b[47m\u001b[30m\u001b[49m\u001b[39m to quiet this message.\n",
            "\n",
            "\u001b[1m\u001b[1mRows: \u001b[1m\u001b[22m\u001b[34m\u001b[34m59\u001b[34m\u001b[39m \u001b[1m\u001b[1mColumns: \u001b[1m\u001b[22m\u001b[34m\u001b[34m2\u001b[34m\u001b[39m\n",
            "\n",
            "\u001b[36m──\u001b[39m \u001b[1m\u001b[1mColumn specification\u001b[1m\u001b[22m \u001b[36m────────────────────────────────────────────────────────\u001b[39m\n",
            "\u001b[1mDelimiter:\u001b[22m \",\"\n",
            "\u001b[32mdbl\u001b[39m (2): timestamp, TAC_Reading\n",
            "\n",
            "\n",
            "\u001b[36mℹ\u001b[39m Use \u001b[30m\u001b[47m\u001b[30m\u001b[47m`spec()`\u001b[47m\u001b[30m\u001b[49m\u001b[39m to retrieve the full column specification for this data.\n",
            "\u001b[36mℹ\u001b[39m Specify the column types or set \u001b[30m\u001b[47m\u001b[30m\u001b[47m`show_col_types = FALSE`\u001b[47m\u001b[30m\u001b[49m\u001b[39m to quiet this message.\n",
            "\n",
            "\u001b[1m\u001b[1mRows: \u001b[1m\u001b[22m\u001b[34m\u001b[34m56\u001b[34m\u001b[39m \u001b[1m\u001b[1mColumns: \u001b[1m\u001b[22m\u001b[34m\u001b[34m2\u001b[34m\u001b[39m\n",
            "\n",
            "\u001b[36m──\u001b[39m \u001b[1m\u001b[1mColumn specification\u001b[1m\u001b[22m \u001b[36m────────────────────────────────────────────────────────\u001b[39m\n",
            "\u001b[1mDelimiter:\u001b[22m \",\"\n",
            "\u001b[32mdbl\u001b[39m (2): timestamp, TAC_Reading\n",
            "\n",
            "\n",
            "\u001b[36mℹ\u001b[39m Use \u001b[30m\u001b[47m\u001b[30m\u001b[47m`spec()`\u001b[47m\u001b[30m\u001b[49m\u001b[39m to retrieve the full column specification for this data.\n",
            "\u001b[36mℹ\u001b[39m Specify the column types or set \u001b[30m\u001b[47m\u001b[30m\u001b[47m`show_col_types = FALSE`\u001b[47m\u001b[30m\u001b[49m\u001b[39m to quiet this message.\n",
            "\n",
            "\u001b[1m\u001b[1mRows: \u001b[1m\u001b[22m\u001b[34m\u001b[34m58\u001b[34m\u001b[39m \u001b[1m\u001b[1mColumns: \u001b[1m\u001b[22m\u001b[34m\u001b[34m2\u001b[34m\u001b[39m\n",
            "\n",
            "\u001b[36m──\u001b[39m \u001b[1m\u001b[1mColumn specification\u001b[1m\u001b[22m \u001b[36m────────────────────────────────────────────────────────\u001b[39m\n",
            "\u001b[1mDelimiter:\u001b[22m \",\"\n",
            "\u001b[32mdbl\u001b[39m (2): timestamp, TAC_Reading\n",
            "\n",
            "\n",
            "\u001b[36mℹ\u001b[39m Use \u001b[30m\u001b[47m\u001b[30m\u001b[47m`spec()`\u001b[47m\u001b[30m\u001b[49m\u001b[39m to retrieve the full column specification for this data.\n",
            "\u001b[36mℹ\u001b[39m Specify the column types or set \u001b[30m\u001b[47m\u001b[30m\u001b[47m`show_col_types = FALSE`\u001b[47m\u001b[30m\u001b[49m\u001b[39m to quiet this message.\n",
            "\n",
            "\u001b[1m\u001b[1mRows: \u001b[1m\u001b[22m\u001b[34m\u001b[34m54\u001b[34m\u001b[39m \u001b[1m\u001b[1mColumns: \u001b[1m\u001b[22m\u001b[34m\u001b[34m2\u001b[34m\u001b[39m\n",
            "\n",
            "\u001b[36m──\u001b[39m \u001b[1m\u001b[1mColumn specification\u001b[1m\u001b[22m \u001b[36m────────────────────────────────────────────────────────\u001b[39m\n",
            "\u001b[1mDelimiter:\u001b[22m \",\"\n",
            "\u001b[32mdbl\u001b[39m (2): timestamp, TAC_Reading\n",
            "\n",
            "\n",
            "\u001b[36mℹ\u001b[39m Use \u001b[30m\u001b[47m\u001b[30m\u001b[47m`spec()`\u001b[47m\u001b[30m\u001b[49m\u001b[39m to retrieve the full column specification for this data.\n",
            "\u001b[36mℹ\u001b[39m Specify the column types or set \u001b[30m\u001b[47m\u001b[30m\u001b[47m`show_col_types = FALSE`\u001b[47m\u001b[30m\u001b[49m\u001b[39m to quiet this message.\n",
            "\n"
          ]
        },
        {
          "output_type": "display_data",
          "data": {
            "text/plain": [
              "    time_30m timestamp  pid    TAC_Reading  \n",
              "1   829843   1493718714 BK7610 -0.0004824197\n",
              "2   829844   1493720697 BK7610  0.0015729216\n",
              "3   829845   1493721027 BK7610  0.0021441376\n",
              "4   829845   1493721357 BK7610  0.0008768117\n",
              "5   829845   1493721686 BK7610 -0.0011453854\n",
              "6   829845   1493722016 BK7610 -0.0021592216\n",
              "7   829845   1493722345 BK7610 -0.0010325457\n",
              "8   829845   1493722674 BK7610  0.0018079172\n",
              "9   829846   1493723003 BK7610  0.0045418878\n",
              "10  829847   1493724832 BK7610  0.0051849954\n",
              "11  829847   1493725160 BK7610  0.0030935080\n",
              "12  829847   1493725474 BK7610 -0.0002910164\n",
              "13  829847   1493725804 BK7610 -0.0020249007\n",
              "14  829848   1493727636 BK7610  0.0007436773\n",
              "15  829849   1493729467 BK7610  0.0091884665\n",
              "16  829850   1493731296 BK7610  0.0222502269\n",
              "17  829851   1493733371 BK7610  0.0374216586\n",
              "18  829852   1493735217 BK7610  0.0522380483\n",
              "19  829853   1493737046 BK7610  0.0653566312\n",
              "20  829854   1493738847 BK7610  0.0764619397\n",
              "21  829856   1493740845 BK7610  0.0851966959\n",
              "22  829857   1493742871 BK7610  0.0901654783\n",
              "23  829858   1493744843 BK7610  0.0891215870\n",
              "24  829859   1493746883 BK7610  0.0805881162\n",
              "25  829860   1493748731 BK7610  0.0659532708\n",
              "26  829861   1493750580 BK7610  0.0504236165\n",
              "27  829862   1493752430 BK7610  0.0416892364\n",
              "28  829863   1493754265 BK7610  0.0465593904\n",
              "29  829864   1493756113 BK7610  0.0672685523\n",
              "30  829865   1493757960 BK7610  0.0996299302\n",
              "⋮   ⋮        ⋮          ⋮      ⋮            \n",
              "686 829865   1493757768 SF3079  0.047272220 \n",
              "687 829865   1493758105 SF3079  0.011152399 \n",
              "688 829865   1493758444 SF3079 -0.016064958 \n",
              "689 829866   1493760283 SF3079 -0.028307676 \n",
              "690 829867   1493760619 SF3079 -0.021409262 \n",
              "691 829867   1493760957 SF3079  0.005478460 \n",
              "692 829868   1493762797 SF3079  0.047505402 \n",
              "693 829869   1493764637 SF3079  0.093288929 \n",
              "694 829870   1493766476 SF3079  0.128037793 \n",
              "695 829871   1493768331 SF3079  0.140323299 \n",
              "696 829872   1493770192 SF3079  0.128831847 \n",
              "697 829873   1493772034 SF3079  0.104307828 \n",
              "698 829874   1493773949 SF3079  0.084355798 \n",
              "699 829875   1493775799 SF3079  0.083469147 \n",
              "700 829876   1493777649 SF3079  0.104252756 \n",
              "701 829877   1493779498 SF3079  0.135560604 \n",
              "702 829878   1493781346 SF3079  0.159026198 \n",
              "703 829879   1493783193 SF3079  0.160009102 \n",
              "704 829880   1493785041 SF3079  0.136059419 \n",
              "705 829881   1493786889 SF3079  0.097674783 \n",
              "706 829882   1493788737 SF3079  0.061234829 \n",
              "707 829883   1493790584 SF3079  0.039046693 \n",
              "708 829884   1493792430 SF3079  0.032995578 \n",
              "709 829885   1493794277 SF3079  0.035459700 \n",
              "710 829886   1493796127 SF3079  0.036058069 \n",
              "711 829887   1493797974 SF3079  0.029049442 \n",
              "712 829888   1493799820 SF3079  0.016286458 \n",
              "713 829889   1493801652 SF3079  0.004242903 \n",
              "714 829890   1493803481 SF3079 -0.001995191 \n",
              "715 829891   1493805310 SF3079 -0.002918625 "
            ],
            "text/latex": "A tibble: 715 × 4\n\\begin{tabular}{llll}\n time\\_30m & timestamp & pid & TAC\\_Reading\\\\\n <int> & <dbl> & <chr> & <dbl>\\\\\n\\hline\n\t 829843 & 1493718714 & BK7610 & -0.0004824197\\\\\n\t 829844 & 1493720697 & BK7610 &  0.0015729216\\\\\n\t 829845 & 1493721027 & BK7610 &  0.0021441376\\\\\n\t 829845 & 1493721357 & BK7610 &  0.0008768117\\\\\n\t 829845 & 1493721686 & BK7610 & -0.0011453854\\\\\n\t 829845 & 1493722016 & BK7610 & -0.0021592216\\\\\n\t 829845 & 1493722345 & BK7610 & -0.0010325457\\\\\n\t 829845 & 1493722674 & BK7610 &  0.0018079172\\\\\n\t 829846 & 1493723003 & BK7610 &  0.0045418878\\\\\n\t 829847 & 1493724832 & BK7610 &  0.0051849954\\\\\n\t 829847 & 1493725160 & BK7610 &  0.0030935080\\\\\n\t 829847 & 1493725474 & BK7610 & -0.0002910164\\\\\n\t 829847 & 1493725804 & BK7610 & -0.0020249007\\\\\n\t 829848 & 1493727636 & BK7610 &  0.0007436773\\\\\n\t 829849 & 1493729467 & BK7610 &  0.0091884665\\\\\n\t 829850 & 1493731296 & BK7610 &  0.0222502269\\\\\n\t 829851 & 1493733371 & BK7610 &  0.0374216586\\\\\n\t 829852 & 1493735217 & BK7610 &  0.0522380483\\\\\n\t 829853 & 1493737046 & BK7610 &  0.0653566312\\\\\n\t 829854 & 1493738847 & BK7610 &  0.0764619397\\\\\n\t 829856 & 1493740845 & BK7610 &  0.0851966959\\\\\n\t 829857 & 1493742871 & BK7610 &  0.0901654783\\\\\n\t 829858 & 1493744843 & BK7610 &  0.0891215870\\\\\n\t 829859 & 1493746883 & BK7610 &  0.0805881162\\\\\n\t 829860 & 1493748731 & BK7610 &  0.0659532708\\\\\n\t 829861 & 1493750580 & BK7610 &  0.0504236165\\\\\n\t 829862 & 1493752430 & BK7610 &  0.0416892364\\\\\n\t 829863 & 1493754265 & BK7610 &  0.0465593904\\\\\n\t 829864 & 1493756113 & BK7610 &  0.0672685523\\\\\n\t 829865 & 1493757960 & BK7610 &  0.0996299302\\\\\n\t ⋮ & ⋮ & ⋮ & ⋮\\\\\n\t 829865 & 1493757768 & SF3079 &  0.047272220\\\\\n\t 829865 & 1493758105 & SF3079 &  0.011152399\\\\\n\t 829865 & 1493758444 & SF3079 & -0.016064958\\\\\n\t 829866 & 1493760283 & SF3079 & -0.028307676\\\\\n\t 829867 & 1493760619 & SF3079 & -0.021409262\\\\\n\t 829867 & 1493760957 & SF3079 &  0.005478460\\\\\n\t 829868 & 1493762797 & SF3079 &  0.047505402\\\\\n\t 829869 & 1493764637 & SF3079 &  0.093288929\\\\\n\t 829870 & 1493766476 & SF3079 &  0.128037793\\\\\n\t 829871 & 1493768331 & SF3079 &  0.140323299\\\\\n\t 829872 & 1493770192 & SF3079 &  0.128831847\\\\\n\t 829873 & 1493772034 & SF3079 &  0.104307828\\\\\n\t 829874 & 1493773949 & SF3079 &  0.084355798\\\\\n\t 829875 & 1493775799 & SF3079 &  0.083469147\\\\\n\t 829876 & 1493777649 & SF3079 &  0.104252756\\\\\n\t 829877 & 1493779498 & SF3079 &  0.135560604\\\\\n\t 829878 & 1493781346 & SF3079 &  0.159026198\\\\\n\t 829879 & 1493783193 & SF3079 &  0.160009102\\\\\n\t 829880 & 1493785041 & SF3079 &  0.136059419\\\\\n\t 829881 & 1493786889 & SF3079 &  0.097674783\\\\\n\t 829882 & 1493788737 & SF3079 &  0.061234829\\\\\n\t 829883 & 1493790584 & SF3079 &  0.039046693\\\\\n\t 829884 & 1493792430 & SF3079 &  0.032995578\\\\\n\t 829885 & 1493794277 & SF3079 &  0.035459700\\\\\n\t 829886 & 1493796127 & SF3079 &  0.036058069\\\\\n\t 829887 & 1493797974 & SF3079 &  0.029049442\\\\\n\t 829888 & 1493799820 & SF3079 &  0.016286458\\\\\n\t 829889 & 1493801652 & SF3079 &  0.004242903\\\\\n\t 829890 & 1493803481 & SF3079 & -0.001995191\\\\\n\t 829891 & 1493805310 & SF3079 & -0.002918625\\\\\n\\end{tabular}\n",
            "text/markdown": "\nA tibble: 715 × 4\n\n| time_30m &lt;int&gt; | timestamp &lt;dbl&gt; | pid &lt;chr&gt; | TAC_Reading &lt;dbl&gt; |\n|---|---|---|---|\n| 829843 | 1493718714 | BK7610 | -0.0004824197 |\n| 829844 | 1493720697 | BK7610 |  0.0015729216 |\n| 829845 | 1493721027 | BK7610 |  0.0021441376 |\n| 829845 | 1493721357 | BK7610 |  0.0008768117 |\n| 829845 | 1493721686 | BK7610 | -0.0011453854 |\n| 829845 | 1493722016 | BK7610 | -0.0021592216 |\n| 829845 | 1493722345 | BK7610 | -0.0010325457 |\n| 829845 | 1493722674 | BK7610 |  0.0018079172 |\n| 829846 | 1493723003 | BK7610 |  0.0045418878 |\n| 829847 | 1493724832 | BK7610 |  0.0051849954 |\n| 829847 | 1493725160 | BK7610 |  0.0030935080 |\n| 829847 | 1493725474 | BK7610 | -0.0002910164 |\n| 829847 | 1493725804 | BK7610 | -0.0020249007 |\n| 829848 | 1493727636 | BK7610 |  0.0007436773 |\n| 829849 | 1493729467 | BK7610 |  0.0091884665 |\n| 829850 | 1493731296 | BK7610 |  0.0222502269 |\n| 829851 | 1493733371 | BK7610 |  0.0374216586 |\n| 829852 | 1493735217 | BK7610 |  0.0522380483 |\n| 829853 | 1493737046 | BK7610 |  0.0653566312 |\n| 829854 | 1493738847 | BK7610 |  0.0764619397 |\n| 829856 | 1493740845 | BK7610 |  0.0851966959 |\n| 829857 | 1493742871 | BK7610 |  0.0901654783 |\n| 829858 | 1493744843 | BK7610 |  0.0891215870 |\n| 829859 | 1493746883 | BK7610 |  0.0805881162 |\n| 829860 | 1493748731 | BK7610 |  0.0659532708 |\n| 829861 | 1493750580 | BK7610 |  0.0504236165 |\n| 829862 | 1493752430 | BK7610 |  0.0416892364 |\n| 829863 | 1493754265 | BK7610 |  0.0465593904 |\n| 829864 | 1493756113 | BK7610 |  0.0672685523 |\n| 829865 | 1493757960 | BK7610 |  0.0996299302 |\n| ⋮ | ⋮ | ⋮ | ⋮ |\n| 829865 | 1493757768 | SF3079 |  0.047272220 |\n| 829865 | 1493758105 | SF3079 |  0.011152399 |\n| 829865 | 1493758444 | SF3079 | -0.016064958 |\n| 829866 | 1493760283 | SF3079 | -0.028307676 |\n| 829867 | 1493760619 | SF3079 | -0.021409262 |\n| 829867 | 1493760957 | SF3079 |  0.005478460 |\n| 829868 | 1493762797 | SF3079 |  0.047505402 |\n| 829869 | 1493764637 | SF3079 |  0.093288929 |\n| 829870 | 1493766476 | SF3079 |  0.128037793 |\n| 829871 | 1493768331 | SF3079 |  0.140323299 |\n| 829872 | 1493770192 | SF3079 |  0.128831847 |\n| 829873 | 1493772034 | SF3079 |  0.104307828 |\n| 829874 | 1493773949 | SF3079 |  0.084355798 |\n| 829875 | 1493775799 | SF3079 |  0.083469147 |\n| 829876 | 1493777649 | SF3079 |  0.104252756 |\n| 829877 | 1493779498 | SF3079 |  0.135560604 |\n| 829878 | 1493781346 | SF3079 |  0.159026198 |\n| 829879 | 1493783193 | SF3079 |  0.160009102 |\n| 829880 | 1493785041 | SF3079 |  0.136059419 |\n| 829881 | 1493786889 | SF3079 |  0.097674783 |\n| 829882 | 1493788737 | SF3079 |  0.061234829 |\n| 829883 | 1493790584 | SF3079 |  0.039046693 |\n| 829884 | 1493792430 | SF3079 |  0.032995578 |\n| 829885 | 1493794277 | SF3079 |  0.035459700 |\n| 829886 | 1493796127 | SF3079 |  0.036058069 |\n| 829887 | 1493797974 | SF3079 |  0.029049442 |\n| 829888 | 1493799820 | SF3079 |  0.016286458 |\n| 829889 | 1493801652 | SF3079 |  0.004242903 |\n| 829890 | 1493803481 | SF3079 | -0.001995191 |\n| 829891 | 1493805310 | SF3079 | -0.002918625 |\n\n",
            "text/html": [
              "<table class=\"dataframe\">\n",
              "<caption>A tibble: 715 × 4</caption>\n",
              "<thead>\n",
              "\t<tr><th scope=col>time_30m</th><th scope=col>timestamp</th><th scope=col>pid</th><th scope=col>TAC_Reading</th></tr>\n",
              "\t<tr><th scope=col>&lt;int&gt;</th><th scope=col>&lt;dbl&gt;</th><th scope=col>&lt;chr&gt;</th><th scope=col>&lt;dbl&gt;</th></tr>\n",
              "</thead>\n",
              "<tbody>\n",
              "\t<tr><td>829843</td><td>1493718714</td><td>BK7610</td><td>-0.0004824197</td></tr>\n",
              "\t<tr><td>829844</td><td>1493720697</td><td>BK7610</td><td> 0.0015729216</td></tr>\n",
              "\t<tr><td>829845</td><td>1493721027</td><td>BK7610</td><td> 0.0021441376</td></tr>\n",
              "\t<tr><td>829845</td><td>1493721357</td><td>BK7610</td><td> 0.0008768117</td></tr>\n",
              "\t<tr><td>829845</td><td>1493721686</td><td>BK7610</td><td>-0.0011453854</td></tr>\n",
              "\t<tr><td>829845</td><td>1493722016</td><td>BK7610</td><td>-0.0021592216</td></tr>\n",
              "\t<tr><td>829845</td><td>1493722345</td><td>BK7610</td><td>-0.0010325457</td></tr>\n",
              "\t<tr><td>829845</td><td>1493722674</td><td>BK7610</td><td> 0.0018079172</td></tr>\n",
              "\t<tr><td>829846</td><td>1493723003</td><td>BK7610</td><td> 0.0045418878</td></tr>\n",
              "\t<tr><td>829847</td><td>1493724832</td><td>BK7610</td><td> 0.0051849954</td></tr>\n",
              "\t<tr><td>829847</td><td>1493725160</td><td>BK7610</td><td> 0.0030935080</td></tr>\n",
              "\t<tr><td>829847</td><td>1493725474</td><td>BK7610</td><td>-0.0002910164</td></tr>\n",
              "\t<tr><td>829847</td><td>1493725804</td><td>BK7610</td><td>-0.0020249007</td></tr>\n",
              "\t<tr><td>829848</td><td>1493727636</td><td>BK7610</td><td> 0.0007436773</td></tr>\n",
              "\t<tr><td>829849</td><td>1493729467</td><td>BK7610</td><td> 0.0091884665</td></tr>\n",
              "\t<tr><td>829850</td><td>1493731296</td><td>BK7610</td><td> 0.0222502269</td></tr>\n",
              "\t<tr><td>829851</td><td>1493733371</td><td>BK7610</td><td> 0.0374216586</td></tr>\n",
              "\t<tr><td>829852</td><td>1493735217</td><td>BK7610</td><td> 0.0522380483</td></tr>\n",
              "\t<tr><td>829853</td><td>1493737046</td><td>BK7610</td><td> 0.0653566312</td></tr>\n",
              "\t<tr><td>829854</td><td>1493738847</td><td>BK7610</td><td> 0.0764619397</td></tr>\n",
              "\t<tr><td>829856</td><td>1493740845</td><td>BK7610</td><td> 0.0851966959</td></tr>\n",
              "\t<tr><td>829857</td><td>1493742871</td><td>BK7610</td><td> 0.0901654783</td></tr>\n",
              "\t<tr><td>829858</td><td>1493744843</td><td>BK7610</td><td> 0.0891215870</td></tr>\n",
              "\t<tr><td>829859</td><td>1493746883</td><td>BK7610</td><td> 0.0805881162</td></tr>\n",
              "\t<tr><td>829860</td><td>1493748731</td><td>BK7610</td><td> 0.0659532708</td></tr>\n",
              "\t<tr><td>829861</td><td>1493750580</td><td>BK7610</td><td> 0.0504236165</td></tr>\n",
              "\t<tr><td>829862</td><td>1493752430</td><td>BK7610</td><td> 0.0416892364</td></tr>\n",
              "\t<tr><td>829863</td><td>1493754265</td><td>BK7610</td><td> 0.0465593904</td></tr>\n",
              "\t<tr><td>829864</td><td>1493756113</td><td>BK7610</td><td> 0.0672685523</td></tr>\n",
              "\t<tr><td>829865</td><td>1493757960</td><td>BK7610</td><td> 0.0996299302</td></tr>\n",
              "\t<tr><td>⋮</td><td>⋮</td><td>⋮</td><td>⋮</td></tr>\n",
              "\t<tr><td>829865</td><td>1493757768</td><td>SF3079</td><td> 0.047272220</td></tr>\n",
              "\t<tr><td>829865</td><td>1493758105</td><td>SF3079</td><td> 0.011152399</td></tr>\n",
              "\t<tr><td>829865</td><td>1493758444</td><td>SF3079</td><td>-0.016064958</td></tr>\n",
              "\t<tr><td>829866</td><td>1493760283</td><td>SF3079</td><td>-0.028307676</td></tr>\n",
              "\t<tr><td>829867</td><td>1493760619</td><td>SF3079</td><td>-0.021409262</td></tr>\n",
              "\t<tr><td>829867</td><td>1493760957</td><td>SF3079</td><td> 0.005478460</td></tr>\n",
              "\t<tr><td>829868</td><td>1493762797</td><td>SF3079</td><td> 0.047505402</td></tr>\n",
              "\t<tr><td>829869</td><td>1493764637</td><td>SF3079</td><td> 0.093288929</td></tr>\n",
              "\t<tr><td>829870</td><td>1493766476</td><td>SF3079</td><td> 0.128037793</td></tr>\n",
              "\t<tr><td>829871</td><td>1493768331</td><td>SF3079</td><td> 0.140323299</td></tr>\n",
              "\t<tr><td>829872</td><td>1493770192</td><td>SF3079</td><td> 0.128831847</td></tr>\n",
              "\t<tr><td>829873</td><td>1493772034</td><td>SF3079</td><td> 0.104307828</td></tr>\n",
              "\t<tr><td>829874</td><td>1493773949</td><td>SF3079</td><td> 0.084355798</td></tr>\n",
              "\t<tr><td>829875</td><td>1493775799</td><td>SF3079</td><td> 0.083469147</td></tr>\n",
              "\t<tr><td>829876</td><td>1493777649</td><td>SF3079</td><td> 0.104252756</td></tr>\n",
              "\t<tr><td>829877</td><td>1493779498</td><td>SF3079</td><td> 0.135560604</td></tr>\n",
              "\t<tr><td>829878</td><td>1493781346</td><td>SF3079</td><td> 0.159026198</td></tr>\n",
              "\t<tr><td>829879</td><td>1493783193</td><td>SF3079</td><td> 0.160009102</td></tr>\n",
              "\t<tr><td>829880</td><td>1493785041</td><td>SF3079</td><td> 0.136059419</td></tr>\n",
              "\t<tr><td>829881</td><td>1493786889</td><td>SF3079</td><td> 0.097674783</td></tr>\n",
              "\t<tr><td>829882</td><td>1493788737</td><td>SF3079</td><td> 0.061234829</td></tr>\n",
              "\t<tr><td>829883</td><td>1493790584</td><td>SF3079</td><td> 0.039046693</td></tr>\n",
              "\t<tr><td>829884</td><td>1493792430</td><td>SF3079</td><td> 0.032995578</td></tr>\n",
              "\t<tr><td>829885</td><td>1493794277</td><td>SF3079</td><td> 0.035459700</td></tr>\n",
              "\t<tr><td>829886</td><td>1493796127</td><td>SF3079</td><td> 0.036058069</td></tr>\n",
              "\t<tr><td>829887</td><td>1493797974</td><td>SF3079</td><td> 0.029049442</td></tr>\n",
              "\t<tr><td>829888</td><td>1493799820</td><td>SF3079</td><td> 0.016286458</td></tr>\n",
              "\t<tr><td>829889</td><td>1493801652</td><td>SF3079</td><td> 0.004242903</td></tr>\n",
              "\t<tr><td>829890</td><td>1493803481</td><td>SF3079</td><td>-0.001995191</td></tr>\n",
              "\t<tr><td>829891</td><td>1493805310</td><td>SF3079</td><td>-0.002918625</td></tr>\n",
              "</tbody>\n",
              "</table>\n"
            ]
          },
          "metadata": {}
        }
      ]
    },
    {
      "cell_type": "code",
      "metadata": {
        "colab": {
          "base_uri": "https://localhost:8080/",
          "height": 504
        },
        "id": "atTLHwZQ_VFI",
        "outputId": "92a0a16a-915e-4c1b-935e-5e1218e0948b"
      },
      "source": [
        "accel <- read_csv(\"all_accelerometer_data_pids_13.csv\") %>%\n",
        "  arrange(pid, time) %>%\n",
        "  filter(time > 0) # git rid of a couple of 0 readings\n",
        "\n",
        "accel <- accel %>%  mutate(time_30m = as.integer(round(time/1000/60/30)))\n",
        "\n",
        "combined <- inner_join(accel, tac) %>%\n",
        "  mutate(intox=(TAC_Reading > 0.08) * 1L)\n",
        "\n",
        "head(combined)"
      ],
      "execution_count": 6,
      "outputs": [
        {
          "output_type": "stream",
          "name": "stderr",
          "text": [
            "\u001b[1m\u001b[1mRows: \u001b[1m\u001b[22m\u001b[34m\u001b[34m14057567\u001b[34m\u001b[39m \u001b[1m\u001b[1mColumns: \u001b[1m\u001b[22m\u001b[34m\u001b[34m5\u001b[34m\u001b[39m\n",
            "\n",
            "\u001b[36m──\u001b[39m \u001b[1m\u001b[1mColumn specification\u001b[1m\u001b[22m \u001b[36m────────────────────────────────────────────────────────\u001b[39m\n",
            "\u001b[1mDelimiter:\u001b[22m \",\"\n",
            "\u001b[31mchr\u001b[39m (1): pid\n",
            "\u001b[32mdbl\u001b[39m (4): time, x, y, z\n",
            "\n",
            "\n",
            "\u001b[36mℹ\u001b[39m Use \u001b[30m\u001b[47m\u001b[30m\u001b[47m`spec()`\u001b[47m\u001b[30m\u001b[49m\u001b[39m to retrieve the full column specification for this data.\n",
            "\u001b[36mℹ\u001b[39m Specify the column types or set \u001b[30m\u001b[47m\u001b[30m\u001b[47m`show_col_types = FALSE`\u001b[47m\u001b[30m\u001b[49m\u001b[39m to quiet this message.\n",
            "\n",
            "Joining, by = c(\"pid\", \"time_30m\")\n",
            "\n"
          ]
        },
        {
          "output_type": "display_data",
          "data": {
            "text/plain": [
              "  time         pid    x      y       z       time_30m timestamp  TAC_Reading\n",
              "1 1.493736e+12 BK7610 0.1261 -0.0078 -0.0243 829853   1493737046 0.06535663 \n",
              "2 1.493736e+12 BK7610 0.1336 -0.0697 -0.0446 829853   1493737046 0.06535663 \n",
              "3 1.493736e+12 BK7610 0.1443 -0.0474 -0.0447 829853   1493737046 0.06535663 \n",
              "4 1.493736e+12 BK7610 0.1255 -0.0038  0.0111 829853   1493737046 0.06535663 \n",
              "5 1.493736e+12 BK7610 0.1076  0.0032  0.0276 829853   1493737046 0.06535663 \n",
              "6 1.493736e+12 BK7610 0.1155 -0.0284  0.0000 829853   1493737046 0.06535663 \n",
              "  intox\n",
              "1 0    \n",
              "2 0    \n",
              "3 0    \n",
              "4 0    \n",
              "5 0    \n",
              "6 0    "
            ],
            "text/latex": "A tibble: 6 × 9\n\\begin{tabular}{lllllllll}\n time & pid & x & y & z & time\\_30m & timestamp & TAC\\_Reading & intox\\\\\n <dbl> & <chr> & <dbl> & <dbl> & <dbl> & <int> & <dbl> & <dbl> & <int>\\\\\n\\hline\n\t 1.493736e+12 & BK7610 & 0.1261 & -0.0078 & -0.0243 & 829853 & 1493737046 & 0.06535663 & 0\\\\\n\t 1.493736e+12 & BK7610 & 0.1336 & -0.0697 & -0.0446 & 829853 & 1493737046 & 0.06535663 & 0\\\\\n\t 1.493736e+12 & BK7610 & 0.1443 & -0.0474 & -0.0447 & 829853 & 1493737046 & 0.06535663 & 0\\\\\n\t 1.493736e+12 & BK7610 & 0.1255 & -0.0038 &  0.0111 & 829853 & 1493737046 & 0.06535663 & 0\\\\\n\t 1.493736e+12 & BK7610 & 0.1076 &  0.0032 &  0.0276 & 829853 & 1493737046 & 0.06535663 & 0\\\\\n\t 1.493736e+12 & BK7610 & 0.1155 & -0.0284 &  0.0000 & 829853 & 1493737046 & 0.06535663 & 0\\\\\n\\end{tabular}\n",
            "text/markdown": "\nA tibble: 6 × 9\n\n| time &lt;dbl&gt; | pid &lt;chr&gt; | x &lt;dbl&gt; | y &lt;dbl&gt; | z &lt;dbl&gt; | time_30m &lt;int&gt; | timestamp &lt;dbl&gt; | TAC_Reading &lt;dbl&gt; | intox &lt;int&gt; |\n|---|---|---|---|---|---|---|---|---|\n| 1.493736e+12 | BK7610 | 0.1261 | -0.0078 | -0.0243 | 829853 | 1493737046 | 0.06535663 | 0 |\n| 1.493736e+12 | BK7610 | 0.1336 | -0.0697 | -0.0446 | 829853 | 1493737046 | 0.06535663 | 0 |\n| 1.493736e+12 | BK7610 | 0.1443 | -0.0474 | -0.0447 | 829853 | 1493737046 | 0.06535663 | 0 |\n| 1.493736e+12 | BK7610 | 0.1255 | -0.0038 |  0.0111 | 829853 | 1493737046 | 0.06535663 | 0 |\n| 1.493736e+12 | BK7610 | 0.1076 |  0.0032 |  0.0276 | 829853 | 1493737046 | 0.06535663 | 0 |\n| 1.493736e+12 | BK7610 | 0.1155 | -0.0284 |  0.0000 | 829853 | 1493737046 | 0.06535663 | 0 |\n\n",
            "text/html": [
              "<table class=\"dataframe\">\n",
              "<caption>A tibble: 6 × 9</caption>\n",
              "<thead>\n",
              "\t<tr><th scope=col>time</th><th scope=col>pid</th><th scope=col>x</th><th scope=col>y</th><th scope=col>z</th><th scope=col>time_30m</th><th scope=col>timestamp</th><th scope=col>TAC_Reading</th><th scope=col>intox</th></tr>\n",
              "\t<tr><th scope=col>&lt;dbl&gt;</th><th scope=col>&lt;chr&gt;</th><th scope=col>&lt;dbl&gt;</th><th scope=col>&lt;dbl&gt;</th><th scope=col>&lt;dbl&gt;</th><th scope=col>&lt;int&gt;</th><th scope=col>&lt;dbl&gt;</th><th scope=col>&lt;dbl&gt;</th><th scope=col>&lt;int&gt;</th></tr>\n",
              "</thead>\n",
              "<tbody>\n",
              "\t<tr><td>1.493736e+12</td><td>BK7610</td><td>0.1261</td><td>-0.0078</td><td>-0.0243</td><td>829853</td><td>1493737046</td><td>0.06535663</td><td>0</td></tr>\n",
              "\t<tr><td>1.493736e+12</td><td>BK7610</td><td>0.1336</td><td>-0.0697</td><td>-0.0446</td><td>829853</td><td>1493737046</td><td>0.06535663</td><td>0</td></tr>\n",
              "\t<tr><td>1.493736e+12</td><td>BK7610</td><td>0.1443</td><td>-0.0474</td><td>-0.0447</td><td>829853</td><td>1493737046</td><td>0.06535663</td><td>0</td></tr>\n",
              "\t<tr><td>1.493736e+12</td><td>BK7610</td><td>0.1255</td><td>-0.0038</td><td> 0.0111</td><td>829853</td><td>1493737046</td><td>0.06535663</td><td>0</td></tr>\n",
              "\t<tr><td>1.493736e+12</td><td>BK7610</td><td>0.1076</td><td> 0.0032</td><td> 0.0276</td><td>829853</td><td>1493737046</td><td>0.06535663</td><td>0</td></tr>\n",
              "\t<tr><td>1.493736e+12</td><td>BK7610</td><td>0.1155</td><td>-0.0284</td><td> 0.0000</td><td>829853</td><td>1493737046</td><td>0.06535663</td><td>0</td></tr>\n",
              "</tbody>\n",
              "</table>\n"
            ]
          },
          "metadata": {}
        }
      ]
    },
    {
      "cell_type": "markdown",
      "metadata": {
        "id": "3yvnGuss_puP"
      },
      "source": [
        "## Generators"
      ]
    },
    {
      "cell_type": "code",
      "metadata": {
        "id": "IQBB-l9s_rys"
      },
      "source": [
        "generator <- function(data, lookback, delay, min_index, max_index,\n",
        "                      shuffle = FALSE, batch_size = 32, step = 1) {\n",
        "  if (is.null(max_index))\n",
        "    max_index <- nrow(data) - delay # - 1 why \"-1\"?  removed it\n",
        "  i <- min_index + lookback\n",
        "  function() {\n",
        "    if (shuffle) {\n",
        "      rows <- sample(c((min_index+lookback):max_index), size = batch_size)\n",
        "    } else {\n",
        "      if (i + batch_size >= max_index)\n",
        "        i <<- min_index + lookback\n",
        "      rows <- c(i:min(i+batch_size, max_index))\n",
        "      i <<- i + length(rows)\n",
        "    }\n",
        "    \n",
        "    samples <- array(0, dim = c(length(rows), \n",
        "                                lookback / step,\n",
        "                                3)) # 3 for x, y, z\n",
        "    targets <- array(0, dim = c(length(rows)))\n",
        "                     \n",
        "    for (j in 1:length(rows)) {\n",
        "      my_row <- rows[j]\n",
        "      \n",
        "      indices <- seq(my_row - lookback, my_row, \n",
        "                     length.out = dim(samples)[[2]])\n",
        "      \n",
        "      # make sure all from same person\n",
        "      discord <- sum(data$pid[indices] != data$pid[my_row])\n",
        "      if (discord > 0) {\n",
        "        indices <- indices + discord\n",
        "        my_row <- my_row + discord\n",
        "      }\n",
        "      \n",
        "      samples[j,,] <- as.matrix(data[round(indices),c(\"x\", \"y\", \"z\")])\n",
        "      targets[[j]] <- as.matrix(data[my_row + delay, \"intox\"])\n",
        "    }            \n",
        "    \n",
        "    list(samples, targets)\n",
        "  }\n",
        "}\n",
        "\n"
      ],
      "execution_count": 7,
      "outputs": []
    },
    {
      "cell_type": "markdown",
      "metadata": {
        "id": "WWOqTGzD1pG2"
      },
      "source": [
        ""
      ]
    },
    {
      "cell_type": "code",
      "metadata": {
        "id": "HG9Dhq4w_y8U"
      },
      "source": [
        "lookback <- 12000 # 300 seconds\n",
        "step <- 2 # 20 observations per second\n",
        "delay <- 0\n",
        "batch_size <- 128\n",
        "\n",
        "train_gen <- generator(\n",
        "  data = combined,\n",
        "  lookback = lookback,\n",
        "  delay = delay,\n",
        "  min_index = 1,\n",
        "  max_index = {which(combined$pid==\"JR8022\") %>% max()},\n",
        "  shuffle = TRUE,\n",
        "  step = step, \n",
        "  batch_size = batch_size\n",
        ")\n",
        "\n",
        "val_gen = generator(\n",
        "  data = combined,\n",
        "  lookback = lookback,\n",
        "  delay = delay,\n",
        "  min_index = {which(combined$pid==\"JR8022\") %>% max() + 1},\n",
        "  max_index = {which(combined$pid==\"MJ8002\") %>% max()},\n",
        "  shuffle = TRUE,\n",
        "  step = step, \n",
        "  batch_size = batch_size\n",
        ")\n",
        "\n",
        "test_gen <- generator(\n",
        "  data = combined,\n",
        "  lookback = lookback,\n",
        "  delay = delay,\n",
        "  min_index = {which(combined$pid==\"MJ8002\") %>% max() + 1},\n",
        "  max_index = nrow(combined),\n",
        "  shuffle = TRUE,\n",
        "  step = step, \n",
        "  batch_size = batch_size\n",
        ")\n",
        "\n",
        "# Unrealistic to look at the whole validation or test sets; look at 5000 / 10000\n",
        "val_steps <- (5120) / batch_size\n",
        "\n",
        "# This is how many steps to draw from `test_gen`\n",
        "# in order to see the whole test set:\n",
        "test_steps <- (10000) / batch_size"
      ],
      "execution_count": 8,
      "outputs": []
    },
    {
      "cell_type": "markdown",
      "metadata": {
        "id": "tMHUCEe0DIME"
      },
      "source": [
        "## Simple RNN (one layer)"
      ]
    },
    {
      "cell_type": "code",
      "metadata": {
        "colab": {
          "base_uri": "https://localhost:8080/",
          "height": 522
        },
        "id": "WoeqB9Ox_1x3",
        "outputId": "12da2267-896f-4717-fd3d-07132703d89e"
      },
      "source": [
        "# 16 unit, 12000 lookback\n",
        "\n",
        "model <- keras_model_sequential() %>% \n",
        "  layer_gru(units = 16, input_shape = list(NULL, 3) ,\n",
        "              recurrent_activation = \"sigmoid\",\n",
        "            use_bias = TRUE,\n",
        "            reset_after = TRUE) %>% \n",
        "  layer_dense(units = 1, activation = \"sigmoid\")\n",
        "\n",
        "model %>% compile(\n",
        "  optimizer = optimizer_rmsprop(),\n",
        "  loss = \"binary_crossentropy\",\n",
        "  metrics = \"accuracy\"\n",
        ")\n",
        "\n",
        "history <- model %>% fit_generator(\n",
        "  train_gen,\n",
        "  steps_per_epoch = 50,\n",
        "  epochs = 100,\n",
        "  validation_data = val_gen,\n",
        "  validation_steps = val_steps\n",
        ")\n",
        "\n",
        "model %>% evaluate(test_gen, steps=test_steps)\n",
        "\n",
        "plot(history)"
      ],
      "execution_count": 9,
      "outputs": [
        {
          "metadata": {
            "tags": null
          },
          "name": "stderr",
          "output_type": "stream",
          "text": [
            "Warning message in fit_generator(., train_gen, steps_per_epoch = 50, epochs = 100, :\n",
            "“`fit_generator` is deprecated. Use `fit` instead, it now accept generators.”\n"
          ]
        },
        {
          "output_type": "display_data",
          "data": {
            "text/plain": [
              "     loss  accuracy \n",
              "0.4954529 0.6582532 "
            ],
            "text/latex": "\\begin{description*}\n\\item[loss] 0.495452880859375\n\\item[accuracy] 0.658253192901611\n\\end{description*}\n",
            "text/markdown": "loss\n:   0.495452880859375accuracy\n:   0.658253192901611\n\n",
            "text/html": [
              "<style>\n",
              ".dl-inline {width: auto; margin:0; padding: 0}\n",
              ".dl-inline>dt, .dl-inline>dd {float: none; width: auto; display: inline-block}\n",
              ".dl-inline>dt::after {content: \":\\0020\"; padding-right: .5ex}\n",
              ".dl-inline>dt:not(:first-of-type) {padding-left: .5ex}\n",
              "</style><dl class=dl-inline><dt>loss</dt><dd>0.495452880859375</dd><dt>accuracy</dt><dd>0.658253192901611</dd></dl>\n"
            ]
          },
          "metadata": {}
        },
        {
          "output_type": "stream",
          "name": "stderr",
          "text": [
            "`geom_smooth()` using formula 'y ~ x'\n",
            "\n"
          ]
        },
        {
          "output_type": "display_data",
          "data": {
            "image/png": "[encoded data removed]",
            "text/plain": [
              "plot without title"
            ]
          },
          "metadata": {
            "image/png": {
              "width": 420,
              "height": 420
            }
          }
        }
      ]
    },
    {
      "cell_type": "code",
      "metadata": {
        "id": "A2o3dDRjttUG"
      },
      "source": [
        ""
      ],
      "execution_count": null,
      "outputs": []
    },
    {
      "cell_type": "code",
      "metadata": {
        "id": "QnLdEtWpttsV"
      },
      "source": [
        "# 32 / 16 layers, 12000 lookback\n",
        "\n",
        "model <- keras_model_sequential() %>% \n",
        "  layer_gru(units = 32, input_shape = list(NULL, 3) ,\n",
        "              recurrent_activation = \"sigmoid\",\n",
        "            use_bias = TRUE,\n",
        "            reset_after = TRUE,\n",
        "            return_sequences = TRUE ) %>%\n",
        "  layer_gru(units = 16 ,\n",
        "              recurrent_activation = \"sigmoid\",\n",
        "            use_bias = TRUE,\n",
        "            reset_after = TRUE) %>% \n",
        "  layer_dense(units = 1, activation = \"sigmoid\")\n",
        "\n",
        "model %>% compile(\n",
        "  optimizer = optimizer_rmsprop(),\n",
        "  loss = \"binary_crossentropy\",\n",
        "  metrics = \"accuracy\"\n",
        ")\n",
        "\n",
        "history <- model %>% fit_generator(\n",
        "  train_gen,\n",
        "  steps_per_epoch = 50,\n",
        "  epochs = 100,\n",
        "  validation_data = val_gen,\n",
        "  validation_steps = val_steps\n",
        ")\n",
        "\n",
        "model %>% evaluate(test_gen, steps=test_steps)\n",
        "\n",
        "plot(history)"
      ],
      "execution_count": null,
      "outputs": []
    },
    {
      "cell_type": "markdown",
      "metadata": {
        "id": "JKRqZ3eUog6Q"
      },
      "source": [
        "## CNN RNN"
      ]
    },
    {
      "cell_type": "code",
      "metadata": {
        "id": "pPBEukTgsLa9"
      },
      "source": [
        "lookback <- 48000 # 1200 seconds\n",
        "step <- 4 # 10 observations per second\n",
        "delay <- 0\n",
        "batch_size <- 128\n",
        "\n",
        "train_gen <- generator(\n",
        "  data = combined,\n",
        "  lookback = lookback,\n",
        "  delay = delay,\n",
        "  min_index = 1,\n",
        "  max_index = {which(combined$pid==\"JR8022\") %>% max()},\n",
        "  shuffle = TRUE,\n",
        "  step = step, \n",
        "  batch_size = batch_size\n",
        ")\n",
        "\n",
        "val_gen = generator(\n",
        "  data = combined,\n",
        "  lookback = lookback,\n",
        "  delay = delay,\n",
        "  min_index = {which(combined$pid==\"JR8022\") %>% max() + 1},\n",
        "  max_index = {which(combined$pid==\"MJ8002\") %>% max()},\n",
        "  shuffle = TRUE,\n",
        "  step = step, \n",
        "  batch_size = batch_size\n",
        ")\n",
        "\n",
        "test_gen <- generator(\n",
        "  data = combined,\n",
        "  lookback = lookback,\n",
        "  delay = delay,\n",
        "  min_index = {which(combined$pid==\"MJ8002\") %>% max() + 1},\n",
        "  max_index = nrow(combined),\n",
        "  shuffle = TRUE,\n",
        "  step = step, \n",
        "  batch_size = batch_size\n",
        ")\n",
        "\n",
        "# Unrealistic to look at the whole validation or test sets; look at 5120 / 10000\n",
        "val_steps <- (5120) / batch_size\n",
        "\n",
        "# This is how many steps to draw from `test_gen`\n",
        "# in order to see the whole test set:\n",
        "test_steps <- (10000) / batch_size"
      ],
      "execution_count": null,
      "outputs": []
    },
    {
      "cell_type": "code",
      "metadata": {
        "id": "-yC8_iXVoeTm"
      },
      "source": [
        "model <- keras_model_sequential() %>% \n",
        "  layer_conv_1d(filters = 64, \n",
        "            kernel_size = 32,\n",
        "            input_shape = list(NULL, 3),\n",
        "            activation = \"relu\"\n",
        "            ) %>% \n",
        "  layer_max_pooling_1d(pool_size = 3) %>%\n",
        "  layer_conv_1d(filters = 32,\n",
        "            kernel_size = 16,\n",
        "            activation=\"relu\"\n",
        "            ) %>%\n",
        "  layer_max_pooling_1d(pool_size = 3) %>%\n",
        "    layer_conv_1d(filters = 32,\n",
        "            kernel_size = 8,\n",
        "            activation=\"relu\"\n",
        "            ) %>%\n",
        "  layer_max_pooling_1d(pool_size = 3) %>%\n",
        "  bidirectional(\n",
        "    layer_gru(units = 16,\n",
        "            recurrent_activation = \"sigmoid\",\n",
        "            use_bias = TRUE,\n",
        "            reset_after = TRUE)\n",
        "   ) %>%\n",
        "  layer_dense(units = 1, activation=\"sigmoid\")\n",
        "\n",
        "summary(model)\n",
        "\n",
        "model %>% compile(\n",
        "  optimizer = optimizer_rmsprop(lr = 0.0005),\n",
        "  loss = \"binary_crossentropy\",\n",
        "  metrics = \"acc\"\n",
        ")\n",
        "\n",
        "system.time(history <- model %>% fit(\n",
        "  train_gen,\n",
        "  steps_per_epoch = 50,\n",
        "  epochs = 100,\n",
        "  validation_data = val_gen,\n",
        "  validation_steps = val_steps\n",
        "))\n",
        "\n",
        "model %>% evaluate(test_gen, steps=test_steps)\n",
        "\n",
        "plot(history)"
      ],
      "execution_count": null,
      "outputs": []
    }
  ]
}