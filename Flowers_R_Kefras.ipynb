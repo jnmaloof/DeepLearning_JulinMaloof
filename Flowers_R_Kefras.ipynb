{
  "nbformat": 4,
  "nbformat_minor": 0,
  "metadata": {
    "colab": {
      "name": "Flowers R Kefras.ipynb",
      "provenance": [],
      "collapsed_sections": [],
      "authorship_tag": "ABX9TyMb3iUOLOnGif/o/EobqWqK",
      "include_colab_link": true
    },
    "kernelspec": {
      "name": "ir",
      "display_name": "R"
    },
    "language_info": {
      "name": "R"
    },
    "accelerator": "GPU"
  },
  "cells": [
    {
      "cell_type": "markdown",
      "metadata": {
        "id": "view-in-github",
        "colab_type": "text"
      },
      "source": [
        "<a href=\"https://colab.research.google.com/github/jnmaloof/DeepLearning_JulinMaloof/blob/main/Flowers_R_Kefras.ipynb\" target=\"_parent\"><img src=\"https://colab.research.google.com/assets/colab-badge.svg\" alt=\"Open In Colab\"/></a>"
      ]
    },
    {
      "cell_type": "markdown",
      "metadata": {
        "id": "E2_VZb_8K3RM"
      },
      "source": [
        "# Colab notebook for trying to classify flowers\n",
        "\n",
        "This is an R script.  See this [info on how to start an R script in colab](https://towardsdatascience.com/how-to-use-r-in-google-colab-b6e02d736497)\n",
        "\n",
        "\n",
        "Dataset is from kaggle [here](https://www.kaggle.com/rishitchs/final-flowers-course-project-dataset)\n",
        "\n",
        "## Installations and setup"
      ]
    },
    {
      "cell_type": "code",
      "metadata": {
        "colab": {
          "base_uri": "https://localhost:8080/"
        },
        "id": "7NKERgVaLB6e",
        "outputId": "7af3e815-e20a-4a1f-e2ab-5e991beb5026"
      },
      "source": [
        "install.packages(\"keras\")"
      ],
      "execution_count": 2,
      "outputs": [
        {
          "output_type": "stream",
          "text": [
            "Installing package into ‘/usr/local/lib/R/site-library’\n",
            "(as ‘lib’ is unspecified)\n",
            "\n",
            "also installing the dependencies ‘png’, ‘config’, ‘reticulate’, ‘tensorflow’, ‘tfruns’, ‘zeallot’\n",
            "\n",
            "\n"
          ],
          "name": "stderr"
        }
      ]
    },
    {
      "cell_type": "code",
      "metadata": {
        "colab": {
          "base_uri": "https://localhost:8080/"
        },
        "id": "L2v0gVg8STxI",
        "outputId": "888cdbc2-aa07-4380-8ac2-dc840c5fd75c"
      },
      "source": [
        "library(keras)\n",
        "library(tidyverse)"
      ],
      "execution_count": 3,
      "outputs": [
        {
          "output_type": "stream",
          "text": [
            "Warning message in system(\"timedatectl\", intern = TRUE):\n",
            "“running command 'timedatectl' had status 1”\n",
            "── \u001b[1mAttaching packages\u001b[22m ─────────────────────────────────────── tidyverse 1.3.1 ──\n",
            "\n",
            "\u001b[32m✔\u001b[39m \u001b[34mggplot2\u001b[39m 3.3.3     \u001b[32m✔\u001b[39m \u001b[34mpurrr  \u001b[39m 0.3.4\n",
            "\u001b[32m✔\u001b[39m \u001b[34mtibble \u001b[39m 3.1.1     \u001b[32m✔\u001b[39m \u001b[34mdplyr  \u001b[39m 1.0.5\n",
            "\u001b[32m✔\u001b[39m \u001b[34mtidyr  \u001b[39m 1.1.3     \u001b[32m✔\u001b[39m \u001b[34mstringr\u001b[39m 1.4.0\n",
            "\u001b[32m✔\u001b[39m \u001b[34mreadr  \u001b[39m 1.4.0     \u001b[32m✔\u001b[39m \u001b[34mforcats\u001b[39m 0.5.1\n",
            "\n",
            "── \u001b[1mConflicts\u001b[22m ────────────────────────────────────────── tidyverse_conflicts() ──\n",
            "\u001b[31m✖\u001b[39m \u001b[34mdplyr\u001b[39m::\u001b[32mfilter()\u001b[39m masks \u001b[34mstats\u001b[39m::filter()\n",
            "\u001b[31m✖\u001b[39m \u001b[34mdplyr\u001b[39m::\u001b[32mlag()\u001b[39m    masks \u001b[34mstats\u001b[39m::lag()\n",
            "\n"
          ],
          "name": "stderr"
        }
      ]
    },
    {
      "cell_type": "markdown",
      "metadata": {
        "id": "sU308un81Sy-"
      },
      "source": [
        "## get data from google drive\n",
        "\n",
        "If you upload your zipped file to google drive, then you can download it using the comands here. \n",
        "\n",
        "Your other alternative is to upload it from your laptop, but that is slower.\n",
        "\n",
        "Either way, the data will have to be uploaded/downloaded every time, because we can't mount the google drive to an R runtime.\n",
        "\n"
      ]
    },
    {
      "cell_type": "code",
      "metadata": {
        "colab": {
          "base_uri": "https://localhost:8080/"
        },
        "id": "fLYjNxGN1hHW",
        "outputId": "9e223ef1-4b58-4102-d498-64e80717d3e8"
      },
      "source": [
        "install.packages(\"googledrive\")\n",
        "library(\"googledrive\")\n",
        "\n",
        "# this next step is required to authenticate google drive.\n",
        "# Check if is running in Colab and redefine is_interactive()\n",
        "if (file.exists(\"/usr/local/lib/python3.7/dist-packages/google/colab/_ipython.py\")) {\n",
        "  install.packages(\"R.utils\")\n",
        "  library(\"R.utils\")\n",
        "  library(\"httr\")\n",
        "  my_check <- function() {return(TRUE)}\n",
        "  reassignInPackage(\"is_interactive\", pkgName = \"httr\", my_check) \n",
        "  options(rlang_interactive=TRUE)\n",
        "}\n",
        "\n",
        "drive_auth(use_oob = TRUE, cache = TRUE)\n"
      ],
      "execution_count": 4,
      "outputs": [
        {
          "output_type": "stream",
          "text": [
            "Installing package into ‘/usr/local/lib/R/site-library’\n",
            "(as ‘lib’ is unspecified)\n",
            "\n",
            "Installing package into ‘/usr/local/lib/R/site-library’\n",
            "(as ‘lib’ is unspecified)\n",
            "\n",
            "also installing the dependencies ‘R.oo’, ‘R.methodsS3’\n",
            "\n",
            "\n",
            "Loading required package: R.oo\n",
            "\n",
            "Loading required package: R.methodsS3\n",
            "\n",
            "R.methodsS3 v1.8.1 (2020-08-26 16:20:06 UTC) successfully loaded. See ?R.methodsS3 for help.\n",
            "\n",
            "R.oo v1.24.0 (2020-08-26 16:11:58 UTC) successfully loaded. See ?R.oo for help.\n",
            "\n",
            "\n",
            "Attaching package: ‘R.oo’\n",
            "\n",
            "\n",
            "The following object is masked from ‘package:R.methodsS3’:\n",
            "\n",
            "    throw\n",
            "\n",
            "\n",
            "The following object is masked from ‘package:keras’:\n",
            "\n",
            "    compile\n",
            "\n",
            "\n",
            "The following objects are masked from ‘package:methods’:\n",
            "\n",
            "    getClasses, getMethods\n",
            "\n",
            "\n",
            "The following objects are masked from ‘package:base’:\n",
            "\n",
            "    attach, detach, load, save\n",
            "\n",
            "\n",
            "R.utils v2.10.1 (2020-08-26 22:50:31 UTC) successfully loaded. See ?R.utils for help.\n",
            "\n",
            "\n",
            "Attaching package: ‘R.utils’\n",
            "\n",
            "\n",
            "The following object is masked from ‘package:tidyr’:\n",
            "\n",
            "    extract\n",
            "\n",
            "\n",
            "The following object is masked from ‘package:keras’:\n",
            "\n",
            "    evaluate\n",
            "\n",
            "\n",
            "The following object is masked from ‘package:utils’:\n",
            "\n",
            "    timestamp\n",
            "\n",
            "\n",
            "The following objects are masked from ‘package:base’:\n",
            "\n",
            "    cat, commandArgs, getOption, inherits, isOpen, nullfile, parse,\n",
            "    warnings\n",
            "\n",
            "\n",
            "Please point your browser to the following url: \n",
            "\n",
            "https://accounts.google.com/o/oauth2/auth?client_id=603366585132-dpeg5tt0et3go5of2374d83ifevk5086.apps.googleusercontent.com&scope=https%3A%2F%2Fwww.googleapis.com%2Fauth%2Fdrive%20https%3A%2F%2Fwww.googleapis.com%2Fauth%2Fuserinfo.email&redirect_uri=urn%3Aietf%3Awg%3Aoauth%3A2.0%3Aoob&response_type=code\n",
            "\n"
          ],
          "name": "stderr"
        },
        {
          "output_type": "stream",
          "text": [
            "Enter authorization code: 4/1AY0e-g6TTl8H2VWUwzjs6hL4WOb2UkQC2Ov4l8rb7ZJ37C_JEkIRxG4BrFc\n"
          ],
          "name": "stdout"
        }
      ]
    },
    {
      "cell_type": "code",
      "metadata": {
        "colab": {
          "base_uri": "https://localhost:8080/",
          "height": 128
        },
        "id": "ZIvb8Wsg4jPc",
        "outputId": "d698a2f5-6a36-4732-a44f-d6f94e29fbe5"
      },
      "source": [
        "flowersInfo <- drive_find(\"newFlowers\\\\.zip\", n_max = 1)\n",
        "flowersInfo[,1:2]\n",
        "flowersID <- flowersInfo$id"
      ],
      "execution_count": 5,
      "outputs": [
        {
          "output_type": "display_data",
          "data": {
            "text/plain": [
              "  name           id                               \n",
              "1 newFlowers.zip 1BD_NgV6hytm-D4xtO4JPzwExPcGyh5MI"
            ],
            "text/latex": "A tibble: 1 × 2\n\\begin{tabular}{ll}\n name & id\\\\\n <chr> & <chr>\\\\\n\\hline\n\t newFlowers.zip & 1BD\\_NgV6hytm-D4xtO4JPzwExPcGyh5MI\\\\\n\\end{tabular}\n",
            "text/markdown": "\nA tibble: 1 × 2\n\n| name &lt;chr&gt; | id &lt;chr&gt; |\n|---|---|\n| newFlowers.zip | 1BD_NgV6hytm-D4xtO4JPzwExPcGyh5MI |\n\n",
            "text/html": [
              "<table class=\"dataframe\">\n",
              "<caption>A tibble: 1 × 2</caption>\n",
              "<thead>\n",
              "\t<tr><th scope=col>name</th><th scope=col>id</th></tr>\n",
              "\t<tr><th scope=col>&lt;chr&gt;</th><th scope=col>&lt;chr&gt;</th></tr>\n",
              "</thead>\n",
              "<tbody>\n",
              "\t<tr><td>newFlowers.zip</td><td>1BD_NgV6hytm-D4xtO4JPzwExPcGyh5MI</td></tr>\n",
              "</tbody>\n",
              "</table>\n"
            ]
          },
          "metadata": {
            "tags": []
          }
        }
      ]
    },
    {
      "cell_type": "code",
      "metadata": {
        "colab": {
          "base_uri": "https://localhost:8080/",
          "height": 119
        },
        "id": "gqpsbo6C5G1B",
        "outputId": "b279fe93-934f-4a82-cf96-af2a45d18ff9"
      },
      "source": [
        "drive_download(file=as_id(flowersID))\n",
        "dir()"
      ],
      "execution_count": 6,
      "outputs": [
        {
          "output_type": "stream",
          "text": [
            "File downloaded:\n",
            "  * newFlowers.zip\n",
            "Saved locally as:\n",
            "  * newFlowers.zip\n",
            "\n"
          ],
          "name": "stderr"
        },
        {
          "output_type": "display_data",
          "data": {
            "text/plain": [
              "[1] \"newFlowers.zip\" \"sample_data\"   "
            ],
            "text/latex": "\\begin{enumerate*}\n\\item 'newFlowers.zip'\n\\item 'sample\\_data'\n\\end{enumerate*}\n",
            "text/markdown": "1. 'newFlowers.zip'\n2. 'sample_data'\n\n\n",
            "text/html": [
              "<style>\n",
              ".list-inline {list-style: none; margin:0; padding: 0}\n",
              ".list-inline>li {display: inline-block}\n",
              ".list-inline>li:not(:last-child)::after {content: \"\\00b7\"; padding: 0 .5ex}\n",
              "</style>\n",
              "<ol class=list-inline><li>'newFlowers.zip'</li><li>'sample_data'</li></ol>\n"
            ]
          },
          "metadata": {
            "tags": []
          }
        }
      ]
    },
    {
      "cell_type": "code",
      "metadata": {
        "id": "FGrJbh4cbj-c"
      },
      "source": [
        "detach(\"package:R.utils\")\n",
        "detach(\"package:R.oo\")"
      ],
      "execution_count": 7,
      "outputs": []
    },
    {
      "cell_type": "markdown",
      "metadata": {
        "id": "gNADMsEXnimW"
      },
      "source": [
        "## set up data and directories"
      ]
    },
    {
      "cell_type": "code",
      "metadata": {
        "id": "rFYsX3OITuFV",
        "colab": {
          "base_uri": "https://localhost:8080/",
          "height": 34
        },
        "outputId": "c912054e-8726-48cf-e6e2-36037465922f"
      },
      "source": [
        "utils::unzip(\"newFlowers.zip\")\n",
        "flowers <- dir(path = \"newFlowers\")\n",
        "flowers"
      ],
      "execution_count": 8,
      "outputs": [
        {
          "output_type": "display_data",
          "data": {
            "text/plain": [
              "[1] \"daisy\"     \"dandelion\" \"rose\"      \"sunflower\" \"tulip\"    "
            ],
            "text/latex": "\\begin{enumerate*}\n\\item 'daisy'\n\\item 'dandelion'\n\\item 'rose'\n\\item 'sunflower'\n\\item 'tulip'\n\\end{enumerate*}\n",
            "text/markdown": "1. 'daisy'\n2. 'dandelion'\n3. 'rose'\n4. 'sunflower'\n5. 'tulip'\n\n\n",
            "text/html": [
              "<style>\n",
              ".list-inline {list-style: none; margin:0; padding: 0}\n",
              ".list-inline>li {display: inline-block}\n",
              ".list-inline>li:not(:last-child)::after {content: \"\\00b7\"; padding: 0 .5ex}\n",
              "</style>\n",
              "<ol class=list-inline><li>'daisy'</li><li>'dandelion'</li><li>'rose'</li><li>'sunflower'</li><li>'tulip'</li></ol>\n"
            ]
          },
          "metadata": {
            "tags": []
          }
        }
      ]
    },
    {
      "cell_type": "code",
      "metadata": {
        "id": "GuLtCI_pYQtD"
      },
      "source": [
        "#tmp as a holder for the T/F that come out of these\n",
        "\n",
        "tmp <- if(dir.exists(\"train\")) file.remove(dir(path = \"train/\", full.names = TRUE, recursive = TRUE))\n",
        "tmp <- if(dir.exists(\"test\")) file.remove(dir(path = \"test/\", full.names = TRUE, recursive = TRUE))\n",
        "tmp <- if(dir.exists(\"validation\")) file.remove(dir(path = \"validation/\", full.names = TRUE, recursive = TRUE))\n",
        "\n",
        "tmp <- if(!dir.exists(\"train\")) dir.create(\"train/\")\n",
        "tmp <- if(!dir.exists(\"test\")) dir.create(\"test/\")\n",
        "tmp <- if(!dir.exists(\"validation\")) dir.create(\"validation/\")\n",
        "\n",
        "tmp <- map(flowers, ~ if(!dir.exists(file.path(\"train\", .x)))\n",
        "                  dir.create(file.path(\"train\", .x ))\n",
        "                  )\n",
        "    \n",
        "tmp <- map(flowers, ~ if(!dir.exists(file.path(\"test\", .x)))\n",
        "                  dir.create(file.path(\"test\", .x ))\n",
        "                  )\n",
        "    \n",
        "tmp <- map(flowers, ~ if(!dir.exists(file.path(\"validation\", .x)))\n",
        "                  dir.create(file.path(\"validation\", .x ))\n",
        "                  )\n",
        "\n"
      ],
      "execution_count": 9,
      "outputs": []
    },
    {
      "cell_type": "code",
      "metadata": {
        "id": "Mp0VAVHNZLPb"
      },
      "source": [
        "# populate directories\n",
        "set.seed(2023)\n",
        "sourcedir <- \"newFlowers\"\n",
        "for(flower in flowers) {\n",
        "  files <- sample(dir(file.path(sourcedir, flower))) #randomizes\n",
        "    for(i in 1:length(files)) {\n",
        "      if (i/length(files) <= 0.2 ) destination <- \"validation\"\n",
        "      if (i/length(files) > 0.2 & i/length(files) <= 0.4) destination <- \"test\"\n",
        "      if (i/length(files) > 0.4 ) destination <- \"train\"\n",
        "      file.copy(from = file.path(sourcedir, flower, files[i]), \n",
        "                to = file.path( destination, flower, files[i]))\n",
        "    } # i loop              \n",
        "} # flower loop"
      ],
      "execution_count": 10,
      "outputs": []
    },
    {
      "cell_type": "code",
      "metadata": {
        "colab": {
          "base_uri": "https://localhost:8080/",
          "height": 170
        },
        "id": "sToBrTViYhij",
        "outputId": "6a0ea1c4-3e33-4f61-d928-09faa1c620ca"
      },
      "source": [
        "head(dir(\"train/rose\"))\n",
        "head(dir(\"test/rose\"))\n",
        "head(dir(\"validation/rose\"))\n",
        "\n",
        "length(dir(\"test/rose\"))\n",
        "length(dir(\"train/rose\"))\n",
        "length(dir(\"validation/rose\"))\n"
      ],
      "execution_count": 11,
      "outputs": [
        {
          "output_type": "display_data",
          "data": {
            "text/plain": [
              "[1] \"10090824183_d02c613f10_m.jpg\" \"110472418_87b6a3aa98_m.jpg\"  \n",
              "[3] \"11102341464_508d558dfc_n.jpg\" \"11233672494_d8bf0a3dbf_n.jpg\"\n",
              "[5] \"118974357_0faa23cce9_n.jpg\"   \"11944957684_2cc806276e.jpg\"  "
            ],
            "text/latex": "\\begin{enumerate*}\n\\item '10090824183\\_d02c613f10\\_m.jpg'\n\\item '110472418\\_87b6a3aa98\\_m.jpg'\n\\item '11102341464\\_508d558dfc\\_n.jpg'\n\\item '11233672494\\_d8bf0a3dbf\\_n.jpg'\n\\item '118974357\\_0faa23cce9\\_n.jpg'\n\\item '11944957684\\_2cc806276e.jpg'\n\\end{enumerate*}\n",
            "text/markdown": "1. '10090824183_d02c613f10_m.jpg'\n2. '110472418_87b6a3aa98_m.jpg'\n3. '11102341464_508d558dfc_n.jpg'\n4. '11233672494_d8bf0a3dbf_n.jpg'\n5. '118974357_0faa23cce9_n.jpg'\n6. '11944957684_2cc806276e.jpg'\n\n\n",
            "text/html": [
              "<style>\n",
              ".list-inline {list-style: none; margin:0; padding: 0}\n",
              ".list-inline>li {display: inline-block}\n",
              ".list-inline>li:not(:last-child)::after {content: \"\\00b7\"; padding: 0 .5ex}\n",
              "</style>\n",
              "<ol class=list-inline><li>'10090824183_d02c613f10_m.jpg'</li><li>'110472418_87b6a3aa98_m.jpg'</li><li>'11102341464_508d558dfc_n.jpg'</li><li>'11233672494_d8bf0a3dbf_n.jpg'</li><li>'118974357_0faa23cce9_n.jpg'</li><li>'11944957684_2cc806276e.jpg'</li></ol>\n"
            ]
          },
          "metadata": {
            "tags": []
          }
        },
        {
          "output_type": "display_data",
          "data": {
            "text/plain": [
              "[1] \"10894627425_ec76bbc757_n.jpg\" \"12238827553_cf427bfd51_n.jpg\"\n",
              "[3] \"12395698413_c0388278f7.jpg\"   \"13264214185_d6aa79b3bd.jpg\"  \n",
              "[5] \"13929462317_96342a9a44.jpg\"   \"14019883858_e5d2a0ec10_n.jpg\""
            ],
            "text/latex": "\\begin{enumerate*}\n\\item '10894627425\\_ec76bbc757\\_n.jpg'\n\\item '12238827553\\_cf427bfd51\\_n.jpg'\n\\item '12395698413\\_c0388278f7.jpg'\n\\item '13264214185\\_d6aa79b3bd.jpg'\n\\item '13929462317\\_96342a9a44.jpg'\n\\item '14019883858\\_e5d2a0ec10\\_n.jpg'\n\\end{enumerate*}\n",
            "text/markdown": "1. '10894627425_ec76bbc757_n.jpg'\n2. '12238827553_cf427bfd51_n.jpg'\n3. '12395698413_c0388278f7.jpg'\n4. '13264214185_d6aa79b3bd.jpg'\n5. '13929462317_96342a9a44.jpg'\n6. '14019883858_e5d2a0ec10_n.jpg'\n\n\n",
            "text/html": [
              "<style>\n",
              ".list-inline {list-style: none; margin:0; padding: 0}\n",
              ".list-inline>li {display: inline-block}\n",
              ".list-inline>li:not(:last-child)::after {content: \"\\00b7\"; padding: 0 .5ex}\n",
              "</style>\n",
              "<ol class=list-inline><li>'10894627425_ec76bbc757_n.jpg'</li><li>'12238827553_cf427bfd51_n.jpg'</li><li>'12395698413_c0388278f7.jpg'</li><li>'13264214185_d6aa79b3bd.jpg'</li><li>'13929462317_96342a9a44.jpg'</li><li>'14019883858_e5d2a0ec10_n.jpg'</li></ol>\n"
            ]
          },
          "metadata": {
            "tags": []
          }
        },
        {
          "output_type": "display_data",
          "data": {
            "text/plain": [
              "[1] \"102501987_3cdb8e5394_n.jpg\"   \"10503217854_e66a804309.jpg\"  \n",
              "[3] \"12240303_80d87f77a3_n.jpg\"    \"12243068283_ee4c2683e2_n.jpg\"\n",
              "[5] \"12243069253_e512464095_n.jpg\" \"123128873_546b8b7355_n.jpg\"  "
            ],
            "text/latex": "\\begin{enumerate*}\n\\item '102501987\\_3cdb8e5394\\_n.jpg'\n\\item '10503217854\\_e66a804309.jpg'\n\\item '12240303\\_80d87f77a3\\_n.jpg'\n\\item '12243068283\\_ee4c2683e2\\_n.jpg'\n\\item '12243069253\\_e512464095\\_n.jpg'\n\\item '123128873\\_546b8b7355\\_n.jpg'\n\\end{enumerate*}\n",
            "text/markdown": "1. '102501987_3cdb8e5394_n.jpg'\n2. '10503217854_e66a804309.jpg'\n3. '12240303_80d87f77a3_n.jpg'\n4. '12243068283_ee4c2683e2_n.jpg'\n5. '12243069253_e512464095_n.jpg'\n6. '123128873_546b8b7355_n.jpg'\n\n\n",
            "text/html": [
              "<style>\n",
              ".list-inline {list-style: none; margin:0; padding: 0}\n",
              ".list-inline>li {display: inline-block}\n",
              ".list-inline>li:not(:last-child)::after {content: \"\\00b7\"; padding: 0 .5ex}\n",
              "</style>\n",
              "<ol class=list-inline><li>'102501987_3cdb8e5394_n.jpg'</li><li>'10503217854_e66a804309.jpg'</li><li>'12240303_80d87f77a3_n.jpg'</li><li>'12243068283_ee4c2683e2_n.jpg'</li><li>'12243069253_e512464095_n.jpg'</li><li>'123128873_546b8b7355_n.jpg'</li></ol>\n"
            ]
          },
          "metadata": {
            "tags": []
          }
        },
        {
          "output_type": "display_data",
          "data": {
            "text/plain": [
              "[1] 146"
            ],
            "text/latex": "146",
            "text/markdown": "146",
            "text/html": [
              "146"
            ]
          },
          "metadata": {
            "tags": []
          }
        },
        {
          "output_type": "display_data",
          "data": {
            "text/plain": [
              "[1] 437"
            ],
            "text/latex": "437",
            "text/markdown": "437",
            "text/html": [
              "437"
            ]
          },
          "metadata": {
            "tags": []
          }
        },
        {
          "output_type": "display_data",
          "data": {
            "text/plain": [
              "[1] 145"
            ],
            "text/latex": "145",
            "text/markdown": "145",
            "text/html": [
              "145"
            ]
          },
          "metadata": {
            "tags": []
          }
        }
      ]
    },
    {
      "cell_type": "markdown",
      "metadata": {
        "id": "1lV0poTqeBzn"
      },
      "source": [
        "## Set up image generators 1\n"
      ]
    },
    {
      "cell_type": "code",
      "metadata": {
        "id": "pTcve4NUeGOu"
      },
      "source": [
        "rescale_datagen <- image_data_generator(rescale = 1/255)\n",
        "\n",
        "\n",
        "train_generator <- flow_images_from_directory(\n",
        "    \"train\",\n",
        "    rescale_datagen,\n",
        "    batch_size=16,\n",
        "    target_size=c(150,150)\n",
        ")\n",
        "\n",
        "validation_generator <- flow_images_from_directory(\n",
        "    \"validation\",\n",
        "    rescale_datagen,\n",
        "    batch_size=16,\n",
        "    target_size=c(150,150)\n",
        ")\n",
        "\n",
        "test_generator <- flow_images_from_directory(\n",
        "    \"test\",\n",
        "    rescale_datagen,\n",
        "    batch_size=16,\n",
        "    target_size=c(150,150)\n",
        "\n",
        ")"
      ],
      "execution_count": 12,
      "outputs": []
    },
    {
      "cell_type": "markdown",
      "metadata": {
        "id": "wspRbAr4eUTj"
      },
      "source": [
        "## Set up Model 1"
      ]
    },
    {
      "cell_type": "code",
      "metadata": {
        "colab": {
          "base_uri": "https://localhost:8080/"
        },
        "id": "02W4tooZeS27",
        "outputId": "dd69a02b-ed98-4602-e907-ad6965995f4a"
      },
      "source": [
        "model1 <- keras_model_sequential() %>%\n",
        "    layer_conv_2d(filters = 32, kernel_size = c(3,3), activation = \"relu\", input_shape = c(150,150,3)) %>%\n",
        "    layer_max_pooling_2d(pool_size=c(2,2)) %>%\n",
        "    layer_conv_2d(filters = 64, kernel_size = c(3,3), activation = \"relu\") %>%\n",
        "    layer_max_pooling_2d(pool_size=c(2,2)) %>%\n",
        "    layer_conv_2d(filters = 128, kernel_size = c(3,3), activation = \"relu\") %>%\n",
        "    layer_max_pooling_2d(pool_size=c(2,2)) %>%\n",
        "    layer_conv_2d(filters = 128, kernel_size = c(3,3), activation = \"relu\") %>%\n",
        "    layer_max_pooling_2d(pool_size=c(2,2)) %>%\n",
        "    layer_flatten() %>%\n",
        "    layer_dense(units = 512, activation = \"relu\") %>%\n",
        "    layer_dense(units = length(flowers), activation = \"softmax\")\n",
        "\n",
        "# compile it\n",
        "model1 %>% compile(\n",
        "    loss = \"categorical_crossentropy\",\n",
        "    optimizer = \"rmsprop\",\n",
        "    metrics = \"acc\"\n",
        "    )\n",
        "\n",
        "summary(model1)"
      ],
      "execution_count": 13,
      "outputs": [
        {
          "output_type": "stream",
          "text": [
            "Model: \"sequential\"\n",
            "________________________________________________________________________________\n",
            "Layer (type)                        Output Shape                    Param #     \n",
            "================================================================================\n",
            "conv2d_3 (Conv2D)                   (None, 148, 148, 32)            896         \n",
            "________________________________________________________________________________\n",
            "max_pooling2d_3 (MaxPooling2D)      (None, 74, 74, 32)              0           \n",
            "________________________________________________________________________________\n",
            "conv2d_2 (Conv2D)                   (None, 72, 72, 64)              18496       \n",
            "________________________________________________________________________________\n",
            "max_pooling2d_2 (MaxPooling2D)      (None, 36, 36, 64)              0           \n",
            "________________________________________________________________________________\n",
            "conv2d_1 (Conv2D)                   (None, 34, 34, 128)             73856       \n",
            "________________________________________________________________________________\n",
            "max_pooling2d_1 (MaxPooling2D)      (None, 17, 17, 128)             0           \n",
            "________________________________________________________________________________\n",
            "conv2d (Conv2D)                     (None, 15, 15, 128)             147584      \n",
            "________________________________________________________________________________\n",
            "max_pooling2d (MaxPooling2D)        (None, 7, 7, 128)               0           \n",
            "________________________________________________________________________________\n",
            "flatten (Flatten)                   (None, 6272)                    0           \n",
            "________________________________________________________________________________\n",
            "dense_1 (Dense)                     (None, 512)                     3211776     \n",
            "________________________________________________________________________________\n",
            "dense (Dense)                       (None, 5)                       2565        \n",
            "================================================================================\n",
            "Total params: 3,455,173\n",
            "Trainable params: 3,455,173\n",
            "Non-trainable params: 0\n",
            "________________________________________________________________________________\n"
          ],
          "name": "stdout"
        }
      ]
    },
    {
      "cell_type": "code",
      "metadata": {
        "colab": {
          "base_uri": "https://localhost:8080/",
          "height": 85
        },
        "id": "oaUJtpEQeeHI",
        "outputId": "4be59ac1-148b-4a05-c83e-b4611101f77f"
      },
      "source": [
        "# first: how many images do we have?\n",
        "length(dir(\"train\", recursive = TRUE))\n",
        "\n",
        "# 2482, and we are using a batch size of 32, so we should use\n",
        "2482/16 #155 steps per epoch\n",
        "\n",
        "# how many validation images?\n",
        "length(dir(\"validation\", recursive = TRUE)) #825\n",
        "825/16 #51 validation steps"
      ],
      "execution_count": 14,
      "outputs": [
        {
          "output_type": "display_data",
          "data": {
            "text/plain": [
              "[1] 2482"
            ],
            "text/latex": "2482",
            "text/markdown": "2482",
            "text/html": [
              "2482"
            ]
          },
          "metadata": {
            "tags": []
          }
        },
        {
          "output_type": "display_data",
          "data": {
            "text/plain": [
              "[1] 155.125"
            ],
            "text/latex": "155.125",
            "text/markdown": "155.125",
            "text/html": [
              "155.125"
            ]
          },
          "metadata": {
            "tags": []
          }
        },
        {
          "output_type": "display_data",
          "data": {
            "text/plain": [
              "[1] 825"
            ],
            "text/latex": "825",
            "text/markdown": "825",
            "text/html": [
              "825"
            ]
          },
          "metadata": {
            "tags": []
          }
        },
        {
          "output_type": "display_data",
          "data": {
            "text/plain": [
              "[1] 51.5625"
            ],
            "text/latex": "51.5625",
            "text/markdown": "51.5625",
            "text/html": [
              "51.5625"
            ]
          },
          "metadata": {
            "tags": []
          }
        }
      ]
    },
    {
      "cell_type": "code",
      "metadata": {
        "colab": {
          "base_uri": "https://localhost:8080/",
          "height": 187
        },
        "id": "DUQSOED9e6_t",
        "outputId": "bbd47239-b765-4e7b-fbd8-e29c989e6183"
      },
      "source": [
        "system.time(history <- model1 %>% fit(\n",
        "        train_generator,\n",
        "        steps_per_epoch = 155,\n",
        "        epochs = 30,\n",
        "        validation_data = validation_generator,\n",
        "        validation_steps = 51))\n",
        "\n",
        "save_model_hdf5(model1, \"flowers_model1_ep30.hdf5\")\n",
        "drive_put(\"flowers_model1_ep30.hdf5\", \"DeepLearning/Flowers/flowers_model1_ep30.hdf5\")\n",
        "file.remove(\"flowers_model1_ep30.hdf5\")\n",
        "\n",
        "history"
      ],
      "execution_count": 15,
      "outputs": [
        {
          "output_type": "stream",
          "text": [
            "Warning message in fit_generator(., train_generator, steps_per_epoch = 155, epochs = 30, :\n",
            "“`fit_generator` is deprecated. Use `fit` instead, it now accept generators.”\n"
          ],
          "name": "stderr"
        },
        {
          "output_type": "display_data",
          "data": {
            "text/plain": [
              "   user  system elapsed \n",
              "393.554  50.074 346.866 "
            ]
          },
          "metadata": {
            "tags": []
          }
        },
        {
          "output_type": "display_data",
          "data": {
            "text/plain": [
              "\n",
              "Final epoch (plot to see history):\n",
              "    loss: 0.08353\n",
              "     acc: 0.985\n",
              "val_loss: 5.117\n",
              " val_acc: 0.6569 "
            ]
          },
          "metadata": {
            "tags": []
          }
        }
      ]
    },
    {
      "cell_type": "code",
      "metadata": {
        "colab": {
          "base_uri": "https://localhost:8080/",
          "height": 471
        },
        "id": "gwtggdoRfgFS",
        "outputId": "8fa37e85-50f5-4d70-92fc-bbeb89592c6f"
      },
      "source": [
        "plot(history)"
      ],
      "execution_count": 17,
      "outputs": [
        {
          "output_type": "stream",
          "text": [
            "`geom_smooth()` using formula 'y ~ x'\n",
            "\n"
          ],
          "name": "stderr"
        },
        {
          "output_type": "display_data",
          "data": {
            "image/png": "[encoded data removed]",
            "text/plain": [
              "plot without title"
            ]
          },
          "metadata": {
            "tags": [],
            "image/png": {
              "width": 420,
              "height": 420
            }
          }
        }
      ]
    },
    {
      "cell_type": "markdown",
      "metadata": {
        "id": "HhRT0Uo1hw6h"
      },
      "source": [
        "OK maybe 7 epochs is about where validation maxes out.  So refit for 7 epochs and check test.\n"
      ]
    },
    {
      "cell_type": "code",
      "metadata": {
        "colab": {
          "base_uri": "https://localhost:8080/",
          "height": 187
        },
        "id": "8HWLiFj0hvLg",
        "outputId": "6e5835c6-2131-4e6d-c214-7969b8005791"
      },
      "source": [
        "model1 <- keras_model_sequential() %>%\n",
        "    layer_conv_2d(filters = 32, kernel_size = c(3,3), activation = \"relu\", input_shape = c(150,150,3)) %>%\n",
        "    layer_max_pooling_2d(pool_size=c(2,2)) %>%\n",
        "    layer_conv_2d(filters = 64, kernel_size = c(3,3), activation = \"relu\") %>%\n",
        "    layer_max_pooling_2d(pool_size=c(2,2)) %>%\n",
        "    layer_conv_2d(filters = 128, kernel_size = c(3,3), activation = \"relu\") %>%\n",
        "    layer_max_pooling_2d(pool_size=c(2,2)) %>%\n",
        "    layer_conv_2d(filters = 128, kernel_size = c(3,3), activation = \"relu\") %>%\n",
        "    layer_max_pooling_2d(pool_size=c(2,2)) %>%\n",
        "    layer_flatten() %>%\n",
        "    layer_dense(units = 512, activation = \"relu\") %>%\n",
        "    layer_dense(units = length(flowers), activation = \"softmax\")\n",
        "\n",
        "# compile it\n",
        "model1 %>% compile(\n",
        "    loss = \"categorical_crossentropy\",\n",
        "    optimizer = \"rmsprop\",\n",
        "    metrics = \"acc\"\n",
        "    )\n",
        "\n",
        "system.time(history <- model1 %>% fit_generator(\n",
        "        train_generator,\n",
        "        steps_per_epoch = 155,\n",
        "        epochs = 7,\n",
        "        validation_data = validation_generator,\n",
        "        validation_steps = 51))\n",
        "\n",
        "save_model_hdf5(model1, \"flowers_model1_ep7.hdf5\")\n",
        "drive_put(\"flowers_model1_ep7.hdf5\", \"DeepLearning/Flowers/flowers_model1_ep7.hdf5\")\n",
        "file.remove(\"flowers_model1_ep7.hdf5\")\n",
        "\n",
        "history"
      ],
      "execution_count": 30,
      "outputs": [
        {
          "output_type": "stream",
          "text": [
            "Warning message in fit_generator(., train_generator, steps_per_epoch = 155, epochs = 7, :\n",
            "“`fit_generator` is deprecated. Use `fit` instead, it now accept generators.”\n"
          ],
          "name": "stderr"
        },
        {
          "output_type": "display_data",
          "data": {
            "text/plain": [
              "   user  system elapsed \n",
              " 74.133   7.003  62.047 "
            ]
          },
          "metadata": {
            "tags": []
          }
        },
        {
          "output_type": "display_data",
          "data": {
            "text/plain": [
              "\n",
              "Final epoch (plot to see history):\n",
              "    loss: 0.4267\n",
              "     acc: 0.8483\n",
              "val_loss: 1.077\n",
              " val_acc: 0.6961 "
            ]
          },
          "metadata": {
            "tags": []
          }
        }
      ]
    },
    {
      "cell_type": "code",
      "metadata": {
        "colab": {
          "base_uri": "https://localhost:8080/",
          "height": 34
        },
        "id": "sh8C4pirihdO",
        "outputId": "64fce50f-760d-4ae8-f347-25bd38e9623d"
      },
      "source": [
        "results1 <- model1 %>% evaluate(test_generator)\n",
        "results1 %>% round(3)"
      ],
      "execution_count": 32,
      "outputs": [
        {
          "output_type": "display_data",
          "data": {
            "text/plain": [
              " loss   acc \n",
              "1.003 0.680 "
            ],
            "text/latex": "\\begin{description*}\n\\item[loss] 1.003\n\\item[acc] 0.68\n\\end{description*}\n",
            "text/markdown": "loss\n:   1.003acc\n:   0.68\n\n",
            "text/html": [
              "<style>\n",
              ".dl-inline {width: auto; margin:0; padding: 0}\n",
              ".dl-inline>dt, .dl-inline>dd {float: none; width: auto; display: inline-block}\n",
              ".dl-inline>dt::after {content: \":\\0020\"; padding-right: .5ex}\n",
              ".dl-inline>dt:not(:first-of-type) {padding-left: .5ex}\n",
              "</style><dl class=dl-inline><dt>loss</dt><dd>1.003</dd><dt>acc</dt><dd>0.68</dd></dl>\n"
            ]
          },
          "metadata": {
            "tags": []
          }
        }
      ]
    },
    {
      "cell_type": "markdown",
      "metadata": {
        "id": "RwQ8PZ5ikPYb"
      },
      "source": [
        "## Set up image generators 2\n",
        "\n",
        "Here use larger images, larger batch size, and an additional model layer\n"
      ]
    },
    {
      "cell_type": "code",
      "metadata": {
        "id": "emeHJHuCkPYt"
      },
      "source": [
        "rescale_datagen <- image_data_generator(rescale = 1/255)\n",
        "\n",
        "\n",
        "train_generator2 <- flow_images_from_directory(\n",
        "    \"train\",\n",
        "    rescale_datagen,\n",
        "    batch_size=32,\n",
        "    target_size=c(256,256)\n",
        ")\n",
        "\n",
        "validation_generator2 <- flow_images_from_directory(\n",
        "    \"validation\",\n",
        "    rescale_datagen,\n",
        "    batch_size=32,\n",
        "    target_size=c(256,256)\n",
        ")\n",
        "\n",
        "test_generator2 <- flow_images_from_directory(\n",
        "    \"test\",\n",
        "    rescale_datagen,\n",
        "    batch_size=32,\n",
        "    target_size=c(256,256)\n",
        "\n",
        ")"
      ],
      "execution_count": 19,
      "outputs": []
    },
    {
      "cell_type": "markdown",
      "metadata": {
        "id": "grVLvvFXkPYu"
      },
      "source": [
        "## Set up Model 2"
      ]
    },
    {
      "cell_type": "code",
      "metadata": {
        "colab": {
          "base_uri": "https://localhost:8080/"
        },
        "id": "4ZXt8QmgkPYu",
        "outputId": "8d9c053b-06ec-4050-d404-d723ec99f401"
      },
      "source": [
        "model2 <- keras_model_sequential() %>%\n",
        "    layer_conv_2d(filters = 32, kernel_size = c(3,3), activation = \"relu\", input_shape = c(256,256,3)) %>%\n",
        "    layer_max_pooling_2d(pool_size=c(2,2)) %>%\n",
        "    layer_conv_2d(filters = 64, kernel_size = c(3,3), activation = \"relu\") %>%\n",
        "    layer_max_pooling_2d(pool_size=c(2,2)) %>%\n",
        "    layer_conv_2d(filters = 128, kernel_size = c(3,3), activation = \"relu\") %>%\n",
        "    layer_max_pooling_2d(pool_size=c(2,2)) %>%\n",
        "    layer_conv_2d(filters = 128, kernel_size = c(3,3), activation = \"relu\") %>%\n",
        "    layer_max_pooling_2d(pool_size=c(2,2)) %>%\n",
        "    layer_conv_2d(filters = 128, kernel_size = c(3,3), activation = \"relu\") %>%\n",
        "    layer_max_pooling_2d(pool_size=c(2,2)) %>%\n",
        "    layer_flatten() %>%\n",
        "    layer_dense(units = 512, activation = \"relu\") %>%\n",
        "    layer_dense(units = length(flowers), activation = \"softmax\")\n",
        "\n",
        "# compile it\n",
        "model2 %>% compile(\n",
        "    loss = \"categorical_crossentropy\",\n",
        "    optimizer = \"rmsprop\",\n",
        "    metrics = \"acc\"\n",
        "    )\n",
        "\n",
        "summary(model2)"
      ],
      "execution_count": 20,
      "outputs": [
        {
          "output_type": "stream",
          "text": [
            "Model: \"sequential_5\"\n",
            "________________________________________________________________________________\n",
            "Layer (type)                        Output Shape                    Param #     \n",
            "================================================================================\n",
            "conv2d_24 (Conv2D)                  (None, 254, 254, 32)            896         \n",
            "________________________________________________________________________________\n",
            "max_pooling2d_24 (MaxPooling2D)     (None, 127, 127, 32)            0           \n",
            "________________________________________________________________________________\n",
            "conv2d_23 (Conv2D)                  (None, 125, 125, 64)            18496       \n",
            "________________________________________________________________________________\n",
            "max_pooling2d_23 (MaxPooling2D)     (None, 62, 62, 64)              0           \n",
            "________________________________________________________________________________\n",
            "conv2d_22 (Conv2D)                  (None, 60, 60, 128)             73856       \n",
            "________________________________________________________________________________\n",
            "max_pooling2d_22 (MaxPooling2D)     (None, 30, 30, 128)             0           \n",
            "________________________________________________________________________________\n",
            "conv2d_21 (Conv2D)                  (None, 28, 28, 128)             147584      \n",
            "________________________________________________________________________________\n",
            "max_pooling2d_21 (MaxPooling2D)     (None, 14, 14, 128)             0           \n",
            "________________________________________________________________________________\n",
            "conv2d_20 (Conv2D)                  (None, 12, 12, 128)             147584      \n",
            "________________________________________________________________________________\n",
            "max_pooling2d_20 (MaxPooling2D)     (None, 6, 6, 128)               0           \n",
            "________________________________________________________________________________\n",
            "flatten_5 (Flatten)                 (None, 4608)                    0           \n",
            "________________________________________________________________________________\n",
            "dense_11 (Dense)                    (None, 512)                     2359808     \n",
            "________________________________________________________________________________\n",
            "dense_10 (Dense)                    (None, 5)                       2565        \n",
            "================================================================================\n",
            "Total params: 2,750,789\n",
            "Trainable params: 2,750,789\n",
            "Non-trainable params: 0\n",
            "________________________________________________________________________________\n"
          ],
          "name": "stdout"
        }
      ]
    },
    {
      "cell_type": "code",
      "metadata": {
        "colab": {
          "base_uri": "https://localhost:8080/",
          "height": 85
        },
        "id": "HR5BVh54kPYv",
        "outputId": "026476e5-4453-45c0-f750-a4214d3fd429"
      },
      "source": [
        "# first: how many images do we have?\n",
        "length(dir(\"train\", recursive = TRUE))\n",
        "\n",
        "# 2482, and we are using a batch size of 32, so we should use\n",
        "2482/32 #78 steps per epoch\n",
        "\n",
        "# how many validation images?\n",
        "length(dir(\"validation\", recursive = TRUE)) #825\n",
        "825/32 #26 validation steps"
      ],
      "execution_count": 21,
      "outputs": [
        {
          "output_type": "display_data",
          "data": {
            "text/plain": [
              "[1] 2482"
            ],
            "text/latex": "2482",
            "text/markdown": "2482",
            "text/html": [
              "2482"
            ]
          },
          "metadata": {
            "tags": []
          }
        },
        {
          "output_type": "display_data",
          "data": {
            "text/plain": [
              "[1] 77.5625"
            ],
            "text/latex": "77.5625",
            "text/markdown": "77.5625",
            "text/html": [
              "77.5625"
            ]
          },
          "metadata": {
            "tags": []
          }
        },
        {
          "output_type": "display_data",
          "data": {
            "text/plain": [
              "[1] 825"
            ],
            "text/latex": "825",
            "text/markdown": "825",
            "text/html": [
              "825"
            ]
          },
          "metadata": {
            "tags": []
          }
        },
        {
          "output_type": "display_data",
          "data": {
            "text/plain": [
              "[1] 25.78125"
            ],
            "text/latex": "25.78125",
            "text/markdown": "25.78125",
            "text/html": [
              "25.78125"
            ]
          },
          "metadata": {
            "tags": []
          }
        }
      ]
    },
    {
      "cell_type": "code",
      "metadata": {
        "colab": {
          "base_uri": "https://localhost:8080/",
          "height": 153
        },
        "id": "OcN4qKFtkPYx",
        "outputId": "6879f895-5957-455e-9d2c-d81830e912e3"
      },
      "source": [
        "system.time(history2 <- model2 %>% fit(\n",
        "        train_generator2,\n",
        "        steps_per_epoch = 78,\n",
        "        epochs = 30,\n",
        "        validation_data = validation_generator2,\n",
        "        validation_steps = 26))\n",
        "\n",
        "history2"
      ],
      "execution_count": 22,
      "outputs": [
        {
          "output_type": "display_data",
          "data": {
            "text/plain": [
              "   user  system elapsed \n",
              "396.006  45.980 336.075 "
            ]
          },
          "metadata": {
            "tags": []
          }
        },
        {
          "output_type": "display_data",
          "data": {
            "text/plain": [
              "\n",
              "Final epoch (plot to see history):\n",
              "    loss: 0.05112\n",
              "     acc: 0.9855\n",
              "val_loss: 5.232\n",
              " val_acc: 0.6473 "
            ]
          },
          "metadata": {
            "tags": []
          }
        }
      ]
    },
    {
      "cell_type": "code",
      "metadata": {
        "colab": {
          "base_uri": "https://localhost:8080/",
          "height": 471
        },
        "id": "7sgwY5adkPYy",
        "outputId": "27d69bef-5c77-49f8-8a0f-8832be89de8a"
      },
      "source": [
        "plot(history2)"
      ],
      "execution_count": 23,
      "outputs": [
        {
          "output_type": "stream",
          "text": [
            "`geom_smooth()` using formula 'y ~ x'\n",
            "\n"
          ],
          "name": "stderr"
        },
        {
          "output_type": "display_data",
          "data": {
            "image/png": "[encoded data removed]",
            "text/plain": [
              "plot without title"
            ]
          },
          "metadata": {
            "tags": [],
            "image/png": {
              "width": 420,
              "height": 420
            }
          }
        }
      ]
    },
    {
      "cell_type": "markdown",
      "metadata": {
        "id": "vQgugQbbndGG"
      },
      "source": [
        "Refit at 5 epochs"
      ]
    },
    {
      "cell_type": "code",
      "metadata": {
        "colab": {
          "base_uri": "https://localhost:8080/",
          "height": 153
        },
        "id": "CuPV4nrNnfMJ",
        "outputId": "72c98732-6b80-47a9-fef2-c6c76cb52b69"
      },
      "source": [
        "model2 <- keras_model_sequential() %>%\n",
        "    layer_conv_2d(filters = 32, kernel_size = c(3,3), activation = \"relu\", input_shape = c(256,256,3)) %>%\n",
        "    layer_max_pooling_2d(pool_size=c(2,2)) %>%\n",
        "    layer_conv_2d(filters = 64, kernel_size = c(3,3), activation = \"relu\") %>%\n",
        "    layer_max_pooling_2d(pool_size=c(2,2)) %>%\n",
        "    layer_conv_2d(filters = 128, kernel_size = c(3,3), activation = \"relu\") %>%\n",
        "    layer_max_pooling_2d(pool_size=c(2,2)) %>%\n",
        "    layer_conv_2d(filters = 128, kernel_size = c(3,3), activation = \"relu\") %>%\n",
        "    layer_max_pooling_2d(pool_size=c(2,2)) %>%\n",
        "    layer_conv_2d(filters = 128, kernel_size = c(3,3), activation = \"relu\") %>%\n",
        "    layer_max_pooling_2d(pool_size=c(2,2)) %>%\n",
        "    layer_flatten() %>%\n",
        "    layer_dense(units = 512, activation = \"relu\") %>%\n",
        "    layer_dense(units = length(flowers), activation = \"softmax\")\n",
        "\n",
        "# compile it\n",
        "model2 %>% compile(\n",
        "    loss = \"categorical_crossentropy\",\n",
        "    optimizer = \"rmsprop\",\n",
        "    metrics = \"acc\"\n",
        "    )\n",
        "\n",
        "system.time(history2 <- model2 %>% fit(\n",
        "        train_generator2,\n",
        "        steps_per_epoch = 78,\n",
        "        epochs = 5,\n",
        "        validation_data = validation_generator2,\n",
        "        validation_steps = 26))\n",
        "\n",
        "save_model_hdf5(model2, \"flowers_model2_ep5.hdf5\")\n",
        "drive_put(\"flowers_model2_ep5.hdf5\", \"DeepLearning/Flowers/flowers_model2_ep5.hdf5\")\n",
        "file.remove(\"flowers_model2_ep5.hdf5\")\n",
        "\n",
        "history2\n"
      ],
      "execution_count": 33,
      "outputs": [
        {
          "output_type": "display_data",
          "data": {
            "text/plain": [
              "   user  system elapsed \n",
              " 66.272   7.353  55.806 "
            ]
          },
          "metadata": {
            "tags": []
          }
        },
        {
          "output_type": "display_data",
          "data": {
            "text/plain": [
              "\n",
              "Final epoch (plot to see history):\n",
              "    loss: 0.7979\n",
              "     acc: 0.6906\n",
              "val_loss: 0.8985\n",
              " val_acc: 0.6691 "
            ]
          },
          "metadata": {
            "tags": []
          }
        }
      ]
    },
    {
      "cell_type": "code",
      "metadata": {
        "colab": {
          "base_uri": "https://localhost:8080/",
          "height": 34
        },
        "id": "hTlViW1gnpsc",
        "outputId": "cd549f06-620b-4bab-afe9-4c60bfb5c122"
      },
      "source": [
        "results2 <- model2 %>% evaluate(test_generator2)\n",
        "results2 %>% round(3)"
      ],
      "execution_count": 34,
      "outputs": [
        {
          "output_type": "display_data",
          "data": {
            "text/plain": [
              " loss   acc \n",
              "0.867 0.665 "
            ],
            "text/latex": "\\begin{description*}\n\\item[loss] 0.867\n\\item[acc] 0.665\n\\end{description*}\n",
            "text/markdown": "loss\n:   0.867acc\n:   0.665\n\n",
            "text/html": [
              "<style>\n",
              ".dl-inline {width: auto; margin:0; padding: 0}\n",
              ".dl-inline>dt, .dl-inline>dd {float: none; width: auto; display: inline-block}\n",
              ".dl-inline>dt::after {content: \":\\0020\"; padding-right: .5ex}\n",
              ".dl-inline>dt:not(:first-of-type) {padding-left: .5ex}\n",
              "</style><dl class=dl-inline><dt>loss</dt><dd>0.867</dd><dt>acc</dt><dd>0.665</dd></dl>\n"
            ]
          },
          "metadata": {
            "tags": []
          }
        }
      ]
    },
    {
      "cell_type": "code",
      "metadata": {
        "id": "s8X3RSCZkPYz"
      },
      "source": [
        ""
      ],
      "execution_count": 24,
      "outputs": []
    },
    {
      "cell_type": "markdown",
      "metadata": {
        "id": "yPbeUSfb7q3Y"
      },
      "source": [
        "## Set up image generators 3: augmentation\n",
        "\n",
        "Like model 2, but with augmentation"
      ]
    },
    {
      "cell_type": "code",
      "metadata": {
        "id": "5Fp2KrE87q3k"
      },
      "source": [
        "rescale_datagen <- image_data_generator(rescale = 1/255)\n",
        "\n",
        "augment_datagen <- image_data_generator(rescale = 1/255,\n",
        "  rotation_range=90,\n",
        "  width_shift_range=.2,\n",
        "  height_shift_range=.2,\n",
        "  shear_range=.2,\n",
        "  zoom_range=.2,\n",
        "  horizontal_flip=TRUE)\n",
        "\n",
        "train_generator3 <- flow_images_from_directory(\n",
        "    \"train\",\n",
        "    augment_datagen,\n",
        "    batch_size=32,\n",
        "    target_size=c(256,256)\n",
        ")\n",
        "\n",
        "validation_generator3 <- flow_images_from_directory(\n",
        "    \"validation\",\n",
        "    rescale_datagen,\n",
        "    batch_size=32,\n",
        "    target_size=c(256,256)\n",
        ")\n",
        "\n",
        "test_generator3 <- flow_images_from_directory(\n",
        "    \"test\",\n",
        "    rescale_datagen,\n",
        "    batch_size=32,\n",
        "    target_size=c(256,256)\n",
        "\n",
        ")"
      ],
      "execution_count": 18,
      "outputs": []
    },
    {
      "cell_type": "markdown",
      "metadata": {
        "id": "P3drqbY57q3l"
      },
      "source": [
        "## Set up Model 3"
      ]
    },
    {
      "cell_type": "code",
      "metadata": {
        "colab": {
          "base_uri": "https://localhost:8080/"
        },
        "id": "k5vizl4D7q3l",
        "outputId": "0c345519-2cf4-443d-a8d5-747b47808509"
      },
      "source": [
        "model3 <- keras_model_sequential() %>%\n",
        "    layer_conv_2d(filters = 32, kernel_size = c(3,3), activation = \"relu\", input_shape = c(256,256,3)) %>%\n",
        "    layer_max_pooling_2d(pool_size=c(2,2)) %>%\n",
        "    layer_conv_2d(filters = 64, kernel_size = c(3,3), activation = \"relu\") %>%\n",
        "    layer_max_pooling_2d(pool_size=c(2,2)) %>%\n",
        "    layer_conv_2d(filters = 128, kernel_size = c(3,3), activation = \"relu\") %>%\n",
        "    layer_max_pooling_2d(pool_size=c(2,2)) %>%\n",
        "    layer_conv_2d(filters = 128, kernel_size = c(3,3), activation = \"relu\") %>%\n",
        "    layer_max_pooling_2d(pool_size=c(2,2)) %>%\n",
        "    layer_conv_2d(filters = 128, kernel_size = c(3,3), activation = \"relu\") %>%\n",
        "    layer_max_pooling_2d(pool_size=c(2,2)) %>%\n",
        "    layer_flatten() %>%\n",
        "    layer_dense(units = 512, activation = \"relu\") %>%\n",
        "    layer_dense(units = length(flowers), activation = \"softmax\")\n",
        "\n",
        "# compile it\n",
        "model3 %>% compile(\n",
        "    loss = \"categorical_crossentropy\",\n",
        "    optimizer = \"rmsprop\",\n",
        "    metrics = \"acc\"\n",
        "    )\n",
        "\n",
        "summary(model3)"
      ],
      "execution_count": 19,
      "outputs": [
        {
          "output_type": "stream",
          "text": [
            "Model: \"sequential_1\"\n",
            "________________________________________________________________________________\n",
            "Layer (type)                        Output Shape                    Param #     \n",
            "================================================================================\n",
            "conv2d_8 (Conv2D)                   (None, 254, 254, 32)            896         \n",
            "________________________________________________________________________________\n",
            "max_pooling2d_8 (MaxPooling2D)      (None, 127, 127, 32)            0           \n",
            "________________________________________________________________________________\n",
            "conv2d_7 (Conv2D)                   (None, 125, 125, 64)            18496       \n",
            "________________________________________________________________________________\n",
            "max_pooling2d_7 (MaxPooling2D)      (None, 62, 62, 64)              0           \n",
            "________________________________________________________________________________\n",
            "conv2d_6 (Conv2D)                   (None, 60, 60, 128)             73856       \n",
            "________________________________________________________________________________\n",
            "max_pooling2d_6 (MaxPooling2D)      (None, 30, 30, 128)             0           \n",
            "________________________________________________________________________________\n",
            "conv2d_5 (Conv2D)                   (None, 28, 28, 128)             147584      \n",
            "________________________________________________________________________________\n",
            "max_pooling2d_5 (MaxPooling2D)      (None, 14, 14, 128)             0           \n",
            "________________________________________________________________________________\n",
            "conv2d_4 (Conv2D)                   (None, 12, 12, 128)             147584      \n",
            "________________________________________________________________________________\n",
            "max_pooling2d_4 (MaxPooling2D)      (None, 6, 6, 128)               0           \n",
            "________________________________________________________________________________\n",
            "flatten_1 (Flatten)                 (None, 4608)                    0           \n",
            "________________________________________________________________________________\n",
            "dense_3 (Dense)                     (None, 512)                     2359808     \n",
            "________________________________________________________________________________\n",
            "dense_2 (Dense)                     (None, 5)                       2565        \n",
            "================================================================================\n",
            "Total params: 2,750,789\n",
            "Trainable params: 2,750,789\n",
            "Non-trainable params: 0\n",
            "________________________________________________________________________________\n"
          ],
          "name": "stdout"
        }
      ]
    },
    {
      "cell_type": "markdown",
      "metadata": {
        "id": "XPuSrKVy5e6j"
      },
      "source": [
        "### Train the model.  Here I am going to save it out every 5 epochs.\n",
        "\n",
        "Previous runs showed that it was still improving at epoch 50, so will run 150 and save every 5 so that I don't need to refit."
      ]
    },
    {
      "cell_type": "code",
      "metadata": {
        "colab": {
          "base_uri": "https://localhost:8080/"
        },
        "id": "IdBpWwov7q3m",
        "outputId": "ea18f2d1-8ed0-49a1-8900-f037aa528d05"
      },
      "source": [
        "total_epochs <- 150\n",
        "save_interval <- 5\n",
        "\n",
        "save_seq <- seq(from=save_interval, to=total_epochs, by=save_interval)\n",
        "\n",
        "history3_list <- list()\n",
        "\n",
        "system.time(for(i in save_seq) {\n",
        "  history3_tmp <- model3 %>% fit(\n",
        "        train_generator3,\n",
        "        steps_per_epoch = 78,\n",
        "        epochs = save_interval,\n",
        "        validation_data = validation_generator3,\n",
        "        validation_steps = 26)\n",
        "\n",
        "  history3_list[[i/save_interval]] <- history3_tmp$metrics # all we need is metrics\n",
        "\n",
        "  file_name <- str_c(\"flowers_model3_ep\", i, \".hdf5\")\n",
        "  save_model_hdf5(model3, file_name)\n",
        "  drive_put(file_name, str_c(\"DeepLearning/Flowers/\", file_name), verbose=FALSE)\n",
        "  file.remove(file_name)\n",
        "})\n",
        "\n",
        "save(history3_list, \"history3_list.Rdata\")\n",
        "drive_put(\"history3_list.Rdata\", \"DeepLearning/Flowers/history3_list.Rdata\")"
      ],
      "execution_count": null,
      "outputs": [
        {
          "output_type": "stream",
          "text": [
            "No pre-existing file at this filepath. Calling `drive_upload()`.\n",
            "\n",
            "Local file:\n",
            "  * flowers_model3_ep5.hdf5\n",
            "uploaded into Drive file:\n",
            "  * flowers_model3_ep5.hdf5: 1aUGkOBy7r5QgPOs5cSrsSR1UCO9_TjTC\n",
            "with MIME type:\n",
            "  * application/octet-stream\n",
            "\n",
            "No pre-existing file at this filepath. Calling `drive_upload()`.\n",
            "\n",
            "Local file:\n",
            "  * flowers_model3_ep10.hdf5\n",
            "uploaded into Drive file:\n",
            "  * flowers_model3_ep10.hdf5: 1wQgKwRuLuzmNWcRJ_XX8_wWuJGiTa9y2\n",
            "with MIME type:\n",
            "  * application/octet-stream\n",
            "\n",
            "No pre-existing file at this filepath. Calling `drive_upload()`.\n",
            "\n",
            "Local file:\n",
            "  * flowers_model3_ep15.hdf5\n",
            "uploaded into Drive file:\n",
            "  * flowers_model3_ep15.hdf5: 1q7yVvfX48aKoI58YpwQVLPaiKqHaz3nV\n",
            "with MIME type:\n",
            "  * application/octet-stream\n",
            "\n",
            "No pre-existing file at this filepath. Calling `drive_upload()`.\n",
            "\n",
            "Local file:\n",
            "  * flowers_model3_ep20.hdf5\n",
            "uploaded into Drive file:\n",
            "  * flowers_model3_ep20.hdf5: 1fe2FypRAHzoQxDvti75wcEHg--8Jkg4t\n",
            "with MIME type:\n",
            "  * application/octet-stream\n",
            "\n",
            "No pre-existing file at this filepath. Calling `drive_upload()`.\n",
            "\n",
            "Local file:\n",
            "  * flowers_model3_ep25.hdf5\n",
            "uploaded into Drive file:\n",
            "  * flowers_model3_ep25.hdf5: 1kA5AcbY3VFWPEooJ4PlXsqU6PfGJ33WV\n",
            "with MIME type:\n",
            "  * application/octet-stream\n",
            "\n",
            "No pre-existing file at this filepath. Calling `drive_upload()`.\n",
            "\n",
            "Local file:\n",
            "  * flowers_model3_ep30.hdf5\n",
            "uploaded into Drive file:\n",
            "  * flowers_model3_ep30.hdf5: 1S7i3Cv8wMfXfVfNr-Nr2WIV7Gmv8x7wA\n",
            "with MIME type:\n",
            "  * application/octet-stream\n",
            "\n",
            "No pre-existing file at this filepath. Calling `drive_upload()`.\n",
            "\n",
            "Local file:\n",
            "  * flowers_model3_ep35.hdf5\n",
            "uploaded into Drive file:\n",
            "  * flowers_model3_ep35.hdf5: 1-4RqxTBXJKHi2q72dK1oalu3HNdSnmAt\n",
            "with MIME type:\n",
            "  * application/octet-stream\n",
            "\n",
            "No pre-existing file at this filepath. Calling `drive_upload()`.\n",
            "\n",
            "Local file:\n",
            "  * flowers_model3_ep40.hdf5\n",
            "uploaded into Drive file:\n",
            "  * flowers_model3_ep40.hdf5: 1IDkFNaVEdNre6RHFbRt_iWpj7dwMKqCE\n",
            "with MIME type:\n",
            "  * application/octet-stream\n",
            "\n",
            "Auto-refreshing stale OAuth token.\n",
            "\n",
            "No pre-existing file at this filepath. Calling `drive_upload()`.\n",
            "\n",
            "Local file:\n",
            "  * flowers_model3_ep45.hdf5\n",
            "uploaded into Drive file:\n",
            "  * flowers_model3_ep45.hdf5: 1uqAhfqRffgmoJmfyRE5PDesfs4zrzgl3\n",
            "with MIME type:\n",
            "  * application/octet-stream\n",
            "\n",
            "No pre-existing file at this filepath. Calling `drive_upload()`.\n",
            "\n",
            "Local file:\n",
            "  * flowers_model3_ep50.hdf5\n",
            "uploaded into Drive file:\n",
            "  * flowers_model3_ep50.hdf5: 1Gp6c2NR3WJ-U1bH-D80DejjsqRXaLeKV\n",
            "with MIME type:\n",
            "  * application/octet-stream\n",
            "\n",
            "No pre-existing file at this filepath. Calling `drive_upload()`.\n",
            "\n",
            "Local file:\n",
            "  * flowers_model3_ep55.hdf5\n",
            "uploaded into Drive file:\n",
            "  * flowers_model3_ep55.hdf5: 1jr0rnTJQ6UrKFcO0sfcMAnTARHFOF1EF\n",
            "with MIME type:\n",
            "  * application/octet-stream\n",
            "\n",
            "No pre-existing file at this filepath. Calling `drive_upload()`.\n",
            "\n",
            "Local file:\n",
            "  * flowers_model3_ep60.hdf5\n",
            "uploaded into Drive file:\n",
            "  * flowers_model3_ep60.hdf5: 11HHJJY5Nvt9iP0II7vDRjqrITbAM2jr9\n",
            "with MIME type:\n",
            "  * application/octet-stream\n",
            "\n",
            "No pre-existing file at this filepath. Calling `drive_upload()`.\n",
            "\n",
            "Local file:\n",
            "  * flowers_model3_ep65.hdf5\n",
            "uploaded into Drive file:\n",
            "  * flowers_model3_ep65.hdf5: 1bohYKdiClF2wuDbWAg0_5herL6ab4xwX\n",
            "with MIME type:\n",
            "  * application/octet-stream\n",
            "\n",
            "No pre-existing file at this filepath. Calling `drive_upload()`.\n",
            "\n",
            "Local file:\n",
            "  * flowers_model3_ep70.hdf5\n",
            "uploaded into Drive file:\n",
            "  * flowers_model3_ep70.hdf5: 1CP67ApK2ZcSiIK2FUyywH12TrFIOSOuD\n",
            "with MIME type:\n",
            "  * application/octet-stream\n",
            "\n",
            "No pre-existing file at this filepath. Calling `drive_upload()`.\n",
            "\n",
            "Local file:\n",
            "  * flowers_model3_ep75.hdf5\n",
            "uploaded into Drive file:\n",
            "  * flowers_model3_ep75.hdf5: 11yql0B4lIGHx_G9GQpSXG-jbr4MZXeIL\n",
            "with MIME type:\n",
            "  * application/octet-stream\n",
            "\n",
            "No pre-existing file at this filepath. Calling `drive_upload()`.\n",
            "\n",
            "Local file:\n",
            "  * flowers_model3_ep80.hdf5\n",
            "uploaded into Drive file:\n",
            "  * flowers_model3_ep80.hdf5: 17ImMJd2cSHGEpX4Z7kgUHL6h0M7Aa2DL\n",
            "with MIME type:\n",
            "  * application/octet-stream\n",
            "\n",
            "No pre-existing file at this filepath. Calling `drive_upload()`.\n",
            "\n",
            "Local file:\n",
            "  * flowers_model3_ep85.hdf5\n",
            "uploaded into Drive file:\n",
            "  * flowers_model3_ep85.hdf5: 1eS764EitvV5axwjKQt6UZdNuMWMRVG7c\n",
            "with MIME type:\n",
            "  * application/octet-stream\n",
            "\n",
            "No pre-existing file at this filepath. Calling `drive_upload()`.\n",
            "\n",
            "Local file:\n",
            "  * flowers_model3_ep90.hdf5\n",
            "uploaded into Drive file:\n",
            "  * flowers_model3_ep90.hdf5: 1qX40XCNOBzXchatpey1Iq93fCtO2JpK7\n",
            "with MIME type:\n",
            "  * application/octet-stream\n",
            "\n",
            "No pre-existing file at this filepath. Calling `drive_upload()`.\n",
            "\n",
            "Local file:\n",
            "  * flowers_model3_ep95.hdf5\n",
            "uploaded into Drive file:\n",
            "  * flowers_model3_ep95.hdf5: 17CWGjm18zorqBB9MLTC-NDml6TtkVQ_D\n",
            "with MIME type:\n",
            "  * application/octet-stream\n",
            "\n",
            "No pre-existing file at this filepath. Calling `drive_upload()`.\n",
            "\n",
            "Local file:\n",
            "  * flowers_model3_ep100.hdf5\n",
            "uploaded into Drive file:\n",
            "  * flowers_model3_ep100.hdf5: 1AEanbuZjXTtX4K0C5nZlfTP4xSL7uteT\n",
            "with MIME type:\n",
            "  * application/octet-stream\n",
            "\n",
            "No pre-existing file at this filepath. Calling `drive_upload()`.\n",
            "\n",
            "Local file:\n",
            "  * flowers_model3_ep105.hdf5\n",
            "uploaded into Drive file:\n",
            "  * flowers_model3_ep105.hdf5: 1INT4XPFMcOlmkItL97AkoepwwhEH_kb5\n",
            "with MIME type:\n",
            "  * application/octet-stream\n",
            "\n",
            "Auto-refreshing stale OAuth token.\n",
            "\n",
            "No pre-existing file at this filepath. Calling `drive_upload()`.\n",
            "\n",
            "Local file:\n",
            "  * flowers_model3_ep110.hdf5\n",
            "uploaded into Drive file:\n",
            "  * flowers_model3_ep110.hdf5: 1ysF5Hqmao8LEJ1nWu-wEJqDY8ssSCnB3\n",
            "with MIME type:\n",
            "  * application/octet-stream\n",
            "\n",
            "No pre-existing file at this filepath. Calling `drive_upload()`.\n",
            "\n",
            "Local file:\n",
            "  * flowers_model3_ep115.hdf5\n",
            "uploaded into Drive file:\n",
            "  * flowers_model3_ep115.hdf5: 19mlZWQ5cZI9hm32Zxi9eRO9ZOfUhiKXV\n",
            "with MIME type:\n",
            "  * application/octet-stream\n",
            "\n",
            "No pre-existing file at this filepath. Calling `drive_upload()`.\n",
            "\n",
            "Local file:\n",
            "  * flowers_model3_ep120.hdf5\n",
            "uploaded into Drive file:\n",
            "  * flowers_model3_ep120.hdf5: 1hnqwmRPxkyRY6VMsajKoHrZohP8vsNFd\n",
            "with MIME type:\n",
            "  * application/octet-stream\n",
            "\n",
            "No pre-existing file at this filepath. Calling `drive_upload()`.\n",
            "\n",
            "Local file:\n",
            "  * flowers_model3_ep125.hdf5\n",
            "uploaded into Drive file:\n",
            "  * flowers_model3_ep125.hdf5: 1fW-g477bc0AyovkKpb8uePa3r6nzk2DC\n",
            "with MIME type:\n",
            "  * application/octet-stream\n",
            "\n",
            "No pre-existing file at this filepath. Calling `drive_upload()`.\n",
            "\n",
            "Local file:\n",
            "  * flowers_model3_ep130.hdf5\n",
            "uploaded into Drive file:\n",
            "  * flowers_model3_ep130.hdf5: 1HB-ZtC1JDG4Mqmt-cg56RgO_oPyzln7T\n",
            "with MIME type:\n",
            "  * application/octet-stream\n",
            "\n",
            "No pre-existing file at this filepath. Calling `drive_upload()`.\n",
            "\n",
            "Local file:\n",
            "  * flowers_model3_ep135.hdf5\n",
            "uploaded into Drive file:\n",
            "  * flowers_model3_ep135.hdf5: 1dWGs3k1IjhvHlx1POlXIPtmGOI4Qs4N9\n",
            "with MIME type:\n",
            "  * application/octet-stream\n",
            "\n",
            "No pre-existing file at this filepath. Calling `drive_upload()`.\n",
            "\n",
            "Local file:\n",
            "  * flowers_model3_ep140.hdf5\n",
            "uploaded into Drive file:\n",
            "  * flowers_model3_ep140.hdf5: 1_qkmWCF39mqpWpgGr4GRIb4ncA-KWrq8\n",
            "with MIME type:\n",
            "  * application/octet-stream\n",
            "\n",
            "No pre-existing file at this filepath. Calling `drive_upload()`.\n",
            "\n",
            "Local file:\n",
            "  * flowers_model3_ep145.hdf5\n",
            "uploaded into Drive file:\n",
            "  * flowers_model3_ep145.hdf5: 15kWiMWCPHqgyOU-Ryg2G6TO204JVxI7l\n",
            "with MIME type:\n",
            "  * application/octet-stream\n",
            "\n"
          ],
          "name": "stderr"
        }
      ]
    },
    {
      "cell_type": "code",
      "metadata": {
        "colab": {
          "base_uri": "https://localhost:8080/",
          "height": 130
        },
        "id": "elOpFhDM7cm7",
        "outputId": "e6449379-a94c-4ca1-e204-87a4d86f26f7"
      },
      "source": [
        "str(history3_list)"
      ],
      "execution_count": 1,
      "outputs": [
        {
          "output_type": "error",
          "ename": "ERROR",
          "evalue": "ignored",
          "traceback": [
            "Error in str(history3_list): object 'history3_list' not found\nTraceback:\n",
            "1. str(history3_list)"
          ]
        }
      ]
    },
    {
      "cell_type": "code",
      "metadata": {
        "colab": {
          "base_uri": "https://localhost:8080/",
          "height": 573
        },
        "id": "ATrlLoT67q3n",
        "outputId": "eaccd8dc-5270-4d40-c377-4995706aeff8"
      },
      "source": [
        "history3\n",
        "plot(history3)"
      ],
      "execution_count": 41,
      "outputs": [
        {
          "output_type": "display_data",
          "data": {
            "text/plain": [
              "\n",
              "Final epoch (plot to see history):\n",
              "    loss: 0.5948\n",
              "     acc: 0.7909\n",
              "val_loss: 0.626\n",
              " val_acc: 0.7939 "
            ]
          },
          "metadata": {
            "tags": []
          }
        },
        {
          "output_type": "stream",
          "text": [
            "`geom_smooth()` using formula 'y ~ x'\n",
            "\n"
          ],
          "name": "stderr"
        },
        {
          "output_type": "display_data",
          "data": {
            "image/png": "[encoded data removed]",
            "text/plain": [
              "plot without title"
            ]
          },
          "metadata": {
            "tags": [],
            "image/png": {
              "width": 420,
              "height": 420
            }
          }
        }
      ]
    },
    {
      "cell_type": "code",
      "metadata": {
        "colab": {
          "base_uri": "https://localhost:8080/",
          "height": 34
        },
        "id": "d0wjp7Uuof8A",
        "outputId": "64b0d0a3-6924-4787-ee19-d28d465727f3"
      },
      "source": [
        "results3 <- model3 %>% evaluate(test_generator3)\n",
        "results3 %>% round(3)"
      ],
      "execution_count": 42,
      "outputs": [
        {
          "output_type": "display_data",
          "data": {
            "text/plain": [
              " loss   acc \n",
              "0.552 0.796 "
            ],
            "text/latex": "\\begin{description*}\n\\item[loss] 0.552\n\\item[acc] 0.796\n\\end{description*}\n",
            "text/markdown": "loss\n:   0.552acc\n:   0.796\n\n",
            "text/html": [
              "<style>\n",
              ".dl-inline {width: auto; margin:0; padding: 0}\n",
              ".dl-inline>dt, .dl-inline>dd {float: none; width: auto; display: inline-block}\n",
              ".dl-inline>dt::after {content: \":\\0020\"; padding-right: .5ex}\n",
              ".dl-inline>dt:not(:first-of-type) {padding-left: .5ex}\n",
              "</style><dl class=dl-inline><dt>loss</dt><dd>0.552</dd><dt>acc</dt><dd>0.796</dd></dl>\n"
            ]
          },
          "metadata": {
            "tags": []
          }
        }
      ]
    },
    {
      "cell_type": "markdown",
      "metadata": {
        "id": "apc4_Tdsx1AC"
      },
      "source": [
        "Validation accuracy still going up, train it some more:"
      ]
    },
    {
      "cell_type": "code",
      "metadata": {
        "id": "L2uS7M8BxNsL"
      },
      "source": [
        "# train it some more\n",
        "\n",
        "system.time(history3.2 <- model3 %>% fit(\n",
        "        train_generator3,\n",
        "        steps_per_epoch = 78,\n",
        "        epochs = 100,\n",
        "        validation_data = validation_generator3,\n",
        "        validation_steps = 26))"
      ],
      "execution_count": null,
      "outputs": []
    },
    {
      "cell_type": "code",
      "metadata": {
        "colab": {
          "base_uri": "https://localhost:8080/",
          "height": 147
        },
        "id": "SEY92nFFxWFV",
        "outputId": "5b9e5749-b046-475b-9896-af953cfc3169"
      },
      "source": [
        "history(3.2)\n",
        "plot(3.2)\n"
      ],
      "execution_count": 1,
      "outputs": [
        {
          "output_type": "error",
          "ename": "ERROR",
          "evalue": "ignored",
          "traceback": [
            "Error in .External2(C_savehistory, file): no history available to save\nTraceback:\n",
            "1. history(3.2)",
            "2. savehistory(file1)"
          ]
        }
      ]
    },
    {
      "cell_type": "code",
      "metadata": {
        "id": "XbQS8z-oxvis"
      },
      "source": [
        "results3.2 <- model3 %>% evaluate(test_generator3)\n",
        "results3.2 %>% round(3)"
      ],
      "execution_count": null,
      "outputs": []
    },
    {
      "cell_type": "markdown",
      "metadata": {
        "id": "K0RhQYrRotcZ"
      },
      "source": [
        "## Next steps:\n",
        "\n",
        "dropout layers and/or regularization"
      ]
    },
    {
      "cell_type": "code",
      "metadata": {
        "id": "fwBWcJaOotBT"
      },
      "source": [
        ""
      ],
      "execution_count": null,
      "outputs": []
    }
  ]
}